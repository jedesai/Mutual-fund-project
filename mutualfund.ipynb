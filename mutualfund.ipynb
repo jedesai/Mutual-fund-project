{
 "cells": [
  {
   "cell_type": "markdown",
   "metadata": {},
   "source": [
    "# Mutual Fund Plan"
   ]
  },
  {
   "cell_type": "markdown",
   "metadata": {},
   "source": [
    "##### Mutual funds are investment plans that pool money from multiple investors to purchase a diversified portfolio of stocks, bonds, and other securities, managed by professional fund managers. A mutual fund plan is created by selecting the stocks where an investor can benefit in the long term. "
   ]
  },
  {
   "cell_type": "markdown",
   "metadata": {},
   "source": [
    "A mutual fund plan is created by selecting the stocks where an investor can benefit in the long term. we can follow below process to create a mutual fund plan:"
   ]
  },
  {
   "cell_type": "markdown",
   "metadata": {},
   "source": [
    "- Step 1. Gather historical stock data, such as closing prices and growth trends over time.\n",
    "- Step 2: Calculate key metrics like Return on Investment (ROI) and volatility (risk) to understand how each stock has performed historically.\n",
    "- Step 3: Choose stocks that have a high ROI and low volatility to ensure a balance between risk and reward.\n",
    "- Step 4: Calculate the future value of monthly investments based on the expected ROI of the selected stocks."
   ]
  },
  {
   "cell_type": "code",
   "execution_count": 1,
   "metadata": {},
   "outputs": [],
   "source": [
    "# Importing requried libraries\n",
    "import pandas as pd\n",
    "import numpy as np\n",
    "import plotly.express as px\n",
    "import plotly.graph_objs as go\n",
    "import matplotlib.pyplot as plt\n",
    "import seaborn as sns"
   ]
  },
  {
   "cell_type": "code",
   "execution_count": 2,
   "metadata": {},
   "outputs": [
    {
     "data": {
      "text/html": [
       "<div>\n",
       "<style scoped>\n",
       "    .dataframe tbody tr th:only-of-type {\n",
       "        vertical-align: middle;\n",
       "    }\n",
       "\n",
       "    .dataframe tbody tr th {\n",
       "        vertical-align: top;\n",
       "    }\n",
       "\n",
       "    .dataframe thead th {\n",
       "        text-align: right;\n",
       "    }\n",
       "</style>\n",
       "<table border=\"1\" class=\"dataframe\">\n",
       "  <thead>\n",
       "    <tr style=\"text-align: right;\">\n",
       "      <th></th>\n",
       "      <th>Date</th>\n",
       "      <th>RELIANCE.NS</th>\n",
       "      <th>HDFCBANK.NS</th>\n",
       "      <th>ICICIBANK.NS</th>\n",
       "      <th>INFY.NS</th>\n",
       "      <th>TCS.NS</th>\n",
       "      <th>KOTAKBANK.NS</th>\n",
       "      <th>HINDUNILVR.NS</th>\n",
       "      <th>ITC.NS</th>\n",
       "      <th>LT.NS</th>\n",
       "      <th>...</th>\n",
       "      <th>HEROMOTOCO.NS</th>\n",
       "      <th>DRREDDY.NS</th>\n",
       "      <th>SHREECEM.NS</th>\n",
       "      <th>BRITANNIA.NS</th>\n",
       "      <th>UPL.NS</th>\n",
       "      <th>EICHERMOT.NS</th>\n",
       "      <th>SBILIFE.NS</th>\n",
       "      <th>ADANIPORTS.NS</th>\n",
       "      <th>BAJAJ-AUTO.NS</th>\n",
       "      <th>HINDALCO.NS</th>\n",
       "    </tr>\n",
       "  </thead>\n",
       "  <tbody>\n",
       "    <tr>\n",
       "      <th>0</th>\n",
       "      <td>2024-08-20 00:00:00+05:30</td>\n",
       "      <td>2991.899902</td>\n",
       "      <td>1637.699951</td>\n",
       "      <td>1179.449951</td>\n",
       "      <td>1872.199951</td>\n",
       "      <td>4523.299805</td>\n",
       "      <td>1805.650024</td>\n",
       "      <td>2751.050049</td>\n",
       "      <td>498.799988</td>\n",
       "      <td>3572.699951</td>\n",
       "      <td>...</td>\n",
       "      <td>5244.399902</td>\n",
       "      <td>6965.350098</td>\n",
       "      <td>24730.550781</td>\n",
       "      <td>5765.799805</td>\n",
       "      <td>566.150024</td>\n",
       "      <td>4883.250000</td>\n",
       "      <td>1761.300049</td>\n",
       "      <td>1492.550049</td>\n",
       "      <td>9779.700195</td>\n",
       "      <td>672.900024</td>\n",
       "    </tr>\n",
       "    <tr>\n",
       "      <th>1</th>\n",
       "      <td>2024-08-21 00:00:00+05:30</td>\n",
       "      <td>2997.350098</td>\n",
       "      <td>1625.800049</td>\n",
       "      <td>1174.849976</td>\n",
       "      <td>1872.699951</td>\n",
       "      <td>4551.500000</td>\n",
       "      <td>1812.949951</td>\n",
       "      <td>2791.199951</td>\n",
       "      <td>505.399994</td>\n",
       "      <td>3596.050049</td>\n",
       "      <td>...</td>\n",
       "      <td>5284.700195</td>\n",
       "      <td>7062.450195</td>\n",
       "      <td>24808.050781</td>\n",
       "      <td>5837.350098</td>\n",
       "      <td>568.299988</td>\n",
       "      <td>4913.549805</td>\n",
       "      <td>1800.599976</td>\n",
       "      <td>1503.500000</td>\n",
       "      <td>9852.000000</td>\n",
       "      <td>685.599976</td>\n",
       "    </tr>\n",
       "    <tr>\n",
       "      <th>2</th>\n",
       "      <td>2024-08-22 00:00:00+05:30</td>\n",
       "      <td>2996.250000</td>\n",
       "      <td>1631.300049</td>\n",
       "      <td>1191.099976</td>\n",
       "      <td>1880.250000</td>\n",
       "      <td>4502.000000</td>\n",
       "      <td>1821.500000</td>\n",
       "      <td>2792.800049</td>\n",
       "      <td>504.549988</td>\n",
       "      <td>3606.500000</td>\n",
       "      <td>...</td>\n",
       "      <td>5329.950195</td>\n",
       "      <td>6969.049805</td>\n",
       "      <td>25012.400391</td>\n",
       "      <td>5836.799805</td>\n",
       "      <td>579.150024</td>\n",
       "      <td>4933.549805</td>\n",
       "      <td>1795.250000</td>\n",
       "      <td>1492.300049</td>\n",
       "      <td>9914.200195</td>\n",
       "      <td>685.549988</td>\n",
       "    </tr>\n",
       "    <tr>\n",
       "      <th>3</th>\n",
       "      <td>2024-08-23 00:00:00+05:30</td>\n",
       "      <td>2999.949951</td>\n",
       "      <td>1625.050049</td>\n",
       "      <td>1203.500000</td>\n",
       "      <td>1862.099976</td>\n",
       "      <td>4463.899902</td>\n",
       "      <td>1818.000000</td>\n",
       "      <td>2815.600098</td>\n",
       "      <td>505.799988</td>\n",
       "      <td>3598.550049</td>\n",
       "      <td>...</td>\n",
       "      <td>5384.899902</td>\n",
       "      <td>6954.500000</td>\n",
       "      <td>24706.050781</td>\n",
       "      <td>5792.649902</td>\n",
       "      <td>573.700012</td>\n",
       "      <td>4898.100098</td>\n",
       "      <td>1789.300049</td>\n",
       "      <td>1491.300049</td>\n",
       "      <td>10406.450195</td>\n",
       "      <td>685.099976</td>\n",
       "    </tr>\n",
       "    <tr>\n",
       "      <th>4</th>\n",
       "      <td>2024-08-26 00:00:00+05:30</td>\n",
       "      <td>3025.199951</td>\n",
       "      <td>1639.949951</td>\n",
       "      <td>1213.300049</td>\n",
       "      <td>1876.150024</td>\n",
       "      <td>4502.450195</td>\n",
       "      <td>1812.500000</td>\n",
       "      <td>2821.149902</td>\n",
       "      <td>505.700012</td>\n",
       "      <td>3641.899902</td>\n",
       "      <td>...</td>\n",
       "      <td>5343.750000</td>\n",
       "      <td>6943.299805</td>\n",
       "      <td>24906.449219</td>\n",
       "      <td>5796.950195</td>\n",
       "      <td>577.450012</td>\n",
       "      <td>4875.200195</td>\n",
       "      <td>1796.250000</td>\n",
       "      <td>1482.550049</td>\n",
       "      <td>10432.549805</td>\n",
       "      <td>711.849976</td>\n",
       "    </tr>\n",
       "  </tbody>\n",
       "</table>\n",
       "<p>5 rows × 51 columns</p>\n",
       "</div>"
      ],
      "text/plain": [
       "                        Date  RELIANCE.NS  HDFCBANK.NS  ICICIBANK.NS  \\\n",
       "0  2024-08-20 00:00:00+05:30  2991.899902  1637.699951   1179.449951   \n",
       "1  2024-08-21 00:00:00+05:30  2997.350098  1625.800049   1174.849976   \n",
       "2  2024-08-22 00:00:00+05:30  2996.250000  1631.300049   1191.099976   \n",
       "3  2024-08-23 00:00:00+05:30  2999.949951  1625.050049   1203.500000   \n",
       "4  2024-08-26 00:00:00+05:30  3025.199951  1639.949951   1213.300049   \n",
       "\n",
       "       INFY.NS       TCS.NS  KOTAKBANK.NS  HINDUNILVR.NS      ITC.NS  \\\n",
       "0  1872.199951  4523.299805   1805.650024    2751.050049  498.799988   \n",
       "1  1872.699951  4551.500000   1812.949951    2791.199951  505.399994   \n",
       "2  1880.250000  4502.000000   1821.500000    2792.800049  504.549988   \n",
       "3  1862.099976  4463.899902   1818.000000    2815.600098  505.799988   \n",
       "4  1876.150024  4502.450195   1812.500000    2821.149902  505.700012   \n",
       "\n",
       "         LT.NS  ...  HEROMOTOCO.NS   DRREDDY.NS   SHREECEM.NS  BRITANNIA.NS  \\\n",
       "0  3572.699951  ...    5244.399902  6965.350098  24730.550781   5765.799805   \n",
       "1  3596.050049  ...    5284.700195  7062.450195  24808.050781   5837.350098   \n",
       "2  3606.500000  ...    5329.950195  6969.049805  25012.400391   5836.799805   \n",
       "3  3598.550049  ...    5384.899902  6954.500000  24706.050781   5792.649902   \n",
       "4  3641.899902  ...    5343.750000  6943.299805  24906.449219   5796.950195   \n",
       "\n",
       "       UPL.NS  EICHERMOT.NS   SBILIFE.NS  ADANIPORTS.NS  BAJAJ-AUTO.NS  \\\n",
       "0  566.150024   4883.250000  1761.300049    1492.550049    9779.700195   \n",
       "1  568.299988   4913.549805  1800.599976    1503.500000    9852.000000   \n",
       "2  579.150024   4933.549805  1795.250000    1492.300049    9914.200195   \n",
       "3  573.700012   4898.100098  1789.300049    1491.300049   10406.450195   \n",
       "4  577.450012   4875.200195  1796.250000    1482.550049   10432.549805   \n",
       "\n",
       "   HINDALCO.NS  \n",
       "0   672.900024  \n",
       "1   685.599976  \n",
       "2   685.549988  \n",
       "3   685.099976  \n",
       "4   711.849976  \n",
       "\n",
       "[5 rows x 51 columns]"
      ]
     },
     "execution_count": 2,
     "metadata": {},
     "output_type": "execute_result"
    }
   ],
   "source": [
    "df = pd.read_csv('nifty50_closing_prices.csv')\n",
    "df.head()"
   ]
  },
  {
   "cell_type": "code",
   "execution_count": 3,
   "metadata": {},
   "outputs": [
    {
     "name": "stdout",
     "output_type": "stream",
     "text": [
      "<class 'pandas.core.frame.DataFrame'>\n",
      "RangeIndex: 24 entries, 0 to 23\n",
      "Data columns (total 51 columns):\n",
      " #   Column         Non-Null Count  Dtype  \n",
      "---  ------         --------------  -----  \n",
      " 0   Date           24 non-null     object \n",
      " 1   RELIANCE.NS    24 non-null     float64\n",
      " 2   HDFCBANK.NS    24 non-null     float64\n",
      " 3   ICICIBANK.NS   24 non-null     float64\n",
      " 4   INFY.NS        24 non-null     float64\n",
      " 5   TCS.NS         24 non-null     float64\n",
      " 6   KOTAKBANK.NS   24 non-null     float64\n",
      " 7   HINDUNILVR.NS  24 non-null     float64\n",
      " 8   ITC.NS         24 non-null     float64\n",
      " 9   LT.NS          24 non-null     float64\n",
      " 10  SBIN.NS        24 non-null     float64\n",
      " 11  BAJFINANCE.NS  24 non-null     float64\n",
      " 12  BHARTIARTL.NS  24 non-null     float64\n",
      " 13  HCLTECH.NS     24 non-null     float64\n",
      " 14  ASIANPAINT.NS  24 non-null     float64\n",
      " 15  AXISBANK.NS    24 non-null     float64\n",
      " 16  DMART.NS       24 non-null     float64\n",
      " 17  MARUTI.NS      24 non-null     float64\n",
      " 18  ULTRACEMCO.NS  24 non-null     float64\n",
      " 19  HDFC.NS        0 non-null      float64\n",
      " 20  TITAN.NS       24 non-null     float64\n",
      " 21  SUNPHARMA.NS   24 non-null     float64\n",
      " 22  M&M.NS         24 non-null     float64\n",
      " 23  NESTLEIND.NS   24 non-null     float64\n",
      " 24  WIPRO.NS       24 non-null     float64\n",
      " 25  ADANIGREEN.NS  24 non-null     float64\n",
      " 26  TATASTEEL.NS   24 non-null     float64\n",
      " 27  JSWSTEEL.NS    24 non-null     float64\n",
      " 28  POWERGRID.NS   24 non-null     float64\n",
      " 29  ONGC.NS        24 non-null     float64\n",
      " 30  NTPC.NS        24 non-null     float64\n",
      " 31  COALINDIA.NS   24 non-null     float64\n",
      " 32  BPCL.NS        24 non-null     float64\n",
      " 33  IOC.NS         24 non-null     float64\n",
      " 34  TECHM.NS       24 non-null     float64\n",
      " 35  INDUSINDBK.NS  24 non-null     float64\n",
      " 36  DIVISLAB.NS    24 non-null     float64\n",
      " 37  GRASIM.NS      24 non-null     float64\n",
      " 38  CIPLA.NS       24 non-null     float64\n",
      " 39  BAJAJFINSV.NS  24 non-null     float64\n",
      " 40  TATAMOTORS.NS  24 non-null     float64\n",
      " 41  HEROMOTOCO.NS  24 non-null     float64\n",
      " 42  DRREDDY.NS     24 non-null     float64\n",
      " 43  SHREECEM.NS    24 non-null     float64\n",
      " 44  BRITANNIA.NS   24 non-null     float64\n",
      " 45  UPL.NS         24 non-null     float64\n",
      " 46  EICHERMOT.NS   24 non-null     float64\n",
      " 47  SBILIFE.NS     24 non-null     float64\n",
      " 48  ADANIPORTS.NS  24 non-null     float64\n",
      " 49  BAJAJ-AUTO.NS  24 non-null     float64\n",
      " 50  HINDALCO.NS    24 non-null     float64\n",
      "dtypes: float64(50), object(1)\n",
      "memory usage: 9.7+ KB\n"
     ]
    }
   ],
   "source": [
    "df.info()"
   ]
  },
  {
   "cell_type": "code",
   "execution_count": 4,
   "metadata": {},
   "outputs": [
    {
     "data": {
      "text/html": [
       "<div>\n",
       "<style scoped>\n",
       "    .dataframe tbody tr th:only-of-type {\n",
       "        vertical-align: middle;\n",
       "    }\n",
       "\n",
       "    .dataframe tbody tr th {\n",
       "        vertical-align: top;\n",
       "    }\n",
       "\n",
       "    .dataframe thead th {\n",
       "        text-align: right;\n",
       "    }\n",
       "</style>\n",
       "<table border=\"1\" class=\"dataframe\">\n",
       "  <thead>\n",
       "    <tr style=\"text-align: right;\">\n",
       "      <th></th>\n",
       "      <th>RELIANCE.NS</th>\n",
       "      <th>HDFCBANK.NS</th>\n",
       "      <th>ICICIBANK.NS</th>\n",
       "      <th>INFY.NS</th>\n",
       "      <th>TCS.NS</th>\n",
       "      <th>KOTAKBANK.NS</th>\n",
       "      <th>HINDUNILVR.NS</th>\n",
       "      <th>ITC.NS</th>\n",
       "      <th>LT.NS</th>\n",
       "      <th>SBIN.NS</th>\n",
       "      <th>...</th>\n",
       "      <th>HEROMOTOCO.NS</th>\n",
       "      <th>DRREDDY.NS</th>\n",
       "      <th>SHREECEM.NS</th>\n",
       "      <th>BRITANNIA.NS</th>\n",
       "      <th>UPL.NS</th>\n",
       "      <th>EICHERMOT.NS</th>\n",
       "      <th>SBILIFE.NS</th>\n",
       "      <th>ADANIPORTS.NS</th>\n",
       "      <th>BAJAJ-AUTO.NS</th>\n",
       "      <th>HINDALCO.NS</th>\n",
       "    </tr>\n",
       "  </thead>\n",
       "  <tbody>\n",
       "    <tr>\n",
       "      <th>count</th>\n",
       "      <td>24.000000</td>\n",
       "      <td>24.000000</td>\n",
       "      <td>24.000000</td>\n",
       "      <td>24.000000</td>\n",
       "      <td>24.000000</td>\n",
       "      <td>24.000000</td>\n",
       "      <td>24.000000</td>\n",
       "      <td>24.000000</td>\n",
       "      <td>24.000000</td>\n",
       "      <td>24.000000</td>\n",
       "      <td>...</td>\n",
       "      <td>24.000000</td>\n",
       "      <td>24.000000</td>\n",
       "      <td>24.000000</td>\n",
       "      <td>24.000000</td>\n",
       "      <td>24.000000</td>\n",
       "      <td>24.000000</td>\n",
       "      <td>24.000000</td>\n",
       "      <td>24.000000</td>\n",
       "      <td>24.000000</td>\n",
       "      <td>24.000000</td>\n",
       "    </tr>\n",
       "    <tr>\n",
       "      <th>mean</th>\n",
       "      <td>2976.912506</td>\n",
       "      <td>1652.339579</td>\n",
       "      <td>1236.770818</td>\n",
       "      <td>1914.558324</td>\n",
       "      <td>4478.349976</td>\n",
       "      <td>1809.422918</td>\n",
       "      <td>2845.333344</td>\n",
       "      <td>507.739581</td>\n",
       "      <td>3647.099976</td>\n",
       "      <td>802.233332</td>\n",
       "      <td>...</td>\n",
       "      <td>5619.377096</td>\n",
       "      <td>6785.795817</td>\n",
       "      <td>25299.906169</td>\n",
       "      <td>5935.202026</td>\n",
       "      <td>596.343750</td>\n",
       "      <td>4863.831258</td>\n",
       "      <td>1849.331243</td>\n",
       "      <td>1462.916677</td>\n",
       "      <td>10999.654134</td>\n",
       "      <td>681.885417</td>\n",
       "    </tr>\n",
       "    <tr>\n",
       "      <th>std</th>\n",
       "      <td>41.290551</td>\n",
       "      <td>28.258220</td>\n",
       "      <td>36.438726</td>\n",
       "      <td>30.240685</td>\n",
       "      <td>70.822718</td>\n",
       "      <td>32.936318</td>\n",
       "      <td>65.620694</td>\n",
       "      <td>5.472559</td>\n",
       "      <td>60.511574</td>\n",
       "      <td>17.442330</td>\n",
       "      <td>...</td>\n",
       "      <td>247.092728</td>\n",
       "      <td>175.124908</td>\n",
       "      <td>429.919834</td>\n",
       "      <td>144.164343</td>\n",
       "      <td>16.975821</td>\n",
       "      <td>68.442418</td>\n",
       "      <td>43.189734</td>\n",
       "      <td>26.223794</td>\n",
       "      <td>659.810841</td>\n",
       "      <td>15.952804</td>\n",
       "    </tr>\n",
       "    <tr>\n",
       "      <th>min</th>\n",
       "      <td>2903.000000</td>\n",
       "      <td>1625.050049</td>\n",
       "      <td>1174.849976</td>\n",
       "      <td>1862.099976</td>\n",
       "      <td>4284.899902</td>\n",
       "      <td>1764.150024</td>\n",
       "      <td>2751.050049</td>\n",
       "      <td>497.299988</td>\n",
       "      <td>3536.949951</td>\n",
       "      <td>768.599976</td>\n",
       "      <td>...</td>\n",
       "      <td>5244.399902</td>\n",
       "      <td>6502.549805</td>\n",
       "      <td>24692.199219</td>\n",
       "      <td>5703.350098</td>\n",
       "      <td>566.150024</td>\n",
       "      <td>4726.649902</td>\n",
       "      <td>1761.300049</td>\n",
       "      <td>1408.199951</td>\n",
       "      <td>9779.700195</td>\n",
       "      <td>647.700012</td>\n",
       "    </tr>\n",
       "    <tr>\n",
       "      <th>25%</th>\n",
       "      <td>2941.862488</td>\n",
       "      <td>1637.062469</td>\n",
       "      <td>1219.750031</td>\n",
       "      <td>1893.687469</td>\n",
       "      <td>4472.937622</td>\n",
       "      <td>1783.800049</td>\n",
       "      <td>2790.662476</td>\n",
       "      <td>504.962502</td>\n",
       "      <td>3597.950012</td>\n",
       "      <td>785.224991</td>\n",
       "      <td>...</td>\n",
       "      <td>5370.012451</td>\n",
       "      <td>6649.574951</td>\n",
       "      <td>24885.174316</td>\n",
       "      <td>5835.449829</td>\n",
       "      <td>578.875015</td>\n",
       "      <td>4846.037598</td>\n",
       "      <td>1820.725006</td>\n",
       "      <td>1440.199951</td>\n",
       "      <td>10617.962402</td>\n",
       "      <td>672.162521</td>\n",
       "    </tr>\n",
       "    <tr>\n",
       "      <th>50%</th>\n",
       "      <td>2988.924927</td>\n",
       "      <td>1640.875000</td>\n",
       "      <td>1235.474976</td>\n",
       "      <td>1911.225037</td>\n",
       "      <td>4504.050049</td>\n",
       "      <td>1804.500000</td>\n",
       "      <td>2838.699951</td>\n",
       "      <td>507.550003</td>\n",
       "      <td>3646.349976</td>\n",
       "      <td>811.950012</td>\n",
       "      <td>...</td>\n",
       "      <td>5662.075195</td>\n",
       "      <td>6741.475098</td>\n",
       "      <td>25432.200195</td>\n",
       "      <td>5919.099854</td>\n",
       "      <td>600.850006</td>\n",
       "      <td>4871.925049</td>\n",
       "      <td>1845.099976</td>\n",
       "      <td>1470.950012</td>\n",
       "      <td>10927.625000</td>\n",
       "      <td>684.050018</td>\n",
       "    </tr>\n",
       "    <tr>\n",
       "      <th>75%</th>\n",
       "      <td>3005.237427</td>\n",
       "      <td>1666.112457</td>\n",
       "      <td>1250.799988</td>\n",
       "      <td>1941.862488</td>\n",
       "      <td>4514.362549</td>\n",
       "      <td>1822.987488</td>\n",
       "      <td>2899.987549</td>\n",
       "      <td>511.337509</td>\n",
       "      <td>3689.325012</td>\n",
       "      <td>816.050018</td>\n",
       "      <td>...</td>\n",
       "      <td>5783.537598</td>\n",
       "      <td>6956.612549</td>\n",
       "      <td>25630.112793</td>\n",
       "      <td>6074.562500</td>\n",
       "      <td>610.737518</td>\n",
       "      <td>4912.350098</td>\n",
       "      <td>1879.149963</td>\n",
       "      <td>1482.062531</td>\n",
       "      <td>11697.137207</td>\n",
       "      <td>687.799988</td>\n",
       "    </tr>\n",
       "    <tr>\n",
       "      <th>max</th>\n",
       "      <td>3041.850098</td>\n",
       "      <td>1741.199951</td>\n",
       "      <td>1338.449951</td>\n",
       "      <td>1964.500000</td>\n",
       "      <td>4553.750000</td>\n",
       "      <td>1904.500000</td>\n",
       "      <td>2977.600098</td>\n",
       "      <td>519.500000</td>\n",
       "      <td>3793.899902</td>\n",
       "      <td>824.799988</td>\n",
       "      <td>...</td>\n",
       "      <td>6013.250000</td>\n",
       "      <td>7062.450195</td>\n",
       "      <td>26019.650391</td>\n",
       "      <td>6210.549805</td>\n",
       "      <td>619.200012</td>\n",
       "      <td>4963.149902</td>\n",
       "      <td>1928.650024</td>\n",
       "      <td>1503.500000</td>\n",
       "      <td>11950.299805</td>\n",
       "      <td>711.849976</td>\n",
       "    </tr>\n",
       "  </tbody>\n",
       "</table>\n",
       "<p>8 rows × 50 columns</p>\n",
       "</div>"
      ],
      "text/plain": [
       "       RELIANCE.NS  HDFCBANK.NS  ICICIBANK.NS      INFY.NS       TCS.NS  \\\n",
       "count    24.000000    24.000000     24.000000    24.000000    24.000000   \n",
       "mean   2976.912506  1652.339579   1236.770818  1914.558324  4478.349976   \n",
       "std      41.290551    28.258220     36.438726    30.240685    70.822718   \n",
       "min    2903.000000  1625.050049   1174.849976  1862.099976  4284.899902   \n",
       "25%    2941.862488  1637.062469   1219.750031  1893.687469  4472.937622   \n",
       "50%    2988.924927  1640.875000   1235.474976  1911.225037  4504.050049   \n",
       "75%    3005.237427  1666.112457   1250.799988  1941.862488  4514.362549   \n",
       "max    3041.850098  1741.199951   1338.449951  1964.500000  4553.750000   \n",
       "\n",
       "       KOTAKBANK.NS  HINDUNILVR.NS      ITC.NS        LT.NS     SBIN.NS  ...  \\\n",
       "count     24.000000      24.000000   24.000000    24.000000   24.000000  ...   \n",
       "mean    1809.422918    2845.333344  507.739581  3647.099976  802.233332  ...   \n",
       "std       32.936318      65.620694    5.472559    60.511574   17.442330  ...   \n",
       "min     1764.150024    2751.050049  497.299988  3536.949951  768.599976  ...   \n",
       "25%     1783.800049    2790.662476  504.962502  3597.950012  785.224991  ...   \n",
       "50%     1804.500000    2838.699951  507.550003  3646.349976  811.950012  ...   \n",
       "75%     1822.987488    2899.987549  511.337509  3689.325012  816.050018  ...   \n",
       "max     1904.500000    2977.600098  519.500000  3793.899902  824.799988  ...   \n",
       "\n",
       "       HEROMOTOCO.NS   DRREDDY.NS   SHREECEM.NS  BRITANNIA.NS      UPL.NS  \\\n",
       "count      24.000000    24.000000     24.000000     24.000000   24.000000   \n",
       "mean     5619.377096  6785.795817  25299.906169   5935.202026  596.343750   \n",
       "std       247.092728   175.124908    429.919834    144.164343   16.975821   \n",
       "min      5244.399902  6502.549805  24692.199219   5703.350098  566.150024   \n",
       "25%      5370.012451  6649.574951  24885.174316   5835.449829  578.875015   \n",
       "50%      5662.075195  6741.475098  25432.200195   5919.099854  600.850006   \n",
       "75%      5783.537598  6956.612549  25630.112793   6074.562500  610.737518   \n",
       "max      6013.250000  7062.450195  26019.650391   6210.549805  619.200012   \n",
       "\n",
       "       EICHERMOT.NS   SBILIFE.NS  ADANIPORTS.NS  BAJAJ-AUTO.NS  HINDALCO.NS  \n",
       "count     24.000000    24.000000      24.000000      24.000000    24.000000  \n",
       "mean    4863.831258  1849.331243    1462.916677   10999.654134   681.885417  \n",
       "std       68.442418    43.189734      26.223794     659.810841    15.952804  \n",
       "min     4726.649902  1761.300049    1408.199951    9779.700195   647.700012  \n",
       "25%     4846.037598  1820.725006    1440.199951   10617.962402   672.162521  \n",
       "50%     4871.925049  1845.099976    1470.950012   10927.625000   684.050018  \n",
       "75%     4912.350098  1879.149963    1482.062531   11697.137207   687.799988  \n",
       "max     4963.149902  1928.650024    1503.500000   11950.299805   711.849976  \n",
       "\n",
       "[8 rows x 50 columns]"
      ]
     },
     "execution_count": 4,
     "metadata": {},
     "output_type": "execute_result"
    }
   ],
   "source": [
    "df.describe()"
   ]
  },
  {
   "cell_type": "code",
   "execution_count": 5,
   "metadata": {},
   "outputs": [
    {
     "name": "stdout",
     "output_type": "stream",
     "text": [
      "List of the Stocks are : \n"
     ]
    },
    {
     "data": {
      "text/plain": [
       "Index(['RELIANCE.NS', 'HDFCBANK.NS', 'ICICIBANK.NS', 'INFY.NS', 'TCS.NS',\n",
       "       'KOTAKBANK.NS', 'HINDUNILVR.NS', 'ITC.NS', 'LT.NS', 'SBIN.NS',\n",
       "       'BAJFINANCE.NS', 'BHARTIARTL.NS', 'HCLTECH.NS', 'ASIANPAINT.NS',\n",
       "       'AXISBANK.NS', 'DMART.NS', 'MARUTI.NS', 'ULTRACEMCO.NS', 'HDFC.NS',\n",
       "       'TITAN.NS', 'SUNPHARMA.NS', 'M&M.NS', 'NESTLEIND.NS', 'WIPRO.NS',\n",
       "       'ADANIGREEN.NS', 'TATASTEEL.NS', 'JSWSTEEL.NS', 'POWERGRID.NS',\n",
       "       'ONGC.NS', 'NTPC.NS', 'COALINDIA.NS', 'BPCL.NS', 'IOC.NS', 'TECHM.NS',\n",
       "       'INDUSINDBK.NS', 'DIVISLAB.NS', 'GRASIM.NS', 'CIPLA.NS',\n",
       "       'BAJAJFINSV.NS', 'TATAMOTORS.NS', 'HEROMOTOCO.NS', 'DRREDDY.NS',\n",
       "       'SHREECEM.NS', 'BRITANNIA.NS', 'UPL.NS', 'EICHERMOT.NS', 'SBILIFE.NS',\n",
       "       'ADANIPORTS.NS', 'BAJAJ-AUTO.NS', 'HINDALCO.NS'],\n",
       "      dtype='object')"
      ]
     },
     "execution_count": 5,
     "metadata": {},
     "output_type": "execute_result"
    }
   ],
   "source": [
    "print('List of the Stocks are : ')\n",
    "df.columns[1:]"
   ]
  },
  {
   "cell_type": "code",
   "execution_count": 6,
   "metadata": {},
   "outputs": [
    {
     "data": {
      "text/plain": [
       "(24, 51)"
      ]
     },
     "execution_count": 6,
     "metadata": {},
     "output_type": "execute_result"
    }
   ],
   "source": [
    "df.shape"
   ]
  },
  {
   "cell_type": "code",
   "execution_count": 7,
   "metadata": {},
   "outputs": [],
   "source": [
    "# Converting date column to datetime:\n",
    "df['Date'] = pd.to_datetime(df['Date'])"
   ]
  },
  {
   "cell_type": "code",
   "execution_count": 8,
   "metadata": {},
   "outputs": [
    {
     "data": {
      "text/plain": [
       "datetime64[ns, UTC+05:30]"
      ]
     },
     "execution_count": 8,
     "metadata": {},
     "output_type": "execute_result"
    }
   ],
   "source": [
    "df['Date'].dtypes"
   ]
  },
  {
   "cell_type": "code",
   "execution_count": 9,
   "metadata": {},
   "outputs": [
    {
     "name": "stdout",
     "output_type": "stream",
     "text": [
      "Date              0\n",
      "RELIANCE.NS       0\n",
      "HDFCBANK.NS       0\n",
      "ICICIBANK.NS      0\n",
      "INFY.NS           0\n",
      "TCS.NS            0\n",
      "KOTAKBANK.NS      0\n",
      "HINDUNILVR.NS     0\n",
      "ITC.NS            0\n",
      "LT.NS             0\n",
      "SBIN.NS           0\n",
      "BAJFINANCE.NS     0\n",
      "BHARTIARTL.NS     0\n",
      "HCLTECH.NS        0\n",
      "ASIANPAINT.NS     0\n",
      "AXISBANK.NS       0\n",
      "DMART.NS          0\n",
      "MARUTI.NS         0\n",
      "ULTRACEMCO.NS     0\n",
      "HDFC.NS          24\n",
      "TITAN.NS          0\n",
      "SUNPHARMA.NS      0\n",
      "M&M.NS            0\n",
      "NESTLEIND.NS      0\n",
      "WIPRO.NS          0\n",
      "ADANIGREEN.NS     0\n",
      "TATASTEEL.NS      0\n",
      "JSWSTEEL.NS       0\n",
      "POWERGRID.NS      0\n",
      "ONGC.NS           0\n",
      "NTPC.NS           0\n",
      "COALINDIA.NS      0\n",
      "BPCL.NS           0\n",
      "IOC.NS            0\n",
      "TECHM.NS          0\n",
      "INDUSINDBK.NS     0\n",
      "DIVISLAB.NS       0\n",
      "GRASIM.NS         0\n",
      "CIPLA.NS          0\n",
      "BAJAJFINSV.NS     0\n",
      "TATAMOTORS.NS     0\n",
      "HEROMOTOCO.NS     0\n",
      "DRREDDY.NS        0\n",
      "SHREECEM.NS       0\n",
      "BRITANNIA.NS      0\n",
      "UPL.NS            0\n",
      "EICHERMOT.NS      0\n",
      "SBILIFE.NS        0\n",
      "ADANIPORTS.NS     0\n",
      "BAJAJ-AUTO.NS     0\n",
      "HINDALCO.NS       0\n",
      "dtype: int64\n"
     ]
    }
   ],
   "source": [
    "# Checking null values\n",
    "print(df.isnull().sum())"
   ]
  },
  {
   "cell_type": "markdown",
   "metadata": {},
   "source": [
    "There are 24 null values in the closing prices of HDFC. "
   ]
  },
  {
   "cell_type": "code",
   "execution_count": 10,
   "metadata": {},
   "outputs": [],
   "source": [
    "df.drop(columns=['HDFC.NS'],inplace=True)"
   ]
  },
  {
   "cell_type": "markdown",
   "metadata": {},
   "source": [
    "#### Now, we will look at the stock price trends of all the companies in the data:"
   ]
  },
  {
   "cell_type": "code",
   "execution_count": 11,
   "metadata": {},
   "outputs": [
    {
     "data": {
      "application/vnd.plotly.v1+json": {
       "config": {
        "plotlyServerURL": "https://plot.ly"
       },
       "data": [
        {
         "mode": "lines",
         "name": "RELIANCE.NS",
         "opacity": 0.5,
         "type": "scatter",
         "x": [
          "2024-08-20T00:00:00+05:30",
          "2024-08-21T00:00:00+05:30",
          "2024-08-22T00:00:00+05:30",
          "2024-08-23T00:00:00+05:30",
          "2024-08-26T00:00:00+05:30",
          "2024-08-27T00:00:00+05:30",
          "2024-08-28T00:00:00+05:30",
          "2024-08-29T00:00:00+05:30",
          "2024-08-30T00:00:00+05:30",
          "2024-09-02T00:00:00+05:30",
          "2024-09-03T00:00:00+05:30",
          "2024-09-04T00:00:00+05:30",
          "2024-09-05T00:00:00+05:30",
          "2024-09-06T00:00:00+05:30",
          "2024-09-09T00:00:00+05:30",
          "2024-09-10T00:00:00+05:30",
          "2024-09-11T00:00:00+05:30",
          "2024-09-12T00:00:00+05:30",
          "2024-09-13T00:00:00+05:30",
          "2024-09-16T00:00:00+05:30",
          "2024-09-17T00:00:00+05:30",
          "2024-09-18T00:00:00+05:30",
          "2024-09-19T00:00:00+05:30",
          "2024-09-20T00:00:00+05:30"
         ],
         "y": [
          2991.89990234375,
          2997.35009765625,
          2996.25,
          2999.949951171875,
          3025.199951171875,
          3000.89990234375,
          2996.60009765625,
          3041.85009765625,
          3019.25,
          3032.5,
          3018.25,
          3029.10009765625,
          2985.949951171875,
          2929.64990234375,
          2924.89990234375,
          2923.050048828125,
          2903,
          2959.60009765625,
          2945.25,
          2942.699951171875,
          2944.60009765625,
          2926.89990234375,
          2939.35009765625,
          2971.85009765625
         ]
        },
        {
         "mode": "lines",
         "name": "HDFCBANK.NS",
         "opacity": 0.5,
         "type": "scatter",
         "x": [
          "2024-08-20T00:00:00+05:30",
          "2024-08-21T00:00:00+05:30",
          "2024-08-22T00:00:00+05:30",
          "2024-08-23T00:00:00+05:30",
          "2024-08-26T00:00:00+05:30",
          "2024-08-27T00:00:00+05:30",
          "2024-08-28T00:00:00+05:30",
          "2024-08-29T00:00:00+05:30",
          "2024-08-30T00:00:00+05:30",
          "2024-09-02T00:00:00+05:30",
          "2024-09-03T00:00:00+05:30",
          "2024-09-04T00:00:00+05:30",
          "2024-09-05T00:00:00+05:30",
          "2024-09-06T00:00:00+05:30",
          "2024-09-09T00:00:00+05:30",
          "2024-09-10T00:00:00+05:30",
          "2024-09-11T00:00:00+05:30",
          "2024-09-12T00:00:00+05:30",
          "2024-09-13T00:00:00+05:30",
          "2024-09-16T00:00:00+05:30",
          "2024-09-17T00:00:00+05:30",
          "2024-09-18T00:00:00+05:30",
          "2024-09-19T00:00:00+05:30",
          "2024-09-20T00:00:00+05:30"
         ],
         "y": [
          1637.699951171875,
          1625.800048828125,
          1631.300048828125,
          1625.050048828125,
          1639.949951171875,
          1637.75,
          1637.0999755859375,
          1638.550048828125,
          1636.9000244140625,
          1626.949951171875,
          1637.3499755859375,
          1641.800048828125,
          1645.449951171875,
          1636.949951171875,
          1646.5,
          1650.3499755859375,
          1643.9000244140625,
          1666.5999755859375,
          1665.949951171875,
          1670.949951171875,
          1668.800048828125,
          1694.800048828125,
          1708.5,
          1741.199951171875
         ]
        },
        {
         "mode": "lines",
         "name": "ICICIBANK.NS",
         "opacity": 0.5,
         "type": "scatter",
         "x": [
          "2024-08-20T00:00:00+05:30",
          "2024-08-21T00:00:00+05:30",
          "2024-08-22T00:00:00+05:30",
          "2024-08-23T00:00:00+05:30",
          "2024-08-26T00:00:00+05:30",
          "2024-08-27T00:00:00+05:30",
          "2024-08-28T00:00:00+05:30",
          "2024-08-29T00:00:00+05:30",
          "2024-08-30T00:00:00+05:30",
          "2024-09-02T00:00:00+05:30",
          "2024-09-03T00:00:00+05:30",
          "2024-09-04T00:00:00+05:30",
          "2024-09-05T00:00:00+05:30",
          "2024-09-06T00:00:00+05:30",
          "2024-09-09T00:00:00+05:30",
          "2024-09-10T00:00:00+05:30",
          "2024-09-11T00:00:00+05:30",
          "2024-09-12T00:00:00+05:30",
          "2024-09-13T00:00:00+05:30",
          "2024-09-16T00:00:00+05:30",
          "2024-09-17T00:00:00+05:30",
          "2024-09-18T00:00:00+05:30",
          "2024-09-19T00:00:00+05:30",
          "2024-09-20T00:00:00+05:30"
         ],
         "y": [
          1179.449951171875,
          1174.8499755859375,
          1191.0999755859375,
          1203.5,
          1213.300048828125,
          1226.3499755859375,
          1223.8499755859375,
          1221.9000244140625,
          1229.199951171875,
          1229.949951171875,
          1247.699951171875,
          1236.3499755859375,
          1235.949951171875,
          1208.1500244140625,
          1235,
          1237.300048828125,
          1236.3499755859375,
          1252.1500244140625,
          1250.3499755859375,
          1262.8499755859375,
          1268.0999755859375,
          1288.3499755859375,
          1292,
          1338.449951171875
         ]
        },
        {
         "mode": "lines",
         "name": "INFY.NS",
         "opacity": 0.5,
         "type": "scatter",
         "x": [
          "2024-08-20T00:00:00+05:30",
          "2024-08-21T00:00:00+05:30",
          "2024-08-22T00:00:00+05:30",
          "2024-08-23T00:00:00+05:30",
          "2024-08-26T00:00:00+05:30",
          "2024-08-27T00:00:00+05:30",
          "2024-08-28T00:00:00+05:30",
          "2024-08-29T00:00:00+05:30",
          "2024-08-30T00:00:00+05:30",
          "2024-09-02T00:00:00+05:30",
          "2024-09-03T00:00:00+05:30",
          "2024-09-04T00:00:00+05:30",
          "2024-09-05T00:00:00+05:30",
          "2024-09-06T00:00:00+05:30",
          "2024-09-09T00:00:00+05:30",
          "2024-09-10T00:00:00+05:30",
          "2024-09-11T00:00:00+05:30",
          "2024-09-12T00:00:00+05:30",
          "2024-09-13T00:00:00+05:30",
          "2024-09-16T00:00:00+05:30",
          "2024-09-17T00:00:00+05:30",
          "2024-09-18T00:00:00+05:30",
          "2024-09-19T00:00:00+05:30",
          "2024-09-20T00:00:00+05:30"
         ],
         "y": [
          1872.199951171875,
          1872.699951171875,
          1880.25,
          1862.0999755859373,
          1876.1500244140625,
          1900.0999755859373,
          1939.0999755859373,
          1933.3499755859373,
          1943.699951171875,
          1964.5,
          1941.25,
          1922.449951171875,
          1933.1500244140625,
          1901.8499755859373,
          1894.6500244140625,
          1912.300048828125,
          1910.1500244140625,
          1950.449951171875,
          1944.0999755859373,
          1950.25,
          1952.550048828125,
          1892.1500244140625,
          1894.199951171875,
          1905.75
         ]
        },
        {
         "mode": "lines",
         "name": "TCS.NS",
         "opacity": 0.5,
         "type": "scatter",
         "x": [
          "2024-08-20T00:00:00+05:30",
          "2024-08-21T00:00:00+05:30",
          "2024-08-22T00:00:00+05:30",
          "2024-08-23T00:00:00+05:30",
          "2024-08-26T00:00:00+05:30",
          "2024-08-27T00:00:00+05:30",
          "2024-08-28T00:00:00+05:30",
          "2024-08-29T00:00:00+05:30",
          "2024-08-30T00:00:00+05:30",
          "2024-09-02T00:00:00+05:30",
          "2024-09-03T00:00:00+05:30",
          "2024-09-04T00:00:00+05:30",
          "2024-09-05T00:00:00+05:30",
          "2024-09-06T00:00:00+05:30",
          "2024-09-09T00:00:00+05:30",
          "2024-09-10T00:00:00+05:30",
          "2024-09-11T00:00:00+05:30",
          "2024-09-12T00:00:00+05:30",
          "2024-09-13T00:00:00+05:30",
          "2024-09-16T00:00:00+05:30",
          "2024-09-17T00:00:00+05:30",
          "2024-09-18T00:00:00+05:30",
          "2024-09-19T00:00:00+05:30",
          "2024-09-20T00:00:00+05:30"
         ],
         "y": [
          4523.2998046875,
          4551.5,
          4502,
          4463.89990234375,
          4502.4501953125,
          4497.14990234375,
          4506.0498046875,
          4511.7998046875,
          4553.75,
          4521.0498046875,
          4512.35009765625,
          4479.25,
          4475.9501953125,
          4456.75,
          4449.5498046875,
          4507.85009765625,
          4479.35009765625,
          4517.7001953125,
          4522.60009765625,
          4513.25,
          4505.64990234375,
          4346.14990234375,
          4296.14990234375,
          4284.89990234375
         ]
        },
        {
         "mode": "lines",
         "name": "KOTAKBANK.NS",
         "opacity": 0.5,
         "type": "scatter",
         "x": [
          "2024-08-20T00:00:00+05:30",
          "2024-08-21T00:00:00+05:30",
          "2024-08-22T00:00:00+05:30",
          "2024-08-23T00:00:00+05:30",
          "2024-08-26T00:00:00+05:30",
          "2024-08-27T00:00:00+05:30",
          "2024-08-28T00:00:00+05:30",
          "2024-08-29T00:00:00+05:30",
          "2024-08-30T00:00:00+05:30",
          "2024-09-02T00:00:00+05:30",
          "2024-09-03T00:00:00+05:30",
          "2024-09-04T00:00:00+05:30",
          "2024-09-05T00:00:00+05:30",
          "2024-09-06T00:00:00+05:30",
          "2024-09-09T00:00:00+05:30",
          "2024-09-10T00:00:00+05:30",
          "2024-09-11T00:00:00+05:30",
          "2024-09-12T00:00:00+05:30",
          "2024-09-13T00:00:00+05:30",
          "2024-09-16T00:00:00+05:30",
          "2024-09-17T00:00:00+05:30",
          "2024-09-18T00:00:00+05:30",
          "2024-09-19T00:00:00+05:30",
          "2024-09-20T00:00:00+05:30"
         ],
         "y": [
          1805.6500244140625,
          1812.949951171875,
          1821.5,
          1818,
          1812.5,
          1803.3499755859373,
          1791.300048828125,
          1777.25,
          1780.800048828125,
          1780.25,
          1783.800048828125,
          1783.800048828125,
          1777.949951171875,
          1764.1500244140625,
          1790.1500244140625,
          1791.5999755859375,
          1789.25,
          1827.449951171875,
          1820.3499755859373,
          1831.300048828125,
          1846.6500244140625,
          1839.699951171875,
          1871.949951171875,
          1904.5
         ]
        },
        {
         "mode": "lines",
         "name": "HINDUNILVR.NS",
         "opacity": 0.5,
         "type": "scatter",
         "x": [
          "2024-08-20T00:00:00+05:30",
          "2024-08-21T00:00:00+05:30",
          "2024-08-22T00:00:00+05:30",
          "2024-08-23T00:00:00+05:30",
          "2024-08-26T00:00:00+05:30",
          "2024-08-27T00:00:00+05:30",
          "2024-08-28T00:00:00+05:30",
          "2024-08-29T00:00:00+05:30",
          "2024-08-30T00:00:00+05:30",
          "2024-09-02T00:00:00+05:30",
          "2024-09-03T00:00:00+05:30",
          "2024-09-04T00:00:00+05:30",
          "2024-09-05T00:00:00+05:30",
          "2024-09-06T00:00:00+05:30",
          "2024-09-09T00:00:00+05:30",
          "2024-09-10T00:00:00+05:30",
          "2024-09-11T00:00:00+05:30",
          "2024-09-12T00:00:00+05:30",
          "2024-09-13T00:00:00+05:30",
          "2024-09-16T00:00:00+05:30",
          "2024-09-17T00:00:00+05:30",
          "2024-09-18T00:00:00+05:30",
          "2024-09-19T00:00:00+05:30",
          "2024-09-20T00:00:00+05:30"
         ],
         "y": [
          2751.050048828125,
          2791.199951171875,
          2792.800048828125,
          2815.60009765625,
          2821.14990234375,
          2766.89990234375,
          2764.35009765625,
          2785.25,
          2778,
          2789.050048828125,
          2794.300048828125,
          2841.25,
          2838.449951171875,
          2838.949951171875,
          2921.800048828125,
          2898.60009765625,
          2904.14990234375,
          2956.39990234375,
          2932.949951171875,
          2867.10009765625,
          2873.5,
          2875.85009765625,
          2911.75,
          2977.60009765625
         ]
        },
        {
         "mode": "lines",
         "name": "ITC.NS",
         "opacity": 0.5,
         "type": "scatter",
         "x": [
          "2024-08-20T00:00:00+05:30",
          "2024-08-21T00:00:00+05:30",
          "2024-08-22T00:00:00+05:30",
          "2024-08-23T00:00:00+05:30",
          "2024-08-26T00:00:00+05:30",
          "2024-08-27T00:00:00+05:30",
          "2024-08-28T00:00:00+05:30",
          "2024-08-29T00:00:00+05:30",
          "2024-08-30T00:00:00+05:30",
          "2024-09-02T00:00:00+05:30",
          "2024-09-03T00:00:00+05:30",
          "2024-09-04T00:00:00+05:30",
          "2024-09-05T00:00:00+05:30",
          "2024-09-06T00:00:00+05:30",
          "2024-09-09T00:00:00+05:30",
          "2024-09-10T00:00:00+05:30",
          "2024-09-11T00:00:00+05:30",
          "2024-09-12T00:00:00+05:30",
          "2024-09-13T00:00:00+05:30",
          "2024-09-16T00:00:00+05:30",
          "2024-09-17T00:00:00+05:30",
          "2024-09-18T00:00:00+05:30",
          "2024-09-19T00:00:00+05:30",
          "2024-09-20T00:00:00+05:30"
         ],
         "y": [
          498.7999877929688,
          505.3999938964844,
          504.5499877929688,
          505.7999877929688,
          505.7000122070313,
          500.6000061035156,
          497.2999877929688,
          505.1000061035156,
          501.8999938964844,
          510.0499877929688,
          509.3999938964844,
          506.3500061035156,
          511.2000122070313,
          501.7000122070313,
          511.75,
          513.5999755859375,
          514.3499755859375,
          519.5,
          513.8499755859375,
          511.1000061035156,
          507.75,
          507.3500061035156,
          508.25,
          514.4000244140625
         ]
        },
        {
         "mode": "lines",
         "name": "LT.NS",
         "opacity": 0.5,
         "type": "scatter",
         "x": [
          "2024-08-20T00:00:00+05:30",
          "2024-08-21T00:00:00+05:30",
          "2024-08-22T00:00:00+05:30",
          "2024-08-23T00:00:00+05:30",
          "2024-08-26T00:00:00+05:30",
          "2024-08-27T00:00:00+05:30",
          "2024-08-28T00:00:00+05:30",
          "2024-08-29T00:00:00+05:30",
          "2024-08-30T00:00:00+05:30",
          "2024-09-02T00:00:00+05:30",
          "2024-09-03T00:00:00+05:30",
          "2024-09-04T00:00:00+05:30",
          "2024-09-05T00:00:00+05:30",
          "2024-09-06T00:00:00+05:30",
          "2024-09-09T00:00:00+05:30",
          "2024-09-10T00:00:00+05:30",
          "2024-09-11T00:00:00+05:30",
          "2024-09-12T00:00:00+05:30",
          "2024-09-13T00:00:00+05:30",
          "2024-09-16T00:00:00+05:30",
          "2024-09-17T00:00:00+05:30",
          "2024-09-18T00:00:00+05:30",
          "2024-09-19T00:00:00+05:30",
          "2024-09-20T00:00:00+05:30"
         ],
         "y": [
          3572.699951171875,
          3596.050048828125,
          3606.5,
          3598.550048828125,
          3641.89990234375,
          3702.699951171875,
          3689.050048828125,
          3683.449951171875,
          3704.64990234375,
          3683.10009765625,
          3690.14990234375,
          3650.800048828125,
          3624.14990234375,
          3574.75,
          3578.300048828125,
          3596.14990234375,
          3536.949951171875,
          3622,
          3613,
          3662.25,
          3695.199951171875,
          3730.449951171875,
          3683.699951171875,
          3793.89990234375
         ]
        },
        {
         "mode": "lines",
         "name": "SBIN.NS",
         "opacity": 0.5,
         "type": "scatter",
         "x": [
          "2024-08-20T00:00:00+05:30",
          "2024-08-21T00:00:00+05:30",
          "2024-08-22T00:00:00+05:30",
          "2024-08-23T00:00:00+05:30",
          "2024-08-26T00:00:00+05:30",
          "2024-08-27T00:00:00+05:30",
          "2024-08-28T00:00:00+05:30",
          "2024-08-29T00:00:00+05:30",
          "2024-08-30T00:00:00+05:30",
          "2024-09-02T00:00:00+05:30",
          "2024-09-03T00:00:00+05:30",
          "2024-09-04T00:00:00+05:30",
          "2024-09-05T00:00:00+05:30",
          "2024-09-06T00:00:00+05:30",
          "2024-09-09T00:00:00+05:30",
          "2024-09-10T00:00:00+05:30",
          "2024-09-11T00:00:00+05:30",
          "2024-09-12T00:00:00+05:30",
          "2024-09-13T00:00:00+05:30",
          "2024-09-16T00:00:00+05:30",
          "2024-09-17T00:00:00+05:30",
          "2024-09-18T00:00:00+05:30",
          "2024-09-19T00:00:00+05:30",
          "2024-09-20T00:00:00+05:30"
         ],
         "y": [
          820.2999877929688,
          815.5499877929688,
          820.2999877929688,
          815.3499755859375,
          815.0499877929688,
          815.9000244140625,
          809.4000244140625,
          814.5,
          815.5999755859375,
          822.1500244140625,
          824.7999877929688,
          816.5,
          818.75,
          782.5,
          784.25,
          782.6500244140625,
          768.5999755859375,
          787.75,
          790.8499755859375,
          785.5499877929688,
          782.9000244140625,
          792.75,
          789.9500122070312,
          781.7000122070312
         ]
        },
        {
         "mode": "lines",
         "name": "BAJFINANCE.NS",
         "opacity": 0.5,
         "type": "scatter",
         "x": [
          "2024-08-20T00:00:00+05:30",
          "2024-08-21T00:00:00+05:30",
          "2024-08-22T00:00:00+05:30",
          "2024-08-23T00:00:00+05:30",
          "2024-08-26T00:00:00+05:30",
          "2024-08-27T00:00:00+05:30",
          "2024-08-28T00:00:00+05:30",
          "2024-08-29T00:00:00+05:30",
          "2024-08-30T00:00:00+05:30",
          "2024-09-02T00:00:00+05:30",
          "2024-09-03T00:00:00+05:30",
          "2024-09-04T00:00:00+05:30",
          "2024-09-05T00:00:00+05:30",
          "2024-09-06T00:00:00+05:30",
          "2024-09-09T00:00:00+05:30",
          "2024-09-10T00:00:00+05:30",
          "2024-09-11T00:00:00+05:30",
          "2024-09-12T00:00:00+05:30",
          "2024-09-13T00:00:00+05:30",
          "2024-09-16T00:00:00+05:30",
          "2024-09-17T00:00:00+05:30",
          "2024-09-18T00:00:00+05:30",
          "2024-09-19T00:00:00+05:30",
          "2024-09-20T00:00:00+05:30"
         ],
         "y": [
          6722.2001953125,
          6735.35009765625,
          6743.60009765625,
          6735.85009765625,
          6778.35009765625,
          6863.60009765625,
          6900,
          7063.5498046875,
          7200.14990234375,
          7440.0498046875,
          7353.7998046875,
          7299.5,
          7244.89990234375,
          7317.14990234375,
          7347.4501953125,
          7241.85009765625,
          7345.5498046875,
          7428.2998046875,
          7598.5,
          7345.75,
          7365.5,
          7631.10009765625,
          7590.35009765625,
          7582.4501953125
         ]
        },
        {
         "mode": "lines",
         "name": "BHARTIARTL.NS",
         "opacity": 0.5,
         "type": "scatter",
         "x": [
          "2024-08-20T00:00:00+05:30",
          "2024-08-21T00:00:00+05:30",
          "2024-08-22T00:00:00+05:30",
          "2024-08-23T00:00:00+05:30",
          "2024-08-26T00:00:00+05:30",
          "2024-08-27T00:00:00+05:30",
          "2024-08-28T00:00:00+05:30",
          "2024-08-29T00:00:00+05:30",
          "2024-08-30T00:00:00+05:30",
          "2024-09-02T00:00:00+05:30",
          "2024-09-03T00:00:00+05:30",
          "2024-09-04T00:00:00+05:30",
          "2024-09-05T00:00:00+05:30",
          "2024-09-06T00:00:00+05:30",
          "2024-09-09T00:00:00+05:30",
          "2024-09-10T00:00:00+05:30",
          "2024-09-11T00:00:00+05:30",
          "2024-09-12T00:00:00+05:30",
          "2024-09-13T00:00:00+05:30",
          "2024-09-16T00:00:00+05:30",
          "2024-09-17T00:00:00+05:30",
          "2024-09-18T00:00:00+05:30",
          "2024-09-19T00:00:00+05:30",
          "2024-09-20T00:00:00+05:30"
         ],
         "y": [
          1449.1500244140625,
          1463.449951171875,
          1486.3499755859375,
          1506.75,
          1513.550048828125,
          1522.75,
          1556.3499755859375,
          1565.9000244140625,
          1589.050048828125,
          1571.3499755859375,
          1560.5999755859375,
          1561.9000244140625,
          1547.199951171875,
          1539.25,
          1542.6500244140625,
          1577.8499755859375,
          1577.800048828125,
          1646.75,
          1634.449951171875,
          1635.449951171875,
          1661.75,
          1654.9000244140625,
          1664.8499755859375,
          1711.75
         ]
        },
        {
         "mode": "lines",
         "name": "HCLTECH.NS",
         "opacity": 0.5,
         "type": "scatter",
         "x": [
          "2024-08-20T00:00:00+05:30",
          "2024-08-21T00:00:00+05:30",
          "2024-08-22T00:00:00+05:30",
          "2024-08-23T00:00:00+05:30",
          "2024-08-26T00:00:00+05:30",
          "2024-08-27T00:00:00+05:30",
          "2024-08-28T00:00:00+05:30",
          "2024-08-29T00:00:00+05:30",
          "2024-08-30T00:00:00+05:30",
          "2024-09-02T00:00:00+05:30",
          "2024-09-03T00:00:00+05:30",
          "2024-09-04T00:00:00+05:30",
          "2024-09-05T00:00:00+05:30",
          "2024-09-06T00:00:00+05:30",
          "2024-09-09T00:00:00+05:30",
          "2024-09-10T00:00:00+05:30",
          "2024-09-11T00:00:00+05:30",
          "2024-09-12T00:00:00+05:30",
          "2024-09-13T00:00:00+05:30",
          "2024-09-16T00:00:00+05:30",
          "2024-09-17T00:00:00+05:30",
          "2024-09-18T00:00:00+05:30",
          "2024-09-19T00:00:00+05:30",
          "2024-09-20T00:00:00+05:30"
         ],
         "y": [
          1686.75,
          1677.25,
          1676.1500244140625,
          1661.449951171875,
          1719.449951171875,
          1711.5999755859375,
          1719.449951171875,
          1751.8499755859375,
          1753.25,
          1806.6500244140625,
          1790.449951171875,
          1785.25,
          1790.550048828125,
          1756.0999755859375,
          1746.75,
          1779.0999755859375,
          1778.75,
          1807.5999755859373,
          1812.800048828125,
          1811.8499755859373,
          1813.75,
          1756.5,
          1736.5,
          1760.050048828125
         ]
        },
        {
         "mode": "lines",
         "name": "ASIANPAINT.NS",
         "opacity": 0.5,
         "type": "scatter",
         "x": [
          "2024-08-20T00:00:00+05:30",
          "2024-08-21T00:00:00+05:30",
          "2024-08-22T00:00:00+05:30",
          "2024-08-23T00:00:00+05:30",
          "2024-08-26T00:00:00+05:30",
          "2024-08-27T00:00:00+05:30",
          "2024-08-28T00:00:00+05:30",
          "2024-08-29T00:00:00+05:30",
          "2024-08-30T00:00:00+05:30",
          "2024-09-02T00:00:00+05:30",
          "2024-09-03T00:00:00+05:30",
          "2024-09-04T00:00:00+05:30",
          "2024-09-05T00:00:00+05:30",
          "2024-09-06T00:00:00+05:30",
          "2024-09-09T00:00:00+05:30",
          "2024-09-10T00:00:00+05:30",
          "2024-09-11T00:00:00+05:30",
          "2024-09-12T00:00:00+05:30",
          "2024-09-13T00:00:00+05:30",
          "2024-09-16T00:00:00+05:30",
          "2024-09-17T00:00:00+05:30",
          "2024-09-18T00:00:00+05:30",
          "2024-09-19T00:00:00+05:30",
          "2024-09-20T00:00:00+05:30"
         ],
         "y": [
          3103.199951171875,
          3151.550048828125,
          3186.60009765625,
          3154.64990234375,
          3171.35009765625,
          3166.199951171875,
          3125.5,
          3115.85009765625,
          3126.800048828125,
          3150.949951171875,
          3154.85009765625,
          3231.64990234375,
          3238.25,
          3273.699951171875,
          3280.75,
          3295.050048828125,
          3367.449951171875,
          3383.25,
          3358.050048828125,
          3335.800048828125,
          3312.800048828125,
          3274.64990234375,
          3293.85009765625,
          3306.949951171875
         ]
        },
        {
         "mode": "lines",
         "name": "AXISBANK.NS",
         "opacity": 0.5,
         "type": "scatter",
         "x": [
          "2024-08-20T00:00:00+05:30",
          "2024-08-21T00:00:00+05:30",
          "2024-08-22T00:00:00+05:30",
          "2024-08-23T00:00:00+05:30",
          "2024-08-26T00:00:00+05:30",
          "2024-08-27T00:00:00+05:30",
          "2024-08-28T00:00:00+05:30",
          "2024-08-29T00:00:00+05:30",
          "2024-08-30T00:00:00+05:30",
          "2024-09-02T00:00:00+05:30",
          "2024-09-03T00:00:00+05:30",
          "2024-09-04T00:00:00+05:30",
          "2024-09-05T00:00:00+05:30",
          "2024-09-06T00:00:00+05:30",
          "2024-09-09T00:00:00+05:30",
          "2024-09-10T00:00:00+05:30",
          "2024-09-11T00:00:00+05:30",
          "2024-09-12T00:00:00+05:30",
          "2024-09-13T00:00:00+05:30",
          "2024-09-16T00:00:00+05:30",
          "2024-09-17T00:00:00+05:30",
          "2024-09-18T00:00:00+05:30",
          "2024-09-19T00:00:00+05:30",
          "2024-09-20T00:00:00+05:30"
         ],
         "y": [
          1168,
          1174.4000244140625,
          1169.949951171875,
          1165.949951171875,
          1170.300048828125,
          1181.25,
          1170.949951171875,
          1175.4000244140625,
          1175.25,
          1188.800048828125,
          1191.5999755859375,
          1177.699951171875,
          1180.550048828125,
          1158.75,
          1170.8499755859375,
          1187.199951171875,
          1186.0999755859375,
          1203.3499755859375,
          1217.449951171875,
          1231.050048828125,
          1232.0999755859375,
          1240.449951171875,
          1242.699951171875,
          1245
         ]
        },
        {
         "mode": "lines",
         "name": "DMART.NS",
         "opacity": 0.5,
         "type": "scatter",
         "x": [
          "2024-08-20T00:00:00+05:30",
          "2024-08-21T00:00:00+05:30",
          "2024-08-22T00:00:00+05:30",
          "2024-08-23T00:00:00+05:30",
          "2024-08-26T00:00:00+05:30",
          "2024-08-27T00:00:00+05:30",
          "2024-08-28T00:00:00+05:30",
          "2024-08-29T00:00:00+05:30",
          "2024-08-30T00:00:00+05:30",
          "2024-09-02T00:00:00+05:30",
          "2024-09-03T00:00:00+05:30",
          "2024-09-04T00:00:00+05:30",
          "2024-09-05T00:00:00+05:30",
          "2024-09-06T00:00:00+05:30",
          "2024-09-09T00:00:00+05:30",
          "2024-09-10T00:00:00+05:30",
          "2024-09-11T00:00:00+05:30",
          "2024-09-12T00:00:00+05:30",
          "2024-09-13T00:00:00+05:30",
          "2024-09-16T00:00:00+05:30",
          "2024-09-17T00:00:00+05:30",
          "2024-09-18T00:00:00+05:30",
          "2024-09-19T00:00:00+05:30",
          "2024-09-20T00:00:00+05:30"
         ],
         "y": [
          5079.2001953125,
          5099.4501953125,
          5057.85009765625,
          4901.5,
          4959.39990234375,
          4958.5498046875,
          4964.85009765625,
          5008.7998046875,
          4927.4501953125,
          4999.85009765625,
          4980.60009765625,
          5100.89990234375,
          5308.14990234375,
          5303.4501953125,
          5361.39990234375,
          5344.39990234375,
          5299.10009765625,
          5238.5498046875,
          5187.0498046875,
          5204.7998046875,
          5219.85009765625,
          5265.2001953125,
          5342.5,
          5320.5498046875
         ]
        },
        {
         "mode": "lines",
         "name": "MARUTI.NS",
         "opacity": 0.5,
         "type": "scatter",
         "x": [
          "2024-08-20T00:00:00+05:30",
          "2024-08-21T00:00:00+05:30",
          "2024-08-22T00:00:00+05:30",
          "2024-08-23T00:00:00+05:30",
          "2024-08-26T00:00:00+05:30",
          "2024-08-27T00:00:00+05:30",
          "2024-08-28T00:00:00+05:30",
          "2024-08-29T00:00:00+05:30",
          "2024-08-30T00:00:00+05:30",
          "2024-09-02T00:00:00+05:30",
          "2024-09-03T00:00:00+05:30",
          "2024-09-04T00:00:00+05:30",
          "2024-09-05T00:00:00+05:30",
          "2024-09-06T00:00:00+05:30",
          "2024-09-09T00:00:00+05:30",
          "2024-09-10T00:00:00+05:30",
          "2024-09-11T00:00:00+05:30",
          "2024-09-12T00:00:00+05:30",
          "2024-09-13T00:00:00+05:30",
          "2024-09-16T00:00:00+05:30",
          "2024-09-17T00:00:00+05:30",
          "2024-09-18T00:00:00+05:30",
          "2024-09-19T00:00:00+05:30",
          "2024-09-20T00:00:00+05:30"
         ],
         "y": [
          12214.9501953125,
          12220.9501953125,
          12276.349609375,
          12302.2998046875,
          12243.7998046875,
          12496.900390625,
          12357.5,
          12453.7998046875,
          12403,
          12427.400390625,
          12397.099609375,
          12336.25,
          12298.599609375,
          12186.150390625,
          12145.75,
          12263.400390625,
          12242.599609375,
          12400.849609375,
          12316.0498046875,
          12289,
          12245.75,
          12204.099609375,
          12351.5,
          12614.5
         ]
        },
        {
         "mode": "lines",
         "name": "ULTRACEMCO.NS",
         "opacity": 0.5,
         "type": "scatter",
         "x": [
          "2024-08-20T00:00:00+05:30",
          "2024-08-21T00:00:00+05:30",
          "2024-08-22T00:00:00+05:30",
          "2024-08-23T00:00:00+05:30",
          "2024-08-26T00:00:00+05:30",
          "2024-08-27T00:00:00+05:30",
          "2024-08-28T00:00:00+05:30",
          "2024-08-29T00:00:00+05:30",
          "2024-08-30T00:00:00+05:30",
          "2024-09-02T00:00:00+05:30",
          "2024-09-03T00:00:00+05:30",
          "2024-09-04T00:00:00+05:30",
          "2024-09-05T00:00:00+05:30",
          "2024-09-06T00:00:00+05:30",
          "2024-09-09T00:00:00+05:30",
          "2024-09-10T00:00:00+05:30",
          "2024-09-11T00:00:00+05:30",
          "2024-09-12T00:00:00+05:30",
          "2024-09-13T00:00:00+05:30",
          "2024-09-16T00:00:00+05:30",
          "2024-09-17T00:00:00+05:30",
          "2024-09-18T00:00:00+05:30",
          "2024-09-19T00:00:00+05:30",
          "2024-09-20T00:00:00+05:30"
         ],
         "y": [
          11349.7001953125,
          11200.900390625,
          11309.400390625,
          11341.7998046875,
          11337.099609375,
          11300.349609375,
          11234.7998046875,
          11222,
          11301.900390625,
          11424.900390625,
          11460.7998046875,
          11580.4501953125,
          11542.650390625,
          11432.849609375,
          11494.349609375,
          11541.0498046875,
          11487.4501953125,
          11710.25,
          11717.9501953125,
          11642.650390625,
          11645.650390625,
          11630.900390625,
          11627.5,
          11798.2998046875
         ]
        },
        {
         "mode": "lines",
         "name": "TITAN.NS",
         "opacity": 0.5,
         "type": "scatter",
         "x": [
          "2024-08-20T00:00:00+05:30",
          "2024-08-21T00:00:00+05:30",
          "2024-08-22T00:00:00+05:30",
          "2024-08-23T00:00:00+05:30",
          "2024-08-26T00:00:00+05:30",
          "2024-08-27T00:00:00+05:30",
          "2024-08-28T00:00:00+05:30",
          "2024-08-29T00:00:00+05:30",
          "2024-08-30T00:00:00+05:30",
          "2024-09-02T00:00:00+05:30",
          "2024-09-03T00:00:00+05:30",
          "2024-09-04T00:00:00+05:30",
          "2024-09-05T00:00:00+05:30",
          "2024-09-06T00:00:00+05:30",
          "2024-09-09T00:00:00+05:30",
          "2024-09-10T00:00:00+05:30",
          "2024-09-11T00:00:00+05:30",
          "2024-09-12T00:00:00+05:30",
          "2024-09-13T00:00:00+05:30",
          "2024-09-16T00:00:00+05:30",
          "2024-09-17T00:00:00+05:30",
          "2024-09-18T00:00:00+05:30",
          "2024-09-19T00:00:00+05:30",
          "2024-09-20T00:00:00+05:30"
         ],
         "y": [
          3474.89990234375,
          3560.39990234375,
          3604.39990234375,
          3570,
          3630.199951171875,
          3551.25,
          3527.5,
          3533.199951171875,
          3565.14990234375,
          3587.550048828125,
          3621.14990234375,
          3607.699951171875,
          3722.85009765625,
          3695.5,
          3684.550048828125,
          3727.39990234375,
          3711.10009765625,
          3764.25,
          3767,
          3740.64990234375,
          3767.39990234375,
          3725.35009765625,
          3780.949951171875,
          3797.199951171875
         ]
        },
        {
         "mode": "lines",
         "name": "SUNPHARMA.NS",
         "opacity": 0.5,
         "type": "scatter",
         "x": [
          "2024-08-20T00:00:00+05:30",
          "2024-08-21T00:00:00+05:30",
          "2024-08-22T00:00:00+05:30",
          "2024-08-23T00:00:00+05:30",
          "2024-08-26T00:00:00+05:30",
          "2024-08-27T00:00:00+05:30",
          "2024-08-28T00:00:00+05:30",
          "2024-08-29T00:00:00+05:30",
          "2024-08-30T00:00:00+05:30",
          "2024-09-02T00:00:00+05:30",
          "2024-09-03T00:00:00+05:30",
          "2024-09-04T00:00:00+05:30",
          "2024-09-05T00:00:00+05:30",
          "2024-09-06T00:00:00+05:30",
          "2024-09-09T00:00:00+05:30",
          "2024-09-10T00:00:00+05:30",
          "2024-09-11T00:00:00+05:30",
          "2024-09-12T00:00:00+05:30",
          "2024-09-13T00:00:00+05:30",
          "2024-09-16T00:00:00+05:30",
          "2024-09-17T00:00:00+05:30",
          "2024-09-18T00:00:00+05:30",
          "2024-09-19T00:00:00+05:30",
          "2024-09-20T00:00:00+05:30"
         ],
         "y": [
          1766.3499755859375,
          1764.6500244140625,
          1750.6500244140625,
          1775.75,
          1772.449951171875,
          1789.4000244140625,
          1811.8499755859373,
          1799.199951171875,
          1821.6500244140625,
          1815.949951171875,
          1811.5,
          1832.8499755859373,
          1826.5,
          1824.550048828125,
          1821.8499755859373,
          1836.3499755859373,
          1845.699951171875,
          1865.4000244140625,
          1853.75,
          1862.949951171875,
          1866.0999755859373,
          1836,
          1846.050048828125,
          1865.75
         ]
        },
        {
         "mode": "lines",
         "name": "M&M.NS",
         "opacity": 0.5,
         "type": "scatter",
         "x": [
          "2024-08-20T00:00:00+05:30",
          "2024-08-21T00:00:00+05:30",
          "2024-08-22T00:00:00+05:30",
          "2024-08-23T00:00:00+05:30",
          "2024-08-26T00:00:00+05:30",
          "2024-08-27T00:00:00+05:30",
          "2024-08-28T00:00:00+05:30",
          "2024-08-29T00:00:00+05:30",
          "2024-08-30T00:00:00+05:30",
          "2024-09-02T00:00:00+05:30",
          "2024-09-03T00:00:00+05:30",
          "2024-09-04T00:00:00+05:30",
          "2024-09-05T00:00:00+05:30",
          "2024-09-06T00:00:00+05:30",
          "2024-09-09T00:00:00+05:30",
          "2024-09-10T00:00:00+05:30",
          "2024-09-11T00:00:00+05:30",
          "2024-09-12T00:00:00+05:30",
          "2024-09-13T00:00:00+05:30",
          "2024-09-16T00:00:00+05:30",
          "2024-09-17T00:00:00+05:30",
          "2024-09-18T00:00:00+05:30",
          "2024-09-19T00:00:00+05:30",
          "2024-09-20T00:00:00+05:30"
         ],
         "y": [
          2771.300048828125,
          2769.39990234375,
          2732.949951171875,
          2759,
          2793.10009765625,
          2780.800048828125,
          2798,
          2757.60009765625,
          2805.39990234375,
          2777,
          2784.85009765625,
          2749.60009765625,
          2723.10009765625,
          2698.10009765625,
          2708.85009765625,
          2690,
          2654.25,
          2740.89990234375,
          2739.10009765625,
          2757.39990234375,
          2787.64990234375,
          2808.199951171875,
          2797.5,
          2950.85009765625
         ]
        },
        {
         "mode": "lines",
         "name": "NESTLEIND.NS",
         "opacity": 0.5,
         "type": "scatter",
         "x": [
          "2024-08-20T00:00:00+05:30",
          "2024-08-21T00:00:00+05:30",
          "2024-08-22T00:00:00+05:30",
          "2024-08-23T00:00:00+05:30",
          "2024-08-26T00:00:00+05:30",
          "2024-08-27T00:00:00+05:30",
          "2024-08-28T00:00:00+05:30",
          "2024-08-29T00:00:00+05:30",
          "2024-08-30T00:00:00+05:30",
          "2024-09-02T00:00:00+05:30",
          "2024-09-03T00:00:00+05:30",
          "2024-09-04T00:00:00+05:30",
          "2024-09-05T00:00:00+05:30",
          "2024-09-06T00:00:00+05:30",
          "2024-09-09T00:00:00+05:30",
          "2024-09-10T00:00:00+05:30",
          "2024-09-11T00:00:00+05:30",
          "2024-09-12T00:00:00+05:30",
          "2024-09-13T00:00:00+05:30",
          "2024-09-16T00:00:00+05:30",
          "2024-09-17T00:00:00+05:30",
          "2024-09-18T00:00:00+05:30",
          "2024-09-19T00:00:00+05:30",
          "2024-09-20T00:00:00+05:30"
         ],
         "y": [
          2518.5,
          2551.75,
          2551,
          2529.199951171875,
          2519.550048828125,
          2521.449951171875,
          2492.5,
          2504.550048828125,
          2500.75,
          2509.89990234375,
          2530.75,
          2534.75,
          2504.89990234375,
          2503.199951171875,
          2516.75,
          2535.5,
          2526.85009765625,
          2527.85009765625,
          2531.39990234375,
          2549.60009765625,
          2546.85009765625,
          2597.14990234375,
          2634.199951171875,
          2699.550048828125
         ]
        },
        {
         "mode": "lines",
         "name": "WIPRO.NS",
         "opacity": 0.5,
         "type": "scatter",
         "x": [
          "2024-08-20T00:00:00+05:30",
          "2024-08-21T00:00:00+05:30",
          "2024-08-22T00:00:00+05:30",
          "2024-08-23T00:00:00+05:30",
          "2024-08-26T00:00:00+05:30",
          "2024-08-27T00:00:00+05:30",
          "2024-08-28T00:00:00+05:30",
          "2024-08-29T00:00:00+05:30",
          "2024-08-30T00:00:00+05:30",
          "2024-09-02T00:00:00+05:30",
          "2024-09-03T00:00:00+05:30",
          "2024-09-04T00:00:00+05:30",
          "2024-09-05T00:00:00+05:30",
          "2024-09-06T00:00:00+05:30",
          "2024-09-09T00:00:00+05:30",
          "2024-09-10T00:00:00+05:30",
          "2024-09-11T00:00:00+05:30",
          "2024-09-12T00:00:00+05:30",
          "2024-09-13T00:00:00+05:30",
          "2024-09-16T00:00:00+05:30",
          "2024-09-17T00:00:00+05:30",
          "2024-09-18T00:00:00+05:30",
          "2024-09-19T00:00:00+05:30",
          "2024-09-20T00:00:00+05:30"
         ],
         "y": [
          524.6500244140625,
          526.3499755859375,
          519,
          512.4000244140625,
          520,
          517.1500244140625,
          534.5999755859375,
          538.7000122070312,
          538.4000244140625,
          532.4500122070312,
          536.0499877929688,
          519.1500244140625,
          524.8499755859375,
          520.5999755859375,
          514.8499755859375,
          525.75,
          514.3499755859375,
          530.0499877929688,
          550.5999755859375,
          551.9000244140625,
          551.9000244140625,
          538.1500244140625,
          533.3499755859375,
          539.0999755859375
         ]
        },
        {
         "mode": "lines",
         "name": "ADANIGREEN.NS",
         "opacity": 0.5,
         "type": "scatter",
         "x": [
          "2024-08-20T00:00:00+05:30",
          "2024-08-21T00:00:00+05:30",
          "2024-08-22T00:00:00+05:30",
          "2024-08-23T00:00:00+05:30",
          "2024-08-26T00:00:00+05:30",
          "2024-08-27T00:00:00+05:30",
          "2024-08-28T00:00:00+05:30",
          "2024-08-29T00:00:00+05:30",
          "2024-08-30T00:00:00+05:30",
          "2024-09-02T00:00:00+05:30",
          "2024-09-03T00:00:00+05:30",
          "2024-09-04T00:00:00+05:30",
          "2024-09-05T00:00:00+05:30",
          "2024-09-06T00:00:00+05:30",
          "2024-09-09T00:00:00+05:30",
          "2024-09-10T00:00:00+05:30",
          "2024-09-11T00:00:00+05:30",
          "2024-09-12T00:00:00+05:30",
          "2024-09-13T00:00:00+05:30",
          "2024-09-16T00:00:00+05:30",
          "2024-09-17T00:00:00+05:30",
          "2024-09-18T00:00:00+05:30",
          "2024-09-19T00:00:00+05:30",
          "2024-09-20T00:00:00+05:30"
         ],
         "y": [
          1924.5999755859373,
          1920.8499755859373,
          1886.3499755859373,
          1900.9000244140625,
          1888.9000244140625,
          1886.800048828125,
          1861.0999755859373,
          1829.6500244140625,
          1838.1500244140625,
          1945.699951171875,
          1897.9000244140625,
          1930.9000244140625,
          1890.300048828125,
          1863.300048828125,
          1865.75,
          1849.699951171875,
          1814.449951171875,
          1811.9000244140625,
          1788.199951171875,
          1930.800048828125,
          1954.4000244140625,
          1950.800048828125,
          1962.949951171875,
          2003.949951171875
         ]
        },
        {
         "mode": "lines",
         "name": "TATASTEEL.NS",
         "opacity": 0.5,
         "type": "scatter",
         "x": [
          "2024-08-20T00:00:00+05:30",
          "2024-08-21T00:00:00+05:30",
          "2024-08-22T00:00:00+05:30",
          "2024-08-23T00:00:00+05:30",
          "2024-08-26T00:00:00+05:30",
          "2024-08-27T00:00:00+05:30",
          "2024-08-28T00:00:00+05:30",
          "2024-08-29T00:00:00+05:30",
          "2024-08-30T00:00:00+05:30",
          "2024-09-02T00:00:00+05:30",
          "2024-09-03T00:00:00+05:30",
          "2024-09-04T00:00:00+05:30",
          "2024-09-05T00:00:00+05:30",
          "2024-09-06T00:00:00+05:30",
          "2024-09-09T00:00:00+05:30",
          "2024-09-10T00:00:00+05:30",
          "2024-09-11T00:00:00+05:30",
          "2024-09-12T00:00:00+05:30",
          "2024-09-13T00:00:00+05:30",
          "2024-09-16T00:00:00+05:30",
          "2024-09-17T00:00:00+05:30",
          "2024-09-18T00:00:00+05:30",
          "2024-09-19T00:00:00+05:30",
          "2024-09-20T00:00:00+05:30"
         ],
         "y": [
          153.92999267578125,
          151.9199981689453,
          154.13999938964844,
          154.1999969482422,
          155.6999969482422,
          154.6999969482422,
          153.6999969482422,
          152.97000122070312,
          152.75999450683594,
          152.8800048828125,
          152.14999389648438,
          151.17999267578125,
          151.72000122070312,
          151.22000122070312,
          149.47000122070312,
          149.4199981689453,
          148.1699981689453,
          151.74000549316406,
          153.49000549316406,
          154.2100067138672,
          152.82000732421875,
          150.60000610351562,
          149.5399932861328,
          152.02000427246094
         ]
        },
        {
         "mode": "lines",
         "name": "JSWSTEEL.NS",
         "opacity": 0.5,
         "type": "scatter",
         "x": [
          "2024-08-20T00:00:00+05:30",
          "2024-08-21T00:00:00+05:30",
          "2024-08-22T00:00:00+05:30",
          "2024-08-23T00:00:00+05:30",
          "2024-08-26T00:00:00+05:30",
          "2024-08-27T00:00:00+05:30",
          "2024-08-28T00:00:00+05:30",
          "2024-08-29T00:00:00+05:30",
          "2024-08-30T00:00:00+05:30",
          "2024-09-02T00:00:00+05:30",
          "2024-09-03T00:00:00+05:30",
          "2024-09-04T00:00:00+05:30",
          "2024-09-05T00:00:00+05:30",
          "2024-09-06T00:00:00+05:30",
          "2024-09-09T00:00:00+05:30",
          "2024-09-10T00:00:00+05:30",
          "2024-09-11T00:00:00+05:30",
          "2024-09-12T00:00:00+05:30",
          "2024-09-13T00:00:00+05:30",
          "2024-09-16T00:00:00+05:30",
          "2024-09-17T00:00:00+05:30",
          "2024-09-18T00:00:00+05:30",
          "2024-09-19T00:00:00+05:30",
          "2024-09-20T00:00:00+05:30"
         ],
         "y": [
          917.1500244140624,
          925.7999877929688,
          933.25,
          941.0499877929688,
          963.5,
          944,
          949.25,
          939.7000122070312,
          941.0999755859376,
          940.4500122070312,
          930.9500122070312,
          933.0499877929688,
          925.4500122070312,
          932.7999877929688,
          934.25,
          938.75,
          927.75,
          954.7999877929688,
          954.5499877929688,
          971,
          964.25,
          956.7000122070312,
          948.4000244140624,
          981.5499877929688
         ]
        },
        {
         "mode": "lines",
         "name": "POWERGRID.NS",
         "opacity": 0.5,
         "type": "scatter",
         "x": [
          "2024-08-20T00:00:00+05:30",
          "2024-08-21T00:00:00+05:30",
          "2024-08-22T00:00:00+05:30",
          "2024-08-23T00:00:00+05:30",
          "2024-08-26T00:00:00+05:30",
          "2024-08-27T00:00:00+05:30",
          "2024-08-28T00:00:00+05:30",
          "2024-08-29T00:00:00+05:30",
          "2024-08-30T00:00:00+05:30",
          "2024-09-02T00:00:00+05:30",
          "2024-09-03T00:00:00+05:30",
          "2024-09-04T00:00:00+05:30",
          "2024-09-05T00:00:00+05:30",
          "2024-09-06T00:00:00+05:30",
          "2024-09-09T00:00:00+05:30",
          "2024-09-10T00:00:00+05:30",
          "2024-09-11T00:00:00+05:30",
          "2024-09-12T00:00:00+05:30",
          "2024-09-13T00:00:00+05:30",
          "2024-09-16T00:00:00+05:30",
          "2024-09-17T00:00:00+05:30",
          "2024-09-18T00:00:00+05:30",
          "2024-09-19T00:00:00+05:30",
          "2024-09-20T00:00:00+05:30"
         ],
         "y": [
          340.5,
          336.6499938964844,
          334,
          336.25,
          338.25,
          335.3500061035156,
          334.45001220703125,
          333.29998779296875,
          337.3999938964844,
          335.54998779296875,
          334.6499938964844,
          332.8999938964844,
          331.25,
          329.79998779296875,
          328.54998779296875,
          334.1499938964844,
          333.20001220703125,
          338.20001220703125,
          337.25,
          338.25,
          336.8999938964844,
          334.29998779296875,
          334.8999938964844,
          340.8500061035156
         ]
        },
        {
         "mode": "lines",
         "name": "ONGC.NS",
         "opacity": 0.5,
         "type": "scatter",
         "x": [
          "2024-08-20T00:00:00+05:30",
          "2024-08-21T00:00:00+05:30",
          "2024-08-22T00:00:00+05:30",
          "2024-08-23T00:00:00+05:30",
          "2024-08-26T00:00:00+05:30",
          "2024-08-27T00:00:00+05:30",
          "2024-08-28T00:00:00+05:30",
          "2024-08-29T00:00:00+05:30",
          "2024-08-30T00:00:00+05:30",
          "2024-09-02T00:00:00+05:30",
          "2024-09-03T00:00:00+05:30",
          "2024-09-04T00:00:00+05:30",
          "2024-09-05T00:00:00+05:30",
          "2024-09-06T00:00:00+05:30",
          "2024-09-09T00:00:00+05:30",
          "2024-09-10T00:00:00+05:30",
          "2024-09-11T00:00:00+05:30",
          "2024-09-12T00:00:00+05:30",
          "2024-09-13T00:00:00+05:30",
          "2024-09-16T00:00:00+05:30",
          "2024-09-17T00:00:00+05:30",
          "2024-09-18T00:00:00+05:30",
          "2024-09-19T00:00:00+05:30",
          "2024-09-20T00:00:00+05:30"
         ],
         "y": [
          327.5556945800781,
          325.1741943359375,
          321.8500061035156,
          318.8999938964844,
          327.8500061035156,
          328.8500061035156,
          327.79998779296875,
          329.6000061035156,
          330.75,
          326.20001220703125,
          322.20001220703125,
          314.3999938964844,
          311.3999938964844,
          308.79998779296875,
          298.8999938964844,
          295.6000061035156,
          285.29998779296875,
          294.04998779296875,
          291.45001220703125,
          292.5,
          294.6499938964844,
          290.3999938964844,
          285.25,
          286.25
         ]
        },
        {
         "mode": "lines",
         "name": "NTPC.NS",
         "opacity": 0.5,
         "type": "scatter",
         "x": [
          "2024-08-20T00:00:00+05:30",
          "2024-08-21T00:00:00+05:30",
          "2024-08-22T00:00:00+05:30",
          "2024-08-23T00:00:00+05:30",
          "2024-08-26T00:00:00+05:30",
          "2024-08-27T00:00:00+05:30",
          "2024-08-28T00:00:00+05:30",
          "2024-08-29T00:00:00+05:30",
          "2024-08-30T00:00:00+05:30",
          "2024-09-02T00:00:00+05:30",
          "2024-09-03T00:00:00+05:30",
          "2024-09-04T00:00:00+05:30",
          "2024-09-05T00:00:00+05:30",
          "2024-09-06T00:00:00+05:30",
          "2024-09-09T00:00:00+05:30",
          "2024-09-10T00:00:00+05:30",
          "2024-09-11T00:00:00+05:30",
          "2024-09-12T00:00:00+05:30",
          "2024-09-13T00:00:00+05:30",
          "2024-09-16T00:00:00+05:30",
          "2024-09-17T00:00:00+05:30",
          "2024-09-18T00:00:00+05:30",
          "2024-09-19T00:00:00+05:30",
          "2024-09-20T00:00:00+05:30"
         ],
         "y": [
          406.25,
          408.9500122070313,
          403.3500061035156,
          401.9500122070313,
          414.8500061035156,
          409.6499938964844,
          409.0499877929688,
          409.8999938964844,
          416.2000122070313,
          410,
          406.3999938964844,
          405.1000061035156,
          403.25,
          394.7999877929688,
          389.8500061035156,
          396.2999877929688,
          389.6499938964844,
          404.8500061035156,
          401.3999938964844,
          411.1000061035156,
          416.2999877929688,
          414.1499938964844,
          423.9500122070313,
          423.9500122070313
         ]
        },
        {
         "mode": "lines",
         "name": "COALINDIA.NS",
         "opacity": 0.5,
         "type": "scatter",
         "x": [
          "2024-08-20T00:00:00+05:30",
          "2024-08-21T00:00:00+05:30",
          "2024-08-22T00:00:00+05:30",
          "2024-08-23T00:00:00+05:30",
          "2024-08-26T00:00:00+05:30",
          "2024-08-27T00:00:00+05:30",
          "2024-08-28T00:00:00+05:30",
          "2024-08-29T00:00:00+05:30",
          "2024-08-30T00:00:00+05:30",
          "2024-09-02T00:00:00+05:30",
          "2024-09-03T00:00:00+05:30",
          "2024-09-04T00:00:00+05:30",
          "2024-09-05T00:00:00+05:30",
          "2024-09-06T00:00:00+05:30",
          "2024-09-09T00:00:00+05:30",
          "2024-09-10T00:00:00+05:30",
          "2024-09-11T00:00:00+05:30",
          "2024-09-12T00:00:00+05:30",
          "2024-09-13T00:00:00+05:30",
          "2024-09-16T00:00:00+05:30",
          "2024-09-17T00:00:00+05:30",
          "2024-09-18T00:00:00+05:30",
          "2024-09-19T00:00:00+05:30",
          "2024-09-20T00:00:00+05:30"
         ],
         "y": [
          524.5999755859375,
          532.2000122070312,
          528.8499755859375,
          538.8499755859375,
          538.0999755859375,
          531.4000244140625,
          526.3499755859375,
          527.5499877929688,
          524.9500122070312,
          520.8499755859375,
          519.5999755859375,
          503.6499938964844,
          497,
          488.5499877929688,
          484.4500122070313,
          491.1000061035156,
          483.9500122070313,
          495.6499938964844,
          490.25,
          493.25,
          488.5,
          487.1000061035156,
          477.9500122070313,
          490.9500122070313
         ]
        },
        {
         "mode": "lines",
         "name": "BPCL.NS",
         "opacity": 0.5,
         "type": "scatter",
         "x": [
          "2024-08-20T00:00:00+05:30",
          "2024-08-21T00:00:00+05:30",
          "2024-08-22T00:00:00+05:30",
          "2024-08-23T00:00:00+05:30",
          "2024-08-26T00:00:00+05:30",
          "2024-08-27T00:00:00+05:30",
          "2024-08-28T00:00:00+05:30",
          "2024-08-29T00:00:00+05:30",
          "2024-08-30T00:00:00+05:30",
          "2024-09-02T00:00:00+05:30",
          "2024-09-03T00:00:00+05:30",
          "2024-09-04T00:00:00+05:30",
          "2024-09-05T00:00:00+05:30",
          "2024-09-06T00:00:00+05:30",
          "2024-09-09T00:00:00+05:30",
          "2024-09-10T00:00:00+05:30",
          "2024-09-11T00:00:00+05:30",
          "2024-09-12T00:00:00+05:30",
          "2024-09-13T00:00:00+05:30",
          "2024-09-16T00:00:00+05:30",
          "2024-09-17T00:00:00+05:30",
          "2024-09-18T00:00:00+05:30",
          "2024-09-19T00:00:00+05:30",
          "2024-09-20T00:00:00+05:30"
         ],
         "y": [
          349.3999938964844,
          351.20001220703125,
          350.1000061035156,
          352.20001220703125,
          351.1499938964844,
          349.04998779296875,
          348.1499938964844,
          356.45001220703125,
          357.6499938964844,
          358.45001220703125,
          355.3999938964844,
          357.25,
          360.7000122070313,
          352.1499938964844,
          347.79998779296875,
          345.95001220703125,
          340.25,
          344.29998779296875,
          342.29998779296875,
          340.6499938964844,
          338.3999938964844,
          336.1000061035156,
          324.45001220703125,
          331.20001220703125
         ]
        },
        {
         "mode": "lines",
         "name": "IOC.NS",
         "opacity": 0.5,
         "type": "scatter",
         "x": [
          "2024-08-20T00:00:00+05:30",
          "2024-08-21T00:00:00+05:30",
          "2024-08-22T00:00:00+05:30",
          "2024-08-23T00:00:00+05:30",
          "2024-08-26T00:00:00+05:30",
          "2024-08-27T00:00:00+05:30",
          "2024-08-28T00:00:00+05:30",
          "2024-08-29T00:00:00+05:30",
          "2024-08-30T00:00:00+05:30",
          "2024-09-02T00:00:00+05:30",
          "2024-09-03T00:00:00+05:30",
          "2024-09-04T00:00:00+05:30",
          "2024-09-05T00:00:00+05:30",
          "2024-09-06T00:00:00+05:30",
          "2024-09-09T00:00:00+05:30",
          "2024-09-10T00:00:00+05:30",
          "2024-09-11T00:00:00+05:30",
          "2024-09-12T00:00:00+05:30",
          "2024-09-13T00:00:00+05:30",
          "2024-09-16T00:00:00+05:30",
          "2024-09-17T00:00:00+05:30",
          "2024-09-18T00:00:00+05:30",
          "2024-09-19T00:00:00+05:30",
          "2024-09-20T00:00:00+05:30"
         ],
         "y": [
          172.22999572753906,
          173.88999938964844,
          173.7899932861328,
          173.1300048828125,
          173.4600067138672,
          173.25,
          173.75,
          176.83999633789062,
          176.97000122070312,
          178.72999572753906,
          176.1300048828125,
          177.02999877929688,
          181.33999633789065,
          176.63999938964844,
          175.33999633789062,
          175.5500030517578,
          169.74000549316406,
          173.25999450683594,
          173.19000244140625,
          171.82000732421875,
          170.50999450683594,
          168.4499969482422,
          165.0399932861328,
          167.0500030517578
         ]
        },
        {
         "mode": "lines",
         "name": "TECHM.NS",
         "opacity": 0.5,
         "type": "scatter",
         "x": [
          "2024-08-20T00:00:00+05:30",
          "2024-08-21T00:00:00+05:30",
          "2024-08-22T00:00:00+05:30",
          "2024-08-23T00:00:00+05:30",
          "2024-08-26T00:00:00+05:30",
          "2024-08-27T00:00:00+05:30",
          "2024-08-28T00:00:00+05:30",
          "2024-08-29T00:00:00+05:30",
          "2024-08-30T00:00:00+05:30",
          "2024-09-02T00:00:00+05:30",
          "2024-09-03T00:00:00+05:30",
          "2024-09-04T00:00:00+05:30",
          "2024-09-05T00:00:00+05:30",
          "2024-09-06T00:00:00+05:30",
          "2024-09-09T00:00:00+05:30",
          "2024-09-10T00:00:00+05:30",
          "2024-09-11T00:00:00+05:30",
          "2024-09-12T00:00:00+05:30",
          "2024-09-13T00:00:00+05:30",
          "2024-09-16T00:00:00+05:30",
          "2024-09-17T00:00:00+05:30",
          "2024-09-18T00:00:00+05:30",
          "2024-09-19T00:00:00+05:30",
          "2024-09-20T00:00:00+05:30"
         ],
         "y": [
          1628.5999755859375,
          1604.6500244140625,
          1611.25,
          1598.4000244140625,
          1640.1500244140625,
          1624.5999755859375,
          1627.3499755859375,
          1647.3499755859375,
          1636.5,
          1646.6500244140625,
          1644.0999755859375,
          1645.300048828125,
          1639.5,
          1623.25,
          1579.199951171875,
          1607.4000244140625,
          1602.5999755859375,
          1643.25,
          1656.050048828125,
          1649,
          1651.550048828125,
          1605.4000244140625,
          1595.3499755859375,
          1622.050048828125
         ]
        },
        {
         "mode": "lines",
         "name": "INDUSINDBK.NS",
         "opacity": 0.5,
         "type": "scatter",
         "x": [
          "2024-08-20T00:00:00+05:30",
          "2024-08-21T00:00:00+05:30",
          "2024-08-22T00:00:00+05:30",
          "2024-08-23T00:00:00+05:30",
          "2024-08-26T00:00:00+05:30",
          "2024-08-27T00:00:00+05:30",
          "2024-08-28T00:00:00+05:30",
          "2024-08-29T00:00:00+05:30",
          "2024-08-30T00:00:00+05:30",
          "2024-09-02T00:00:00+05:30",
          "2024-09-03T00:00:00+05:30",
          "2024-09-04T00:00:00+05:30",
          "2024-09-05T00:00:00+05:30",
          "2024-09-06T00:00:00+05:30",
          "2024-09-09T00:00:00+05:30",
          "2024-09-10T00:00:00+05:30",
          "2024-09-11T00:00:00+05:30",
          "2024-09-12T00:00:00+05:30",
          "2024-09-13T00:00:00+05:30",
          "2024-09-16T00:00:00+05:30",
          "2024-09-17T00:00:00+05:30",
          "2024-09-18T00:00:00+05:30",
          "2024-09-19T00:00:00+05:30",
          "2024-09-20T00:00:00+05:30"
         ],
         "y": [
          1381.300048828125,
          1384,
          1381.9000244140625,
          1388.550048828125,
          1384.5,
          1383.199951171875,
          1415.75,
          1417.449951171875,
          1425.25,
          1449.050048828125,
          1436.699951171875,
          1434.4000244140625,
          1422.9000244140625,
          1409.3499755859375,
          1428.0999755859375,
          1435.550048828125,
          1421.199951171875,
          1443.3499755859375,
          1464.050048828125,
          1470.199951171875,
          1466.3499755859375,
          1480.25,
          1484.75,
          1480.199951171875
         ]
        },
        {
         "mode": "lines",
         "name": "DIVISLAB.NS",
         "opacity": 0.5,
         "type": "scatter",
         "x": [
          "2024-08-20T00:00:00+05:30",
          "2024-08-21T00:00:00+05:30",
          "2024-08-22T00:00:00+05:30",
          "2024-08-23T00:00:00+05:30",
          "2024-08-26T00:00:00+05:30",
          "2024-08-27T00:00:00+05:30",
          "2024-08-28T00:00:00+05:30",
          "2024-08-29T00:00:00+05:30",
          "2024-08-30T00:00:00+05:30",
          "2024-09-02T00:00:00+05:30",
          "2024-09-03T00:00:00+05:30",
          "2024-09-04T00:00:00+05:30",
          "2024-09-05T00:00:00+05:30",
          "2024-09-06T00:00:00+05:30",
          "2024-09-09T00:00:00+05:30",
          "2024-09-10T00:00:00+05:30",
          "2024-09-11T00:00:00+05:30",
          "2024-09-12T00:00:00+05:30",
          "2024-09-13T00:00:00+05:30",
          "2024-09-16T00:00:00+05:30",
          "2024-09-17T00:00:00+05:30",
          "2024-09-18T00:00:00+05:30",
          "2024-09-19T00:00:00+05:30",
          "2024-09-20T00:00:00+05:30"
         ],
         "y": [
          4723.14990234375,
          4900.7998046875,
          4911.4501953125,
          4855.9501953125,
          4926.25,
          4902.5,
          5030.7001953125,
          5012.5498046875,
          5093.89990234375,
          5036.85009765625,
          5066,
          5096.60009765625,
          5120.89990234375,
          5137.7998046875,
          5173.5,
          5426.4501953125,
          5439.2998046875,
          5482.7998046875,
          5498.64990234375,
          5479.35009765625,
          5452.2001953125,
          5469.14990234375,
          5429.2001953125,
          5450.75
         ]
        },
        {
         "mode": "lines",
         "name": "GRASIM.NS",
         "opacity": 0.5,
         "type": "scatter",
         "x": [
          "2024-08-20T00:00:00+05:30",
          "2024-08-21T00:00:00+05:30",
          "2024-08-22T00:00:00+05:30",
          "2024-08-23T00:00:00+05:30",
          "2024-08-26T00:00:00+05:30",
          "2024-08-27T00:00:00+05:30",
          "2024-08-28T00:00:00+05:30",
          "2024-08-29T00:00:00+05:30",
          "2024-08-30T00:00:00+05:30",
          "2024-09-02T00:00:00+05:30",
          "2024-09-03T00:00:00+05:30",
          "2024-09-04T00:00:00+05:30",
          "2024-09-05T00:00:00+05:30",
          "2024-09-06T00:00:00+05:30",
          "2024-09-09T00:00:00+05:30",
          "2024-09-10T00:00:00+05:30",
          "2024-09-11T00:00:00+05:30",
          "2024-09-12T00:00:00+05:30",
          "2024-09-13T00:00:00+05:30",
          "2024-09-16T00:00:00+05:30",
          "2024-09-17T00:00:00+05:30",
          "2024-09-18T00:00:00+05:30",
          "2024-09-19T00:00:00+05:30",
          "2024-09-20T00:00:00+05:30"
         ],
         "y": [
          2636.699951171875,
          2684.85009765625,
          2755.14990234375,
          2748.550048828125,
          2736.60009765625,
          2699.89990234375,
          2715.550048828125,
          2676.199951171875,
          2698.85009765625,
          2690.800048828125,
          2706.85009765625,
          2757.64990234375,
          2741.60009765625,
          2692.85009765625,
          2710.35009765625,
          2702.550048828125,
          2681.14990234375,
          2757.10009765625,
          2784.35009765625,
          2765.300048828125,
          2754.85009765625,
          2722.699951171875,
          2738.949951171875,
          2678.25
         ]
        },
        {
         "mode": "lines",
         "name": "CIPLA.NS",
         "opacity": 0.5,
         "type": "scatter",
         "x": [
          "2024-08-20T00:00:00+05:30",
          "2024-08-21T00:00:00+05:30",
          "2024-08-22T00:00:00+05:30",
          "2024-08-23T00:00:00+05:30",
          "2024-08-26T00:00:00+05:30",
          "2024-08-27T00:00:00+05:30",
          "2024-08-28T00:00:00+05:30",
          "2024-08-29T00:00:00+05:30",
          "2024-08-30T00:00:00+05:30",
          "2024-09-02T00:00:00+05:30",
          "2024-09-03T00:00:00+05:30",
          "2024-09-04T00:00:00+05:30",
          "2024-09-05T00:00:00+05:30",
          "2024-09-06T00:00:00+05:30",
          "2024-09-09T00:00:00+05:30",
          "2024-09-10T00:00:00+05:30",
          "2024-09-11T00:00:00+05:30",
          "2024-09-12T00:00:00+05:30",
          "2024-09-13T00:00:00+05:30",
          "2024-09-16T00:00:00+05:30",
          "2024-09-17T00:00:00+05:30",
          "2024-09-18T00:00:00+05:30",
          "2024-09-19T00:00:00+05:30",
          "2024-09-20T00:00:00+05:30"
         ],
         "y": [
          1562.8499755859375,
          1594.5999755859375,
          1585.800048828125,
          1574.550048828125,
          1593.949951171875,
          1598.050048828125,
          1618.199951171875,
          1618.550048828125,
          1654.9000244140625,
          1646.6500244140625,
          1653.199951171875,
          1651.9000244140625,
          1627.75,
          1611.050048828125,
          1620.1500244140625,
          1632,
          1628.3499755859375,
          1657.25,
          1659.699951171875,
          1659.4000244140625,
          1671.800048828125,
          1651.5999755859375,
          1637.699951171875,
          1638.6500244140625
         ]
        },
        {
         "mode": "lines",
         "name": "BAJAJFINSV.NS",
         "opacity": 0.5,
         "type": "scatter",
         "x": [
          "2024-08-20T00:00:00+05:30",
          "2024-08-21T00:00:00+05:30",
          "2024-08-22T00:00:00+05:30",
          "2024-08-23T00:00:00+05:30",
          "2024-08-26T00:00:00+05:30",
          "2024-08-27T00:00:00+05:30",
          "2024-08-28T00:00:00+05:30",
          "2024-08-29T00:00:00+05:30",
          "2024-08-30T00:00:00+05:30",
          "2024-09-02T00:00:00+05:30",
          "2024-09-03T00:00:00+05:30",
          "2024-09-04T00:00:00+05:30",
          "2024-09-05T00:00:00+05:30",
          "2024-09-06T00:00:00+05:30",
          "2024-09-09T00:00:00+05:30",
          "2024-09-10T00:00:00+05:30",
          "2024-09-11T00:00:00+05:30",
          "2024-09-12T00:00:00+05:30",
          "2024-09-13T00:00:00+05:30",
          "2024-09-16T00:00:00+05:30",
          "2024-09-17T00:00:00+05:30",
          "2024-09-18T00:00:00+05:30",
          "2024-09-19T00:00:00+05:30",
          "2024-09-20T00:00:00+05:30"
         ],
         "y": [
          1602.0999755859375,
          1620.949951171875,
          1625.699951171875,
          1639.9000244140625,
          1686.199951171875,
          1719,
          1713.5,
          1755.6500244140625,
          1783.050048828125,
          1840.550048828125,
          1865.5999755859373,
          1871.9000244140625,
          1864.949951171875,
          1857.1500244140625,
          1860.449951171875,
          1824.5,
          1833.1500244140625,
          1854.8499755859373,
          1894.449951171875,
          1857.5999755859373,
          1848.699951171875,
          1888.199951171875,
          1890.4000244140625,
          1916.800048828125
         ]
        },
        {
         "mode": "lines",
         "name": "TATAMOTORS.NS",
         "opacity": 0.5,
         "type": "scatter",
         "x": [
          "2024-08-20T00:00:00+05:30",
          "2024-08-21T00:00:00+05:30",
          "2024-08-22T00:00:00+05:30",
          "2024-08-23T00:00:00+05:30",
          "2024-08-26T00:00:00+05:30",
          "2024-08-27T00:00:00+05:30",
          "2024-08-28T00:00:00+05:30",
          "2024-08-29T00:00:00+05:30",
          "2024-08-30T00:00:00+05:30",
          "2024-09-02T00:00:00+05:30",
          "2024-09-03T00:00:00+05:30",
          "2024-09-04T00:00:00+05:30",
          "2024-09-05T00:00:00+05:30",
          "2024-09-06T00:00:00+05:30",
          "2024-09-09T00:00:00+05:30",
          "2024-09-10T00:00:00+05:30",
          "2024-09-11T00:00:00+05:30",
          "2024-09-12T00:00:00+05:30",
          "2024-09-13T00:00:00+05:30",
          "2024-09-16T00:00:00+05:30",
          "2024-09-17T00:00:00+05:30",
          "2024-09-18T00:00:00+05:30",
          "2024-09-19T00:00:00+05:30",
          "2024-09-20T00:00:00+05:30"
         ],
         "y": [
          1086.9000244140625,
          1085.199951171875,
          1068.449951171875,
          1085.1500244140625,
          1092.4000244140625,
          1077.25,
          1074.550048828125,
          1121.6500244140625,
          1111.3499755859375,
          1092.6500244140625,
          1085.0999755859375,
          1080.449951171875,
          1069.1500244140625,
          1049.3499755859375,
          1038.699951171875,
          1035.800048828125,
          976.2999877929688,
          986.1500244140624,
          992.0999755859376,
          988.4000244140624,
          974.9500122070312,
          962.0499877929688,
          967,
          970.8499755859376
         ]
        },
        {
         "mode": "lines",
         "name": "HEROMOTOCO.NS",
         "opacity": 0.5,
         "type": "scatter",
         "x": [
          "2024-08-20T00:00:00+05:30",
          "2024-08-21T00:00:00+05:30",
          "2024-08-22T00:00:00+05:30",
          "2024-08-23T00:00:00+05:30",
          "2024-08-26T00:00:00+05:30",
          "2024-08-27T00:00:00+05:30",
          "2024-08-28T00:00:00+05:30",
          "2024-08-29T00:00:00+05:30",
          "2024-08-30T00:00:00+05:30",
          "2024-09-02T00:00:00+05:30",
          "2024-09-03T00:00:00+05:30",
          "2024-09-04T00:00:00+05:30",
          "2024-09-05T00:00:00+05:30",
          "2024-09-06T00:00:00+05:30",
          "2024-09-09T00:00:00+05:30",
          "2024-09-10T00:00:00+05:30",
          "2024-09-11T00:00:00+05:30",
          "2024-09-12T00:00:00+05:30",
          "2024-09-13T00:00:00+05:30",
          "2024-09-16T00:00:00+05:30",
          "2024-09-17T00:00:00+05:30",
          "2024-09-18T00:00:00+05:30",
          "2024-09-19T00:00:00+05:30",
          "2024-09-20T00:00:00+05:30"
         ],
         "y": [
          5244.39990234375,
          5284.7001953125,
          5329.9501953125,
          5384.89990234375,
          5343.75,
          5356.5498046875,
          5311.39990234375,
          5374.5,
          5455.39990234375,
          5578.2001953125,
          5646.5,
          5683.75,
          5734.2001953125,
          5743.75,
          5745.2998046875,
          5669.7001953125,
          5654.4501953125,
          5803.14990234375,
          5795.7998046875,
          5779.4501953125,
          5961.2001953125,
          5964.75,
          6006.0498046875,
          6013.25
         ]
        },
        {
         "mode": "lines",
         "name": "DRREDDY.NS",
         "opacity": 0.5,
         "type": "scatter",
         "x": [
          "2024-08-20T00:00:00+05:30",
          "2024-08-21T00:00:00+05:30",
          "2024-08-22T00:00:00+05:30",
          "2024-08-23T00:00:00+05:30",
          "2024-08-26T00:00:00+05:30",
          "2024-08-27T00:00:00+05:30",
          "2024-08-28T00:00:00+05:30",
          "2024-08-29T00:00:00+05:30",
          "2024-08-30T00:00:00+05:30",
          "2024-09-02T00:00:00+05:30",
          "2024-09-03T00:00:00+05:30",
          "2024-09-04T00:00:00+05:30",
          "2024-09-05T00:00:00+05:30",
          "2024-09-06T00:00:00+05:30",
          "2024-09-09T00:00:00+05:30",
          "2024-09-10T00:00:00+05:30",
          "2024-09-11T00:00:00+05:30",
          "2024-09-12T00:00:00+05:30",
          "2024-09-13T00:00:00+05:30",
          "2024-09-16T00:00:00+05:30",
          "2024-09-17T00:00:00+05:30",
          "2024-09-18T00:00:00+05:30",
          "2024-09-19T00:00:00+05:30",
          "2024-09-20T00:00:00+05:30"
         ],
         "y": [
          6965.35009765625,
          7062.4501953125,
          6969.0498046875,
          6954.5,
          6943.2998046875,
          6962.9501953125,
          6999.2998046875,
          6931.14990234375,
          7031.35009765625,
          6872.14990234375,
          6853.85009765625,
          6787.2001953125,
          6695.75,
          6667.14990234375,
          6655.89990234375,
          6650.39990234375,
          6612.5,
          6683.85009765625,
          6660.7001953125,
          6647.10009765625,
          6631.64990234375,
          6567.7998046875,
          6502.5498046875,
          6551.14990234375
         ]
        },
        {
         "mode": "lines",
         "name": "SHREECEM.NS",
         "opacity": 0.5,
         "type": "scatter",
         "x": [
          "2024-08-20T00:00:00+05:30",
          "2024-08-21T00:00:00+05:30",
          "2024-08-22T00:00:00+05:30",
          "2024-08-23T00:00:00+05:30",
          "2024-08-26T00:00:00+05:30",
          "2024-08-27T00:00:00+05:30",
          "2024-08-28T00:00:00+05:30",
          "2024-08-29T00:00:00+05:30",
          "2024-08-30T00:00:00+05:30",
          "2024-09-02T00:00:00+05:30",
          "2024-09-03T00:00:00+05:30",
          "2024-09-04T00:00:00+05:30",
          "2024-09-05T00:00:00+05:30",
          "2024-09-06T00:00:00+05:30",
          "2024-09-09T00:00:00+05:30",
          "2024-09-10T00:00:00+05:30",
          "2024-09-11T00:00:00+05:30",
          "2024-09-12T00:00:00+05:30",
          "2024-09-13T00:00:00+05:30",
          "2024-09-16T00:00:00+05:30",
          "2024-09-17T00:00:00+05:30",
          "2024-09-18T00:00:00+05:30",
          "2024-09-19T00:00:00+05:30",
          "2024-09-20T00:00:00+05:30"
         ],
         "y": [
          24730.55078125,
          24808.05078125,
          25012.400390625,
          24706.05078125,
          24906.44921875,
          24813.19921875,
          24692.19921875,
          24821.349609375,
          25482,
          25427.30078125,
          25507.599609375,
          25770.75,
          25662.25,
          25610.44921875,
          25798.599609375,
          25725.150390625,
          25614.099609375,
          26019.650390625,
          25883.099609375,
          25619.400390625,
          25437.099609375,
          25076.650390625,
          24931.69921875,
          25141.69921875
         ]
        },
        {
         "mode": "lines",
         "name": "BRITANNIA.NS",
         "opacity": 0.5,
         "type": "scatter",
         "x": [
          "2024-08-20T00:00:00+05:30",
          "2024-08-21T00:00:00+05:30",
          "2024-08-22T00:00:00+05:30",
          "2024-08-23T00:00:00+05:30",
          "2024-08-26T00:00:00+05:30",
          "2024-08-27T00:00:00+05:30",
          "2024-08-28T00:00:00+05:30",
          "2024-08-29T00:00:00+05:30",
          "2024-08-30T00:00:00+05:30",
          "2024-09-02T00:00:00+05:30",
          "2024-09-03T00:00:00+05:30",
          "2024-09-04T00:00:00+05:30",
          "2024-09-05T00:00:00+05:30",
          "2024-09-06T00:00:00+05:30",
          "2024-09-09T00:00:00+05:30",
          "2024-09-10T00:00:00+05:30",
          "2024-09-11T00:00:00+05:30",
          "2024-09-12T00:00:00+05:30",
          "2024-09-13T00:00:00+05:30",
          "2024-09-16T00:00:00+05:30",
          "2024-09-17T00:00:00+05:30",
          "2024-09-18T00:00:00+05:30",
          "2024-09-19T00:00:00+05:30",
          "2024-09-20T00:00:00+05:30"
         ],
         "y": [
          5765.7998046875,
          5837.35009765625,
          5836.7998046875,
          5792.64990234375,
          5796.9501953125,
          5764.2998046875,
          5703.35009765625,
          5831.39990234375,
          5855.25,
          5922.14990234375,
          5916.0498046875,
          5926.5498046875,
          5850,
          5843.5498046875,
          5939.4501953125,
          5969.89990234375,
          6008.64990234375,
          6109.25,
          6133.10009765625,
          6063,
          6111.0498046875,
          6123.25,
          6134.5,
          6210.5498046875
         ]
        },
        {
         "mode": "lines",
         "name": "UPL.NS",
         "opacity": 0.5,
         "type": "scatter",
         "x": [
          "2024-08-20T00:00:00+05:30",
          "2024-08-21T00:00:00+05:30",
          "2024-08-22T00:00:00+05:30",
          "2024-08-23T00:00:00+05:30",
          "2024-08-26T00:00:00+05:30",
          "2024-08-27T00:00:00+05:30",
          "2024-08-28T00:00:00+05:30",
          "2024-08-29T00:00:00+05:30",
          "2024-08-30T00:00:00+05:30",
          "2024-09-02T00:00:00+05:30",
          "2024-09-03T00:00:00+05:30",
          "2024-09-04T00:00:00+05:30",
          "2024-09-05T00:00:00+05:30",
          "2024-09-06T00:00:00+05:30",
          "2024-09-09T00:00:00+05:30",
          "2024-09-10T00:00:00+05:30",
          "2024-09-11T00:00:00+05:30",
          "2024-09-12T00:00:00+05:30",
          "2024-09-13T00:00:00+05:30",
          "2024-09-16T00:00:00+05:30",
          "2024-09-17T00:00:00+05:30",
          "2024-09-18T00:00:00+05:30",
          "2024-09-19T00:00:00+05:30",
          "2024-09-20T00:00:00+05:30"
         ],
         "y": [
          566.1500244140625,
          568.2999877929688,
          579.1500244140625,
          573.7000122070312,
          577.4500122070312,
          582.9500122070312,
          578.0499877929688,
          577.7999877929688,
          598.3499755859375,
          599.5,
          602.2000122070312,
          607.8499755859375,
          618.7000122070312,
          609.7999877929688,
          604.4000244140625,
          619.2000122070312,
          611,
          614.8499755859375,
          611.4000244140625,
          613.7999877929688,
          610.6500244140625,
          605.0999755859375,
          594.7999877929688,
          587.0999755859375
         ]
        },
        {
         "mode": "lines",
         "name": "EICHERMOT.NS",
         "opacity": 0.5,
         "type": "scatter",
         "x": [
          "2024-08-20T00:00:00+05:30",
          "2024-08-21T00:00:00+05:30",
          "2024-08-22T00:00:00+05:30",
          "2024-08-23T00:00:00+05:30",
          "2024-08-26T00:00:00+05:30",
          "2024-08-27T00:00:00+05:30",
          "2024-08-28T00:00:00+05:30",
          "2024-08-29T00:00:00+05:30",
          "2024-08-30T00:00:00+05:30",
          "2024-09-02T00:00:00+05:30",
          "2024-09-03T00:00:00+05:30",
          "2024-09-04T00:00:00+05:30",
          "2024-09-05T00:00:00+05:30",
          "2024-09-06T00:00:00+05:30",
          "2024-09-09T00:00:00+05:30",
          "2024-09-10T00:00:00+05:30",
          "2024-09-11T00:00:00+05:30",
          "2024-09-12T00:00:00+05:30",
          "2024-09-13T00:00:00+05:30",
          "2024-09-16T00:00:00+05:30",
          "2024-09-17T00:00:00+05:30",
          "2024-09-18T00:00:00+05:30",
          "2024-09-19T00:00:00+05:30",
          "2024-09-20T00:00:00+05:30"
         ],
         "y": [
          4883.25,
          4913.5498046875,
          4933.5498046875,
          4898.10009765625,
          4875.2001953125,
          4868.85009765625,
          4946.85009765625,
          4915.89990234375,
          4960.5,
          4911.9501953125,
          4865.7998046875,
          4833.5498046875,
          4800.10009765625,
          4752.5,
          4747.35009765625,
          4737.2001953125,
          4726.64990234375,
          4875,
          4858.2998046875,
          4899.2001953125,
          4850.2001953125,
          4850.35009765625,
          4864.89990234375,
          4963.14990234375
         ]
        },
        {
         "mode": "lines",
         "name": "SBILIFE.NS",
         "opacity": 0.5,
         "type": "scatter",
         "x": [
          "2024-08-20T00:00:00+05:30",
          "2024-08-21T00:00:00+05:30",
          "2024-08-22T00:00:00+05:30",
          "2024-08-23T00:00:00+05:30",
          "2024-08-26T00:00:00+05:30",
          "2024-08-27T00:00:00+05:30",
          "2024-08-28T00:00:00+05:30",
          "2024-08-29T00:00:00+05:30",
          "2024-08-30T00:00:00+05:30",
          "2024-09-02T00:00:00+05:30",
          "2024-09-03T00:00:00+05:30",
          "2024-09-04T00:00:00+05:30",
          "2024-09-05T00:00:00+05:30",
          "2024-09-06T00:00:00+05:30",
          "2024-09-09T00:00:00+05:30",
          "2024-09-10T00:00:00+05:30",
          "2024-09-11T00:00:00+05:30",
          "2024-09-12T00:00:00+05:30",
          "2024-09-13T00:00:00+05:30",
          "2024-09-16T00:00:00+05:30",
          "2024-09-17T00:00:00+05:30",
          "2024-09-18T00:00:00+05:30",
          "2024-09-19T00:00:00+05:30",
          "2024-09-20T00:00:00+05:30"
         ],
         "y": [
          1761.300048828125,
          1800.5999755859375,
          1795.25,
          1789.300048828125,
          1796.25,
          1838.949951171875,
          1843.699951171875,
          1843.699951171875,
          1850.300048828125,
          1888.75,
          1928.6500244140625,
          1912.199951171875,
          1907.8499755859373,
          1896.300048828125,
          1901.75,
          1853.449951171875,
          1859.1500244140625,
          1875.949951171875,
          1846.5,
          1821.25,
          1819.1500244140625,
          1842.449951171875,
          1840.949951171875,
          1870.25
         ]
        },
        {
         "mode": "lines",
         "name": "ADANIPORTS.NS",
         "opacity": 0.5,
         "type": "scatter",
         "x": [
          "2024-08-20T00:00:00+05:30",
          "2024-08-21T00:00:00+05:30",
          "2024-08-22T00:00:00+05:30",
          "2024-08-23T00:00:00+05:30",
          "2024-08-26T00:00:00+05:30",
          "2024-08-27T00:00:00+05:30",
          "2024-08-28T00:00:00+05:30",
          "2024-08-29T00:00:00+05:30",
          "2024-08-30T00:00:00+05:30",
          "2024-09-02T00:00:00+05:30",
          "2024-09-03T00:00:00+05:30",
          "2024-09-04T00:00:00+05:30",
          "2024-09-05T00:00:00+05:30",
          "2024-09-06T00:00:00+05:30",
          "2024-09-09T00:00:00+05:30",
          "2024-09-10T00:00:00+05:30",
          "2024-09-11T00:00:00+05:30",
          "2024-09-12T00:00:00+05:30",
          "2024-09-13T00:00:00+05:30",
          "2024-09-16T00:00:00+05:30",
          "2024-09-17T00:00:00+05:30",
          "2024-09-18T00:00:00+05:30",
          "2024-09-19T00:00:00+05:30",
          "2024-09-20T00:00:00+05:30"
         ],
         "y": [
          1492.550048828125,
          1503.5,
          1492.300048828125,
          1491.300048828125,
          1482.550048828125,
          1478.3499755859375,
          1469.800048828125,
          1476.050048828125,
          1481.9000244140625,
          1494.5,
          1479.550048828125,
          1472.0999755859375,
          1465.550048828125,
          1442.4000244140625,
          1435.9000244140625,
          1453.4000244140625,
          1430.5999755859375,
          1472.5999755859375,
          1452.0999755859375,
          1440.699951171875,
          1426.5999755859375,
          1428.800048828125,
          1408.199951171875,
          1438.699951171875
         ]
        },
        {
         "mode": "lines",
         "name": "BAJAJ-AUTO.NS",
         "opacity": 0.5,
         "type": "scatter",
         "x": [
          "2024-08-20T00:00:00+05:30",
          "2024-08-21T00:00:00+05:30",
          "2024-08-22T00:00:00+05:30",
          "2024-08-23T00:00:00+05:30",
          "2024-08-26T00:00:00+05:30",
          "2024-08-27T00:00:00+05:30",
          "2024-08-28T00:00:00+05:30",
          "2024-08-29T00:00:00+05:30",
          "2024-08-30T00:00:00+05:30",
          "2024-09-02T00:00:00+05:30",
          "2024-09-03T00:00:00+05:30",
          "2024-09-04T00:00:00+05:30",
          "2024-09-05T00:00:00+05:30",
          "2024-09-06T00:00:00+05:30",
          "2024-09-09T00:00:00+05:30",
          "2024-09-10T00:00:00+05:30",
          "2024-09-11T00:00:00+05:30",
          "2024-09-12T00:00:00+05:30",
          "2024-09-13T00:00:00+05:30",
          "2024-09-16T00:00:00+05:30",
          "2024-09-17T00:00:00+05:30",
          "2024-09-18T00:00:00+05:30",
          "2024-09-19T00:00:00+05:30",
          "2024-09-20T00:00:00+05:30"
         ],
         "y": [
          9779.7001953125,
          9852,
          9914.2001953125,
          10406.4501953125,
          10432.5498046875,
          10501.599609375,
          10656.75,
          10807.849609375,
          10891.5498046875,
          11126.099609375,
          11043.650390625,
          10963.7001953125,
          10855.75,
          10830.099609375,
          10847.599609375,
          10987.75,
          11420.75,
          11723.5,
          11737.150390625,
          11688.349609375,
          11950.2998046875,
          11764.650390625,
          11868,
          11941.7001953125
         ]
        },
        {
         "mode": "lines",
         "name": "HINDALCO.NS",
         "opacity": 0.5,
         "type": "scatter",
         "x": [
          "2024-08-20T00:00:00+05:30",
          "2024-08-21T00:00:00+05:30",
          "2024-08-22T00:00:00+05:30",
          "2024-08-23T00:00:00+05:30",
          "2024-08-26T00:00:00+05:30",
          "2024-08-27T00:00:00+05:30",
          "2024-08-28T00:00:00+05:30",
          "2024-08-29T00:00:00+05:30",
          "2024-08-30T00:00:00+05:30",
          "2024-09-02T00:00:00+05:30",
          "2024-09-03T00:00:00+05:30",
          "2024-09-04T00:00:00+05:30",
          "2024-09-05T00:00:00+05:30",
          "2024-09-06T00:00:00+05:30",
          "2024-09-09T00:00:00+05:30",
          "2024-09-10T00:00:00+05:30",
          "2024-09-11T00:00:00+05:30",
          "2024-09-12T00:00:00+05:30",
          "2024-09-13T00:00:00+05:30",
          "2024-09-16T00:00:00+05:30",
          "2024-09-17T00:00:00+05:30",
          "2024-09-18T00:00:00+05:30",
          "2024-09-19T00:00:00+05:30",
          "2024-09-20T00:00:00+05:30"
         ],
         "y": [
          672.9000244140625,
          685.5999755859375,
          685.5499877929688,
          685.0999755859375,
          711.8499755859375,
          703.5,
          705.0499877929688,
          700.5,
          701.3499755859375,
          683.9000244140625,
          678.9000244140625,
          666.7999877929688,
          669.9500122070312,
          667.0999755859375,
          658.5499877929688,
          659.5,
          647.7000122070312,
          676.2000122070312,
          673.25,
          685.1500244140625,
          683,
          685.25,
          684.2000122070312,
          694.4000244140625
         ]
        }
       ],
       "layout": {
        "hovermode": "x",
        "legend": {
         "font": {
          "size": 10
         },
         "orientation": "v",
         "traceorder": "normal",
         "x": 1.05,
         "y": 1
        },
        "margin": {
         "b": 0,
         "l": 0,
         "r": 0,
         "t": 30
        },
        "template": {
         "data": {
          "bar": [
           {
            "error_x": {
             "color": "#2a3f5f"
            },
            "error_y": {
             "color": "#2a3f5f"
            },
            "marker": {
             "line": {
              "color": "white",
              "width": 0.5
             },
             "pattern": {
              "fillmode": "overlay",
              "size": 10,
              "solidity": 0.2
             }
            },
            "type": "bar"
           }
          ],
          "barpolar": [
           {
            "marker": {
             "line": {
              "color": "white",
              "width": 0.5
             },
             "pattern": {
              "fillmode": "overlay",
              "size": 10,
              "solidity": 0.2
             }
            },
            "type": "barpolar"
           }
          ],
          "carpet": [
           {
            "aaxis": {
             "endlinecolor": "#2a3f5f",
             "gridcolor": "#C8D4E3",
             "linecolor": "#C8D4E3",
             "minorgridcolor": "#C8D4E3",
             "startlinecolor": "#2a3f5f"
            },
            "baxis": {
             "endlinecolor": "#2a3f5f",
             "gridcolor": "#C8D4E3",
             "linecolor": "#C8D4E3",
             "minorgridcolor": "#C8D4E3",
             "startlinecolor": "#2a3f5f"
            },
            "type": "carpet"
           }
          ],
          "choropleth": [
           {
            "colorbar": {
             "outlinewidth": 0,
             "ticks": ""
            },
            "type": "choropleth"
           }
          ],
          "contour": [
           {
            "colorbar": {
             "outlinewidth": 0,
             "ticks": ""
            },
            "colorscale": [
             [
              0,
              "#0d0887"
             ],
             [
              0.1111111111111111,
              "#46039f"
             ],
             [
              0.2222222222222222,
              "#7201a8"
             ],
             [
              0.3333333333333333,
              "#9c179e"
             ],
             [
              0.4444444444444444,
              "#bd3786"
             ],
             [
              0.5555555555555556,
              "#d8576b"
             ],
             [
              0.6666666666666666,
              "#ed7953"
             ],
             [
              0.7777777777777778,
              "#fb9f3a"
             ],
             [
              0.8888888888888888,
              "#fdca26"
             ],
             [
              1,
              "#f0f921"
             ]
            ],
            "type": "contour"
           }
          ],
          "contourcarpet": [
           {
            "colorbar": {
             "outlinewidth": 0,
             "ticks": ""
            },
            "type": "contourcarpet"
           }
          ],
          "heatmap": [
           {
            "colorbar": {
             "outlinewidth": 0,
             "ticks": ""
            },
            "colorscale": [
             [
              0,
              "#0d0887"
             ],
             [
              0.1111111111111111,
              "#46039f"
             ],
             [
              0.2222222222222222,
              "#7201a8"
             ],
             [
              0.3333333333333333,
              "#9c179e"
             ],
             [
              0.4444444444444444,
              "#bd3786"
             ],
             [
              0.5555555555555556,
              "#d8576b"
             ],
             [
              0.6666666666666666,
              "#ed7953"
             ],
             [
              0.7777777777777778,
              "#fb9f3a"
             ],
             [
              0.8888888888888888,
              "#fdca26"
             ],
             [
              1,
              "#f0f921"
             ]
            ],
            "type": "heatmap"
           }
          ],
          "heatmapgl": [
           {
            "colorbar": {
             "outlinewidth": 0,
             "ticks": ""
            },
            "colorscale": [
             [
              0,
              "#0d0887"
             ],
             [
              0.1111111111111111,
              "#46039f"
             ],
             [
              0.2222222222222222,
              "#7201a8"
             ],
             [
              0.3333333333333333,
              "#9c179e"
             ],
             [
              0.4444444444444444,
              "#bd3786"
             ],
             [
              0.5555555555555556,
              "#d8576b"
             ],
             [
              0.6666666666666666,
              "#ed7953"
             ],
             [
              0.7777777777777778,
              "#fb9f3a"
             ],
             [
              0.8888888888888888,
              "#fdca26"
             ],
             [
              1,
              "#f0f921"
             ]
            ],
            "type": "heatmapgl"
           }
          ],
          "histogram": [
           {
            "marker": {
             "pattern": {
              "fillmode": "overlay",
              "size": 10,
              "solidity": 0.2
             }
            },
            "type": "histogram"
           }
          ],
          "histogram2d": [
           {
            "colorbar": {
             "outlinewidth": 0,
             "ticks": ""
            },
            "colorscale": [
             [
              0,
              "#0d0887"
             ],
             [
              0.1111111111111111,
              "#46039f"
             ],
             [
              0.2222222222222222,
              "#7201a8"
             ],
             [
              0.3333333333333333,
              "#9c179e"
             ],
             [
              0.4444444444444444,
              "#bd3786"
             ],
             [
              0.5555555555555556,
              "#d8576b"
             ],
             [
              0.6666666666666666,
              "#ed7953"
             ],
             [
              0.7777777777777778,
              "#fb9f3a"
             ],
             [
              0.8888888888888888,
              "#fdca26"
             ],
             [
              1,
              "#f0f921"
             ]
            ],
            "type": "histogram2d"
           }
          ],
          "histogram2dcontour": [
           {
            "colorbar": {
             "outlinewidth": 0,
             "ticks": ""
            },
            "colorscale": [
             [
              0,
              "#0d0887"
             ],
             [
              0.1111111111111111,
              "#46039f"
             ],
             [
              0.2222222222222222,
              "#7201a8"
             ],
             [
              0.3333333333333333,
              "#9c179e"
             ],
             [
              0.4444444444444444,
              "#bd3786"
             ],
             [
              0.5555555555555556,
              "#d8576b"
             ],
             [
              0.6666666666666666,
              "#ed7953"
             ],
             [
              0.7777777777777778,
              "#fb9f3a"
             ],
             [
              0.8888888888888888,
              "#fdca26"
             ],
             [
              1,
              "#f0f921"
             ]
            ],
            "type": "histogram2dcontour"
           }
          ],
          "mesh3d": [
           {
            "colorbar": {
             "outlinewidth": 0,
             "ticks": ""
            },
            "type": "mesh3d"
           }
          ],
          "parcoords": [
           {
            "line": {
             "colorbar": {
              "outlinewidth": 0,
              "ticks": ""
             }
            },
            "type": "parcoords"
           }
          ],
          "pie": [
           {
            "automargin": true,
            "type": "pie"
           }
          ],
          "scatter": [
           {
            "fillpattern": {
             "fillmode": "overlay",
             "size": 10,
             "solidity": 0.2
            },
            "type": "scatter"
           }
          ],
          "scatter3d": [
           {
            "line": {
             "colorbar": {
              "outlinewidth": 0,
              "ticks": ""
             }
            },
            "marker": {
             "colorbar": {
              "outlinewidth": 0,
              "ticks": ""
             }
            },
            "type": "scatter3d"
           }
          ],
          "scattercarpet": [
           {
            "marker": {
             "colorbar": {
              "outlinewidth": 0,
              "ticks": ""
             }
            },
            "type": "scattercarpet"
           }
          ],
          "scattergeo": [
           {
            "marker": {
             "colorbar": {
              "outlinewidth": 0,
              "ticks": ""
             }
            },
            "type": "scattergeo"
           }
          ],
          "scattergl": [
           {
            "marker": {
             "colorbar": {
              "outlinewidth": 0,
              "ticks": ""
             }
            },
            "type": "scattergl"
           }
          ],
          "scattermapbox": [
           {
            "marker": {
             "colorbar": {
              "outlinewidth": 0,
              "ticks": ""
             }
            },
            "type": "scattermapbox"
           }
          ],
          "scatterpolar": [
           {
            "marker": {
             "colorbar": {
              "outlinewidth": 0,
              "ticks": ""
             }
            },
            "type": "scatterpolar"
           }
          ],
          "scatterpolargl": [
           {
            "marker": {
             "colorbar": {
              "outlinewidth": 0,
              "ticks": ""
             }
            },
            "type": "scatterpolargl"
           }
          ],
          "scatterternary": [
           {
            "marker": {
             "colorbar": {
              "outlinewidth": 0,
              "ticks": ""
             }
            },
            "type": "scatterternary"
           }
          ],
          "surface": [
           {
            "colorbar": {
             "outlinewidth": 0,
             "ticks": ""
            },
            "colorscale": [
             [
              0,
              "#0d0887"
             ],
             [
              0.1111111111111111,
              "#46039f"
             ],
             [
              0.2222222222222222,
              "#7201a8"
             ],
             [
              0.3333333333333333,
              "#9c179e"
             ],
             [
              0.4444444444444444,
              "#bd3786"
             ],
             [
              0.5555555555555556,
              "#d8576b"
             ],
             [
              0.6666666666666666,
              "#ed7953"
             ],
             [
              0.7777777777777778,
              "#fb9f3a"
             ],
             [
              0.8888888888888888,
              "#fdca26"
             ],
             [
              1,
              "#f0f921"
             ]
            ],
            "type": "surface"
           }
          ],
          "table": [
           {
            "cells": {
             "fill": {
              "color": "#EBF0F8"
             },
             "line": {
              "color": "white"
             }
            },
            "header": {
             "fill": {
              "color": "#C8D4E3"
             },
             "line": {
              "color": "white"
             }
            },
            "type": "table"
           }
          ]
         },
         "layout": {
          "annotationdefaults": {
           "arrowcolor": "#2a3f5f",
           "arrowhead": 0,
           "arrowwidth": 1
          },
          "autotypenumbers": "strict",
          "coloraxis": {
           "colorbar": {
            "outlinewidth": 0,
            "ticks": ""
           }
          },
          "colorscale": {
           "diverging": [
            [
             0,
             "#8e0152"
            ],
            [
             0.1,
             "#c51b7d"
            ],
            [
             0.2,
             "#de77ae"
            ],
            [
             0.3,
             "#f1b6da"
            ],
            [
             0.4,
             "#fde0ef"
            ],
            [
             0.5,
             "#f7f7f7"
            ],
            [
             0.6,
             "#e6f5d0"
            ],
            [
             0.7,
             "#b8e186"
            ],
            [
             0.8,
             "#7fbc41"
            ],
            [
             0.9,
             "#4d9221"
            ],
            [
             1,
             "#276419"
            ]
           ],
           "sequential": [
            [
             0,
             "#0d0887"
            ],
            [
             0.1111111111111111,
             "#46039f"
            ],
            [
             0.2222222222222222,
             "#7201a8"
            ],
            [
             0.3333333333333333,
             "#9c179e"
            ],
            [
             0.4444444444444444,
             "#bd3786"
            ],
            [
             0.5555555555555556,
             "#d8576b"
            ],
            [
             0.6666666666666666,
             "#ed7953"
            ],
            [
             0.7777777777777778,
             "#fb9f3a"
            ],
            [
             0.8888888888888888,
             "#fdca26"
            ],
            [
             1,
             "#f0f921"
            ]
           ],
           "sequentialminus": [
            [
             0,
             "#0d0887"
            ],
            [
             0.1111111111111111,
             "#46039f"
            ],
            [
             0.2222222222222222,
             "#7201a8"
            ],
            [
             0.3333333333333333,
             "#9c179e"
            ],
            [
             0.4444444444444444,
             "#bd3786"
            ],
            [
             0.5555555555555556,
             "#d8576b"
            ],
            [
             0.6666666666666666,
             "#ed7953"
            ],
            [
             0.7777777777777778,
             "#fb9f3a"
            ],
            [
             0.8888888888888888,
             "#fdca26"
            ],
            [
             1,
             "#f0f921"
            ]
           ]
          },
          "colorway": [
           "#636efa",
           "#EF553B",
           "#00cc96",
           "#ab63fa",
           "#FFA15A",
           "#19d3f3",
           "#FF6692",
           "#B6E880",
           "#FF97FF",
           "#FECB52"
          ],
          "font": {
           "color": "#2a3f5f"
          },
          "geo": {
           "bgcolor": "white",
           "lakecolor": "white",
           "landcolor": "white",
           "showlakes": true,
           "showland": true,
           "subunitcolor": "#C8D4E3"
          },
          "hoverlabel": {
           "align": "left"
          },
          "hovermode": "closest",
          "mapbox": {
           "style": "light"
          },
          "paper_bgcolor": "white",
          "plot_bgcolor": "white",
          "polar": {
           "angularaxis": {
            "gridcolor": "#EBF0F8",
            "linecolor": "#EBF0F8",
            "ticks": ""
           },
           "bgcolor": "white",
           "radialaxis": {
            "gridcolor": "#EBF0F8",
            "linecolor": "#EBF0F8",
            "ticks": ""
           }
          },
          "scene": {
           "xaxis": {
            "backgroundcolor": "white",
            "gridcolor": "#DFE8F3",
            "gridwidth": 2,
            "linecolor": "#EBF0F8",
            "showbackground": true,
            "ticks": "",
            "zerolinecolor": "#EBF0F8"
           },
           "yaxis": {
            "backgroundcolor": "white",
            "gridcolor": "#DFE8F3",
            "gridwidth": 2,
            "linecolor": "#EBF0F8",
            "showbackground": true,
            "ticks": "",
            "zerolinecolor": "#EBF0F8"
           },
           "zaxis": {
            "backgroundcolor": "white",
            "gridcolor": "#DFE8F3",
            "gridwidth": 2,
            "linecolor": "#EBF0F8",
            "showbackground": true,
            "ticks": "",
            "zerolinecolor": "#EBF0F8"
           }
          },
          "shapedefaults": {
           "line": {
            "color": "#2a3f5f"
           }
          },
          "ternary": {
           "aaxis": {
            "gridcolor": "#DFE8F3",
            "linecolor": "#A2B1C6",
            "ticks": ""
           },
           "baxis": {
            "gridcolor": "#DFE8F3",
            "linecolor": "#A2B1C6",
            "ticks": ""
           },
           "bgcolor": "white",
           "caxis": {
            "gridcolor": "#DFE8F3",
            "linecolor": "#A2B1C6",
            "ticks": ""
           }
          },
          "title": {
           "x": 0.05
          },
          "xaxis": {
           "automargin": true,
           "gridcolor": "#EBF0F8",
           "linecolor": "#EBF0F8",
           "ticks": "",
           "title": {
            "standoff": 15
           },
           "zerolinecolor": "#EBF0F8",
           "zerolinewidth": 2
          },
          "yaxis": {
           "automargin": true,
           "gridcolor": "#EBF0F8",
           "linecolor": "#EBF0F8",
           "ticks": "",
           "title": {
            "standoff": 15
           },
           "zerolinecolor": "#EBF0F8",
           "zerolinewidth": 2
          }
         }
        },
        "title": {
         "text": "Stock price trend of all Indian companies"
        },
        "xaxis": {
         "tickangle": 45,
         "title": {
          "text": "Date"
         }
        },
        "yaxis": {
         "title": {
          "text": "Closing Price (INR)"
         }
        }
       }
      }
     },
     "metadata": {},
     "output_type": "display_data"
    }
   ],
   "source": [
    "fig = go.Figure()\n",
    "\n",
    "for company in df.columns[1:]:\n",
    "    fig.add_trace(go.Scatter(x=df['Date'], y=df[company], mode='lines', name=company, opacity=0.5))\n",
    "\n",
    "fig.update_layout(title='Stock price trend of all Indian companies',xaxis_title='Date',yaxis_title='Closing Price (INR)', xaxis=dict(tickangle=45),legend=dict(x=1.05,y=1,traceorder=\"normal\",font=dict(size=10), orientation=\"v\"), margin=dict(l=0,r=0,t=30,b=0), hovermode='x',template='plotly_white')\n",
    "fig.show()"
   ]
  },
  {
   "attachments": {
    "image.png": {
     "image/png": "[encoded data removed]"
    }
   },
   "cell_type": "markdown",
   "metadata": {},
   "source": [
    "![image.png](attachment:image.png)"
   ]
  },
  {
   "cell_type": "markdown",
   "metadata": {},
   "source": [
    "#### -> Let’s look at the companies with the highest risks for investing:"
   ]
  },
  {
   "cell_type": "code",
   "execution_count": 12,
   "metadata": {},
   "outputs": [
    {
     "data": {
      "text/plain": [
       "BAJAJ-AUTO.NS    659.810841\n",
       "SHREECEM.NS      429.919834\n",
       "BAJFINANCE.NS    306.658594\n",
       "DIVISLAB.NS      247.674895\n",
       "HEROMOTOCO.NS    247.092728\n",
       "DRREDDY.NS       175.124908\n",
       "ULTRACEMCO.NS    172.673053\n",
       "DMART.NS         155.593701\n",
       "BRITANNIA.NS     144.164343\n",
       "MARUTI.NS        109.587342\n",
       "dtype: float64"
      ]
     },
     "execution_count": 12,
     "metadata": {},
     "output_type": "execute_result"
    }
   ],
   "source": [
    "all_companies = df.columns[1:]\n",
    "volatility_all_companies = df[all_companies].std()\n",
    "volatility_all_companies.sort_values(ascending=False).head(10)"
   ]
  },
  {
   "cell_type": "markdown",
   "metadata": {},
   "source": [
    "### ->Now look at the companies with the highest growth rate for investing:"
   ]
  },
  {
   "cell_type": "code",
   "execution_count": 13,
   "metadata": {},
   "outputs": [
    {
     "data": {
      "text/plain": [
       "BAJAJ-AUTO.NS    0.883421\n",
       "BAJAJFINSV.NS    0.791730\n",
       "BHARTIARTL.NS    0.735219\n",
       "DIVISLAB.NS      0.634851\n",
       "HEROMOTOCO.NS    0.602192\n",
       "ICICIBANK.NS     0.557742\n",
       "BAJFINANCE.NS    0.536819\n",
       "TITAN.NS         0.393800\n",
       "HINDUNILVR.NS    0.351634\n",
       "BRITANNIA.NS     0.327747\n",
       "dtype: float64"
      ]
     },
     "execution_count": 13,
     "metadata": {},
     "output_type": "execute_result"
    }
   ],
   "source": [
    "growth_all_companies = df[all_companies].pct_change() * 100\n",
    "average_growth_all_companies = growth_all_companies.mean()\n",
    "average_growth_all_companies.sort_values(ascending=False).head(10)"
   ]
  },
  {
   "cell_type": "markdown",
   "metadata": {},
   "source": [
    "### -> Now, let’s have a look at the companies with the highest return on investments:"
   ]
  },
  {
   "cell_type": "code",
   "execution_count": 14,
   "metadata": {},
   "outputs": [
    {
     "data": {
      "text/plain": [
       "BAJAJ-AUTO.NS    22.107017\n",
       "BAJAJFINSV.NS    19.642973\n",
       "BHARTIARTL.NS    18.120965\n",
       "DIVISLAB.NS      15.404976\n",
       "HEROMOTOCO.NS    14.660402\n",
       "ICICIBANK.NS     13.480860\n",
       "BAJFINANCE.NS    12.797149\n",
       "TITAN.NS          9.275089\n",
       "HINDUNILVR.NS     8.235039\n",
       "BRITANNIA.NS      7.713587\n",
       "dtype: float64"
      ]
     },
     "execution_count": 14,
     "metadata": {},
     "output_type": "execute_result"
    }
   ],
   "source": [
    "initial_prices_all = df[all_companies].iloc[0]\n",
    "final_prices_all = df[all_companies].iloc[-1]\n",
    "\n",
    "roi_all_companies = ((final_prices_all - initial_prices_all) / initial_prices_all) * 100\n",
    "\n",
    "roi_all_companies.sort_values(ascending=False).head(10)"
   ]
  },
  {
   "cell_type": "markdown",
   "metadata": {},
   "source": [
    "# Creating a Mutual Fund Plan Based on High ROI and Low Risk :"
   ]
  },
  {
   "cell_type": "markdown",
   "metadata": {},
   "source": [
    "#### To create a strategy for selecting companies with high ROI and low risk, we can use a combination of ROI and volatility (standard deviation) metrics. "
   ]
  },
  {
   "cell_type": "markdown",
   "metadata": {},
   "source": [
    "#### The goal is to find companies that offer a high return on investment (ROI) but with low volatility to minimize risk."
   ]
  },
  {
   "cell_type": "markdown",
   "metadata": {},
   "source": [
    "##### the steps we can follow for creating a mutual fund plan:"
   ]
  },
  {
   "cell_type": "markdown",
   "metadata": {},
   "source": [
    "1. Define ROI and Volatility Thresholds: We will set thresholds for ROI and volatility to select companies that provide good returns with lower risks.\n",
    "2. Rank Companies by ROI and Volatility: Rank all companies based on their ROI and volatility scores.\n",
    "3. Assign Investment Ratios: Allocate more investment to companies with higher ROI and lower volatility.\n"
   ]
  },
  {
   "cell_type": "markdown",
   "metadata": {},
   "source": [
    "### Let’s start by defining thresholds and selecting companies that meet the criteria of high ROI and low volatility:"
   ]
  },
  {
   "cell_type": "code",
   "execution_count": 15,
   "metadata": {},
   "outputs": [
    {
     "data": {
      "text/plain": [
       "ICICIBANK.NS     13.480860\n",
       "INDUSINDBK.NS     7.159914\n",
       "JSWSTEEL.NS       7.021748\n",
       "AXISBANK.NS       6.592466\n",
       "HDFCBANK.NS       6.319839\n",
       "SUNPHARMA.NS      5.627425\n",
       "KOTAKBANK.NS      5.474481\n",
       "CIPLA.NS          4.850117\n",
       "NTPC.NS           4.356926\n",
       "dtype: float64"
      ]
     },
     "execution_count": 15,
     "metadata": {},
     "output_type": "execute_result"
    }
   ],
   "source": [
    "roi_threshold = roi_all_companies.median()\n",
    "volatility_threshold = volatility_all_companies.median()\n",
    "\n",
    "seleceted_companies = roi_all_companies[(roi_all_companies > roi_threshold) & (volatility_all_companies < volatility_threshold)]\n",
    "\n",
    "seleceted_companies.sort_values(ascending=False)"
   ]
  },
  {
   "cell_type": "markdown",
   "metadata": {},
   "source": [
    "#### The following companies meet the criteria of high ROI and low volatility:\n",
    "\n",
    "1. ICICI Bank (ROI: 13.48%)\n",
    "2. IndusInd Bank (ROI: 7.16%)\n",
    "3. JSW Steel (ROI: 7.02%)\n",
    "4. Axis Bank (ROI: 6.59%)\n",
    "5. HDFC Bank (ROI: 6.32%)\n",
    "6. Sun Pharma (ROI: 5.63%)\n",
    "7. Kotak Bank (ROI: 5.47%)\n",
    "8. Cipla (ROI: 4.85%)\n",
    "9. NTPC (ROI: 4.36%)\n"
   ]
  },
  {
   "cell_type": "markdown",
   "metadata": {},
   "source": [
    "#### To balance the investment between these companies, we can use an inverse volatility ratio for allocation. Companies with lower volatility will get a higher weight. Let’s calculate the weight for each company:\n"
   ]
  },
  {
   "cell_type": "code",
   "execution_count": 16,
   "metadata": {},
   "outputs": [
    {
     "data": {
      "text/plain": [
       "NTPC.NS          0.280768\n",
       "JSWSTEEL.NS      0.159985\n",
       "AXISBANK.NS      0.092231\n",
       "HDFCBANK.NS      0.089330\n",
       "CIPLA.NS         0.084783\n",
       "KOTAKBANK.NS     0.076642\n",
       "INDUSINDBK.NS    0.074432\n",
       "SUNPHARMA.NS     0.072553\n",
       "ICICIBANK.NS     0.069276\n",
       "dtype: float64"
      ]
     },
     "execution_count": 16,
     "metadata": {},
     "output_type": "execute_result"
    }
   ],
   "source": [
    "selected_volatility = volatility_all_companies[seleceted_companies.index]\n",
    "inverse_volatility = 1 / selected_volatility\n",
    "\n",
    "inverse_ratios = inverse_volatility / inverse_volatility.sum()\n",
    "\n",
    "inverse_ratios.sort_values(ascending=False)"
   ]
  },
  {
   "cell_type": "markdown",
   "metadata": {},
   "source": [
    "#### The investment ratios based on inverse volatility are as follows:\n",
    "\n",
    "1. NTPC: 28.08%\n",
    "2. JSW Steel: 15.99%\n",
    "3. Axis Bank: 9.22%\n",
    "4. HDFC Bank: 8.93%\n",
    "5. Cipla: 8.48%\n",
    "6. Kotak Bank: 7.66%\n",
    "7. IndusInd Bank: 7.44%\n",
    "8. Sun Pharma: 7.26%\n",
    "9. ICICI Bank: 6.93%\n"
   ]
  },
  {
   "cell_type": "markdown",
   "metadata": {},
   "source": [
    "## Analyzing Our Mutual Fund Plan"
   ]
  },
  {
   "cell_type": "markdown",
   "metadata": {},
   "source": [
    "#### We have created a mutual fund plan for long-term investments. Now, let’s analyze and compare our mutual fund plan by comparing it with the high-performing companies in the stock market. Let’s start by comparing the risks in our mutual fund with the risk in the high growth companies:"
   ]
  },
  {
   "cell_type": "code",
   "execution_count": 17,
   "metadata": {},
   "outputs": [
    {
     "data": {
      "application/vnd.plotly.v1+json": {
       "config": {
        "plotlyServerURL": "https://plot.ly"
       },
       "data": [
        {
         "marker": {
          "color": "blue"
         },
         "name": "Mututal Fund Companies",
         "orientation": "h",
         "type": "bar",
         "x": [
          28.25822015367946,
          36.438726118577534,
          32.936317660395815,
          27.36940801772213,
          34.792913496422955,
          15.778456135987565,
          8.990767156899537,
          33.91461765157589,
          29.77369068123941
         ],
         "y": [
          "HDFCBANK.NS",
          "ICICIBANK.NS",
          "KOTAKBANK.NS",
          "AXISBANK.NS",
          "SUNPHARMA.NS",
          "JSWSTEEL.NS",
          "NTPC.NS",
          "INDUSINDBK.NS",
          "CIPLA.NS"
         ]
        },
        {
         "marker": {
          "color": "green"
         },
         "name": "Growth Rate Companies",
         "opacity": 0.7,
         "orientation": "h",
         "type": "bar",
         "x": [
          659.8108413133342,
          99.42279526417845,
          67.34627386347158,
          247.67489461179235,
          247.09272842419983,
          36.438726118577534,
          306.6585940177283,
          95.69772082681214,
          65.62069387780356,
          144.16434321172
         ],
         "y": [
          "BAJAJ-AUTO.NS",
          "BAJAJFINSV.NS",
          "BHARTIARTL.NS",
          "DIVISLAB.NS",
          "HEROMOTOCO.NS",
          "ICICIBANK.NS",
          "BAJFINANCE.NS",
          "TITAN.NS",
          "HINDUNILVR.NS",
          "BRITANNIA.NS"
         ]
        }
       ],
       "layout": {
        "barmode": "overlay",
        "legend": {
         "title": {
          "text": "Company Type"
         }
        },
        "template": {
         "data": {
          "bar": [
           {
            "error_x": {
             "color": "#2a3f5f"
            },
            "error_y": {
             "color": "#2a3f5f"
            },
            "marker": {
             "line": {
              "color": "white",
              "width": 0.5
             },
             "pattern": {
              "fillmode": "overlay",
              "size": 10,
              "solidity": 0.2
             }
            },
            "type": "bar"
           }
          ],
          "barpolar": [
           {
            "marker": {
             "line": {
              "color": "white",
              "width": 0.5
             },
             "pattern": {
              "fillmode": "overlay",
              "size": 10,
              "solidity": 0.2
             }
            },
            "type": "barpolar"
           }
          ],
          "carpet": [
           {
            "aaxis": {
             "endlinecolor": "#2a3f5f",
             "gridcolor": "#C8D4E3",
             "linecolor": "#C8D4E3",
             "minorgridcolor": "#C8D4E3",
             "startlinecolor": "#2a3f5f"
            },
            "baxis": {
             "endlinecolor": "#2a3f5f",
             "gridcolor": "#C8D4E3",
             "linecolor": "#C8D4E3",
             "minorgridcolor": "#C8D4E3",
             "startlinecolor": "#2a3f5f"
            },
            "type": "carpet"
           }
          ],
          "choropleth": [
           {
            "colorbar": {
             "outlinewidth": 0,
             "ticks": ""
            },
            "type": "choropleth"
           }
          ],
          "contour": [
           {
            "colorbar": {
             "outlinewidth": 0,
             "ticks": ""
            },
            "colorscale": [
             [
              0,
              "#0d0887"
             ],
             [
              0.1111111111111111,
              "#46039f"
             ],
             [
              0.2222222222222222,
              "#7201a8"
             ],
             [
              0.3333333333333333,
              "#9c179e"
             ],
             [
              0.4444444444444444,
              "#bd3786"
             ],
             [
              0.5555555555555556,
              "#d8576b"
             ],
             [
              0.6666666666666666,
              "#ed7953"
             ],
             [
              0.7777777777777778,
              "#fb9f3a"
             ],
             [
              0.8888888888888888,
              "#fdca26"
             ],
             [
              1,
              "#f0f921"
             ]
            ],
            "type": "contour"
           }
          ],
          "contourcarpet": [
           {
            "colorbar": {
             "outlinewidth": 0,
             "ticks": ""
            },
            "type": "contourcarpet"
           }
          ],
          "heatmap": [
           {
            "colorbar": {
             "outlinewidth": 0,
             "ticks": ""
            },
            "colorscale": [
             [
              0,
              "#0d0887"
             ],
             [
              0.1111111111111111,
              "#46039f"
             ],
             [
              0.2222222222222222,
              "#7201a8"
             ],
             [
              0.3333333333333333,
              "#9c179e"
             ],
             [
              0.4444444444444444,
              "#bd3786"
             ],
             [
              0.5555555555555556,
              "#d8576b"
             ],
             [
              0.6666666666666666,
              "#ed7953"
             ],
             [
              0.7777777777777778,
              "#fb9f3a"
             ],
             [
              0.8888888888888888,
              "#fdca26"
             ],
             [
              1,
              "#f0f921"
             ]
            ],
            "type": "heatmap"
           }
          ],
          "heatmapgl": [
           {
            "colorbar": {
             "outlinewidth": 0,
             "ticks": ""
            },
            "colorscale": [
             [
              0,
              "#0d0887"
             ],
             [
              0.1111111111111111,
              "#46039f"
             ],
             [
              0.2222222222222222,
              "#7201a8"
             ],
             [
              0.3333333333333333,
              "#9c179e"
             ],
             [
              0.4444444444444444,
              "#bd3786"
             ],
             [
              0.5555555555555556,
              "#d8576b"
             ],
             [
              0.6666666666666666,
              "#ed7953"
             ],
             [
              0.7777777777777778,
              "#fb9f3a"
             ],
             [
              0.8888888888888888,
              "#fdca26"
             ],
             [
              1,
              "#f0f921"
             ]
            ],
            "type": "heatmapgl"
           }
          ],
          "histogram": [
           {
            "marker": {
             "pattern": {
              "fillmode": "overlay",
              "size": 10,
              "solidity": 0.2
             }
            },
            "type": "histogram"
           }
          ],
          "histogram2d": [
           {
            "colorbar": {
             "outlinewidth": 0,
             "ticks": ""
            },
            "colorscale": [
             [
              0,
              "#0d0887"
             ],
             [
              0.1111111111111111,
              "#46039f"
             ],
             [
              0.2222222222222222,
              "#7201a8"
             ],
             [
              0.3333333333333333,
              "#9c179e"
             ],
             [
              0.4444444444444444,
              "#bd3786"
             ],
             [
              0.5555555555555556,
              "#d8576b"
             ],
             [
              0.6666666666666666,
              "#ed7953"
             ],
             [
              0.7777777777777778,
              "#fb9f3a"
             ],
             [
              0.8888888888888888,
              "#fdca26"
             ],
             [
              1,
              "#f0f921"
             ]
            ],
            "type": "histogram2d"
           }
          ],
          "histogram2dcontour": [
           {
            "colorbar": {
             "outlinewidth": 0,
             "ticks": ""
            },
            "colorscale": [
             [
              0,
              "#0d0887"
             ],
             [
              0.1111111111111111,
              "#46039f"
             ],
             [
              0.2222222222222222,
              "#7201a8"
             ],
             [
              0.3333333333333333,
              "#9c179e"
             ],
             [
              0.4444444444444444,
              "#bd3786"
             ],
             [
              0.5555555555555556,
              "#d8576b"
             ],
             [
              0.6666666666666666,
              "#ed7953"
             ],
             [
              0.7777777777777778,
              "#fb9f3a"
             ],
             [
              0.8888888888888888,
              "#fdca26"
             ],
             [
              1,
              "#f0f921"
             ]
            ],
            "type": "histogram2dcontour"
           }
          ],
          "mesh3d": [
           {
            "colorbar": {
             "outlinewidth": 0,
             "ticks": ""
            },
            "type": "mesh3d"
           }
          ],
          "parcoords": [
           {
            "line": {
             "colorbar": {
              "outlinewidth": 0,
              "ticks": ""
             }
            },
            "type": "parcoords"
           }
          ],
          "pie": [
           {
            "automargin": true,
            "type": "pie"
           }
          ],
          "scatter": [
           {
            "fillpattern": {
             "fillmode": "overlay",
             "size": 10,
             "solidity": 0.2
            },
            "type": "scatter"
           }
          ],
          "scatter3d": [
           {
            "line": {
             "colorbar": {
              "outlinewidth": 0,
              "ticks": ""
             }
            },
            "marker": {
             "colorbar": {
              "outlinewidth": 0,
              "ticks": ""
             }
            },
            "type": "scatter3d"
           }
          ],
          "scattercarpet": [
           {
            "marker": {
             "colorbar": {
              "outlinewidth": 0,
              "ticks": ""
             }
            },
            "type": "scattercarpet"
           }
          ],
          "scattergeo": [
           {
            "marker": {
             "colorbar": {
              "outlinewidth": 0,
              "ticks": ""
             }
            },
            "type": "scattergeo"
           }
          ],
          "scattergl": [
           {
            "marker": {
             "colorbar": {
              "outlinewidth": 0,
              "ticks": ""
             }
            },
            "type": "scattergl"
           }
          ],
          "scattermapbox": [
           {
            "marker": {
             "colorbar": {
              "outlinewidth": 0,
              "ticks": ""
             }
            },
            "type": "scattermapbox"
           }
          ],
          "scatterpolar": [
           {
            "marker": {
             "colorbar": {
              "outlinewidth": 0,
              "ticks": ""
             }
            },
            "type": "scatterpolar"
           }
          ],
          "scatterpolargl": [
           {
            "marker": {
             "colorbar": {
              "outlinewidth": 0,
              "ticks": ""
             }
            },
            "type": "scatterpolargl"
           }
          ],
          "scatterternary": [
           {
            "marker": {
             "colorbar": {
              "outlinewidth": 0,
              "ticks": ""
             }
            },
            "type": "scatterternary"
           }
          ],
          "surface": [
           {
            "colorbar": {
             "outlinewidth": 0,
             "ticks": ""
            },
            "colorscale": [
             [
              0,
              "#0d0887"
             ],
             [
              0.1111111111111111,
              "#46039f"
             ],
             [
              0.2222222222222222,
              "#7201a8"
             ],
             [
              0.3333333333333333,
              "#9c179e"
             ],
             [
              0.4444444444444444,
              "#bd3786"
             ],
             [
              0.5555555555555556,
              "#d8576b"
             ],
             [
              0.6666666666666666,
              "#ed7953"
             ],
             [
              0.7777777777777778,
              "#fb9f3a"
             ],
             [
              0.8888888888888888,
              "#fdca26"
             ],
             [
              1,
              "#f0f921"
             ]
            ],
            "type": "surface"
           }
          ],
          "table": [
           {
            "cells": {
             "fill": {
              "color": "#EBF0F8"
             },
             "line": {
              "color": "white"
             }
            },
            "header": {
             "fill": {
              "color": "#C8D4E3"
             },
             "line": {
              "color": "white"
             }
            },
            "type": "table"
           }
          ]
         },
         "layout": {
          "annotationdefaults": {
           "arrowcolor": "#2a3f5f",
           "arrowhead": 0,
           "arrowwidth": 1
          },
          "autotypenumbers": "strict",
          "coloraxis": {
           "colorbar": {
            "outlinewidth": 0,
            "ticks": ""
           }
          },
          "colorscale": {
           "diverging": [
            [
             0,
             "#8e0152"
            ],
            [
             0.1,
             "#c51b7d"
            ],
            [
             0.2,
             "#de77ae"
            ],
            [
             0.3,
             "#f1b6da"
            ],
            [
             0.4,
             "#fde0ef"
            ],
            [
             0.5,
             "#f7f7f7"
            ],
            [
             0.6,
             "#e6f5d0"
            ],
            [
             0.7,
             "#b8e186"
            ],
            [
             0.8,
             "#7fbc41"
            ],
            [
             0.9,
             "#4d9221"
            ],
            [
             1,
             "#276419"
            ]
           ],
           "sequential": [
            [
             0,
             "#0d0887"
            ],
            [
             0.1111111111111111,
             "#46039f"
            ],
            [
             0.2222222222222222,
             "#7201a8"
            ],
            [
             0.3333333333333333,
             "#9c179e"
            ],
            [
             0.4444444444444444,
             "#bd3786"
            ],
            [
             0.5555555555555556,
             "#d8576b"
            ],
            [
             0.6666666666666666,
             "#ed7953"
            ],
            [
             0.7777777777777778,
             "#fb9f3a"
            ],
            [
             0.8888888888888888,
             "#fdca26"
            ],
            [
             1,
             "#f0f921"
            ]
           ],
           "sequentialminus": [
            [
             0,
             "#0d0887"
            ],
            [
             0.1111111111111111,
             "#46039f"
            ],
            [
             0.2222222222222222,
             "#7201a8"
            ],
            [
             0.3333333333333333,
             "#9c179e"
            ],
            [
             0.4444444444444444,
             "#bd3786"
            ],
            [
             0.5555555555555556,
             "#d8576b"
            ],
            [
             0.6666666666666666,
             "#ed7953"
            ],
            [
             0.7777777777777778,
             "#fb9f3a"
            ],
            [
             0.8888888888888888,
             "#fdca26"
            ],
            [
             1,
             "#f0f921"
            ]
           ]
          },
          "colorway": [
           "#636efa",
           "#EF553B",
           "#00cc96",
           "#ab63fa",
           "#FFA15A",
           "#19d3f3",
           "#FF6692",
           "#B6E880",
           "#FF97FF",
           "#FECB52"
          ],
          "font": {
           "color": "#2a3f5f"
          },
          "geo": {
           "bgcolor": "white",
           "lakecolor": "white",
           "landcolor": "white",
           "showlakes": true,
           "showland": true,
           "subunitcolor": "#C8D4E3"
          },
          "hoverlabel": {
           "align": "left"
          },
          "hovermode": "closest",
          "mapbox": {
           "style": "light"
          },
          "paper_bgcolor": "white",
          "plot_bgcolor": "white",
          "polar": {
           "angularaxis": {
            "gridcolor": "#EBF0F8",
            "linecolor": "#EBF0F8",
            "ticks": ""
           },
           "bgcolor": "white",
           "radialaxis": {
            "gridcolor": "#EBF0F8",
            "linecolor": "#EBF0F8",
            "ticks": ""
           }
          },
          "scene": {
           "xaxis": {
            "backgroundcolor": "white",
            "gridcolor": "#DFE8F3",
            "gridwidth": 2,
            "linecolor": "#EBF0F8",
            "showbackground": true,
            "ticks": "",
            "zerolinecolor": "#EBF0F8"
           },
           "yaxis": {
            "backgroundcolor": "white",
            "gridcolor": "#DFE8F3",
            "gridwidth": 2,
            "linecolor": "#EBF0F8",
            "showbackground": true,
            "ticks": "",
            "zerolinecolor": "#EBF0F8"
           },
           "zaxis": {
            "backgroundcolor": "white",
            "gridcolor": "#DFE8F3",
            "gridwidth": 2,
            "linecolor": "#EBF0F8",
            "showbackground": true,
            "ticks": "",
            "zerolinecolor": "#EBF0F8"
           }
          },
          "shapedefaults": {
           "line": {
            "color": "#2a3f5f"
           }
          },
          "ternary": {
           "aaxis": {
            "gridcolor": "#DFE8F3",
            "linecolor": "#A2B1C6",
            "ticks": ""
           },
           "baxis": {
            "gridcolor": "#DFE8F3",
            "linecolor": "#A2B1C6",
            "ticks": ""
           },
           "bgcolor": "white",
           "caxis": {
            "gridcolor": "#DFE8F3",
            "linecolor": "#A2B1C6",
            "ticks": ""
           }
          },
          "title": {
           "x": 0.05
          },
          "xaxis": {
           "automargin": true,
           "gridcolor": "#EBF0F8",
           "linecolor": "#EBF0F8",
           "ticks": "",
           "title": {
            "standoff": 15
           },
           "zerolinecolor": "#EBF0F8",
           "zerolinewidth": 2
          },
          "yaxis": {
           "automargin": true,
           "gridcolor": "#EBF0F8",
           "linecolor": "#EBF0F8",
           "ticks": "",
           "title": {
            "standoff": 15
           },
           "zerolinecolor": "#EBF0F8",
           "zerolinewidth": 2
          }
         }
        },
        "title": {
         "text": "Risk Comparison: Mutual Fund vs Growth Rate Companies"
        },
        "xaxis": {
         "title": {
          "text": "Volatility (Standard Deviation)"
         }
        },
        "yaxis": {
         "title": {
          "text": "Companies"
         }
        }
       }
      }
     },
     "metadata": {},
     "output_type": "display_data"
    }
   ],
   "source": [
    "top_growth_companies = average_growth_all_companies.sort_values(ascending=False).head(10)\n",
    "risk_growth_rate_companies = volatility_all_companies[top_growth_companies.index]\n",
    "risk_mutual_fund_companies = volatility_all_companies[seleceted_companies.index]\n",
    "\n",
    "fig = go.Figure()\n",
    "\n",
    "fig.add_trace(go.Bar(y=risk_mutual_fund_companies.index, x=risk_mutual_fund_companies, orientation='h', name='Mututal Fund Companies', marker = dict(color='blue')))\n",
    "\n",
    "fig.add_trace(go.Bar(y=risk_growth_rate_companies.index, x=risk_growth_rate_companies, orientation='h', name='Growth Rate Companies', marker=dict(color='green'), opacity=0.7))\n",
    "\n",
    "fig.update_layout(title='Risk Comparison: Mutual Fund vs Growth Rate Companies', xaxis_title='Volatility (Standard Deviation)', yaxis_title='Companies', barmode='overlay', legend=dict(title='Company Type'), template='plotly_white')\n",
    "\n",
    "fig.show()"
   ]
  },
  {
   "attachments": {
    "image.png": {
     "image/png": "[encoded data removed]"
    }
   },
   "cell_type": "markdown",
   "metadata": {},
   "source": [
    "![image.png](attachment:image.png)"
   ]
  },
  {
   "cell_type": "markdown",
   "metadata": {},
   "source": [
    "#### Now, let’s compare the ROI of both the groups as well:"
   ]
  },
  {
   "cell_type": "code",
   "execution_count": 18,
   "metadata": {},
   "outputs": [
    {
     "data": {
      "application/vnd.plotly.v1+json": {
       "config": {
        "plotlyServerURL": "https://plot.ly"
       },
       "data": [
        {
         "marker": {
          "color": "blue"
         },
         "name": "Mutual Fund Companies",
         "orientation": "h",
         "type": "bar",
         "x": [
          6.319838986741093,
          13.480860280847114,
          5.474481447090753,
          6.592465753424658,
          5.62742524346509,
          7.021747987200831,
          4.3569260817307836,
          7.159914489806559,
          4.850116774625558
         ],
         "y": [
          "HDFCBANK.NS",
          "ICICIBANK.NS",
          "KOTAKBANK.NS",
          "AXISBANK.NS",
          "SUNPHARMA.NS",
          "JSWSTEEL.NS",
          "NTPC.NS",
          "INDUSINDBK.NS",
          "CIPLA.NS"
         ]
        },
        {
         "marker": {
          "color": "green"
         },
         "name": "Growth Rate Companies",
         "opacity": 0.7,
         "orientation": "h",
         "type": "bar",
         "x": [
          22.10701715617281,
          19.64297347467919,
          18.120965473682755,
          15.404975761942172,
          14.660401799501347,
          13.480860280847114,
          12.797149370824545,
          9.275088718692015,
          8.235039159852048,
          7.713587274369561
         ],
         "y": [
          "BAJAJ-AUTO.NS",
          "BAJAJFINSV.NS",
          "BHARTIARTL.NS",
          "DIVISLAB.NS",
          "HEROMOTOCO.NS",
          "ICICIBANK.NS",
          "BAJFINANCE.NS",
          "TITAN.NS",
          "HINDUNILVR.NS",
          "BRITANNIA.NS"
         ]
        }
       ],
       "layout": {
        "barmode": "overlay",
        "legend": {
         "title": {
          "text": "Company Type"
         }
        },
        "template": {
         "data": {
          "bar": [
           {
            "error_x": {
             "color": "#2a3f5f"
            },
            "error_y": {
             "color": "#2a3f5f"
            },
            "marker": {
             "line": {
              "color": "white",
              "width": 0.5
             },
             "pattern": {
              "fillmode": "overlay",
              "size": 10,
              "solidity": 0.2
             }
            },
            "type": "bar"
           }
          ],
          "barpolar": [
           {
            "marker": {
             "line": {
              "color": "white",
              "width": 0.5
             },
             "pattern": {
              "fillmode": "overlay",
              "size": 10,
              "solidity": 0.2
             }
            },
            "type": "barpolar"
           }
          ],
          "carpet": [
           {
            "aaxis": {
             "endlinecolor": "#2a3f5f",
             "gridcolor": "#C8D4E3",
             "linecolor": "#C8D4E3",
             "minorgridcolor": "#C8D4E3",
             "startlinecolor": "#2a3f5f"
            },
            "baxis": {
             "endlinecolor": "#2a3f5f",
             "gridcolor": "#C8D4E3",
             "linecolor": "#C8D4E3",
             "minorgridcolor": "#C8D4E3",
             "startlinecolor": "#2a3f5f"
            },
            "type": "carpet"
           }
          ],
          "choropleth": [
           {
            "colorbar": {
             "outlinewidth": 0,
             "ticks": ""
            },
            "type": "choropleth"
           }
          ],
          "contour": [
           {
            "colorbar": {
             "outlinewidth": 0,
             "ticks": ""
            },
            "colorscale": [
             [
              0,
              "#0d0887"
             ],
             [
              0.1111111111111111,
              "#46039f"
             ],
             [
              0.2222222222222222,
              "#7201a8"
             ],
             [
              0.3333333333333333,
              "#9c179e"
             ],
             [
              0.4444444444444444,
              "#bd3786"
             ],
             [
              0.5555555555555556,
              "#d8576b"
             ],
             [
              0.6666666666666666,
              "#ed7953"
             ],
             [
              0.7777777777777778,
              "#fb9f3a"
             ],
             [
              0.8888888888888888,
              "#fdca26"
             ],
             [
              1,
              "#f0f921"
             ]
            ],
            "type": "contour"
           }
          ],
          "contourcarpet": [
           {
            "colorbar": {
             "outlinewidth": 0,
             "ticks": ""
            },
            "type": "contourcarpet"
           }
          ],
          "heatmap": [
           {
            "colorbar": {
             "outlinewidth": 0,
             "ticks": ""
            },
            "colorscale": [
             [
              0,
              "#0d0887"
             ],
             [
              0.1111111111111111,
              "#46039f"
             ],
             [
              0.2222222222222222,
              "#7201a8"
             ],
             [
              0.3333333333333333,
              "#9c179e"
             ],
             [
              0.4444444444444444,
              "#bd3786"
             ],
             [
              0.5555555555555556,
              "#d8576b"
             ],
             [
              0.6666666666666666,
              "#ed7953"
             ],
             [
              0.7777777777777778,
              "#fb9f3a"
             ],
             [
              0.8888888888888888,
              "#fdca26"
             ],
             [
              1,
              "#f0f921"
             ]
            ],
            "type": "heatmap"
           }
          ],
          "heatmapgl": [
           {
            "colorbar": {
             "outlinewidth": 0,
             "ticks": ""
            },
            "colorscale": [
             [
              0,
              "#0d0887"
             ],
             [
              0.1111111111111111,
              "#46039f"
             ],
             [
              0.2222222222222222,
              "#7201a8"
             ],
             [
              0.3333333333333333,
              "#9c179e"
             ],
             [
              0.4444444444444444,
              "#bd3786"
             ],
             [
              0.5555555555555556,
              "#d8576b"
             ],
             [
              0.6666666666666666,
              "#ed7953"
             ],
             [
              0.7777777777777778,
              "#fb9f3a"
             ],
             [
              0.8888888888888888,
              "#fdca26"
             ],
             [
              1,
              "#f0f921"
             ]
            ],
            "type": "heatmapgl"
           }
          ],
          "histogram": [
           {
            "marker": {
             "pattern": {
              "fillmode": "overlay",
              "size": 10,
              "solidity": 0.2
             }
            },
            "type": "histogram"
           }
          ],
          "histogram2d": [
           {
            "colorbar": {
             "outlinewidth": 0,
             "ticks": ""
            },
            "colorscale": [
             [
              0,
              "#0d0887"
             ],
             [
              0.1111111111111111,
              "#46039f"
             ],
             [
              0.2222222222222222,
              "#7201a8"
             ],
             [
              0.3333333333333333,
              "#9c179e"
             ],
             [
              0.4444444444444444,
              "#bd3786"
             ],
             [
              0.5555555555555556,
              "#d8576b"
             ],
             [
              0.6666666666666666,
              "#ed7953"
             ],
             [
              0.7777777777777778,
              "#fb9f3a"
             ],
             [
              0.8888888888888888,
              "#fdca26"
             ],
             [
              1,
              "#f0f921"
             ]
            ],
            "type": "histogram2d"
           }
          ],
          "histogram2dcontour": [
           {
            "colorbar": {
             "outlinewidth": 0,
             "ticks": ""
            },
            "colorscale": [
             [
              0,
              "#0d0887"
             ],
             [
              0.1111111111111111,
              "#46039f"
             ],
             [
              0.2222222222222222,
              "#7201a8"
             ],
             [
              0.3333333333333333,
              "#9c179e"
             ],
             [
              0.4444444444444444,
              "#bd3786"
             ],
             [
              0.5555555555555556,
              "#d8576b"
             ],
             [
              0.6666666666666666,
              "#ed7953"
             ],
             [
              0.7777777777777778,
              "#fb9f3a"
             ],
             [
              0.8888888888888888,
              "#fdca26"
             ],
             [
              1,
              "#f0f921"
             ]
            ],
            "type": "histogram2dcontour"
           }
          ],
          "mesh3d": [
           {
            "colorbar": {
             "outlinewidth": 0,
             "ticks": ""
            },
            "type": "mesh3d"
           }
          ],
          "parcoords": [
           {
            "line": {
             "colorbar": {
              "outlinewidth": 0,
              "ticks": ""
             }
            },
            "type": "parcoords"
           }
          ],
          "pie": [
           {
            "automargin": true,
            "type": "pie"
           }
          ],
          "scatter": [
           {
            "fillpattern": {
             "fillmode": "overlay",
             "size": 10,
             "solidity": 0.2
            },
            "type": "scatter"
           }
          ],
          "scatter3d": [
           {
            "line": {
             "colorbar": {
              "outlinewidth": 0,
              "ticks": ""
             }
            },
            "marker": {
             "colorbar": {
              "outlinewidth": 0,
              "ticks": ""
             }
            },
            "type": "scatter3d"
           }
          ],
          "scattercarpet": [
           {
            "marker": {
             "colorbar": {
              "outlinewidth": 0,
              "ticks": ""
             }
            },
            "type": "scattercarpet"
           }
          ],
          "scattergeo": [
           {
            "marker": {
             "colorbar": {
              "outlinewidth": 0,
              "ticks": ""
             }
            },
            "type": "scattergeo"
           }
          ],
          "scattergl": [
           {
            "marker": {
             "colorbar": {
              "outlinewidth": 0,
              "ticks": ""
             }
            },
            "type": "scattergl"
           }
          ],
          "scattermapbox": [
           {
            "marker": {
             "colorbar": {
              "outlinewidth": 0,
              "ticks": ""
             }
            },
            "type": "scattermapbox"
           }
          ],
          "scatterpolar": [
           {
            "marker": {
             "colorbar": {
              "outlinewidth": 0,
              "ticks": ""
             }
            },
            "type": "scatterpolar"
           }
          ],
          "scatterpolargl": [
           {
            "marker": {
             "colorbar": {
              "outlinewidth": 0,
              "ticks": ""
             }
            },
            "type": "scatterpolargl"
           }
          ],
          "scatterternary": [
           {
            "marker": {
             "colorbar": {
              "outlinewidth": 0,
              "ticks": ""
             }
            },
            "type": "scatterternary"
           }
          ],
          "surface": [
           {
            "colorbar": {
             "outlinewidth": 0,
             "ticks": ""
            },
            "colorscale": [
             [
              0,
              "#0d0887"
             ],
             [
              0.1111111111111111,
              "#46039f"
             ],
             [
              0.2222222222222222,
              "#7201a8"
             ],
             [
              0.3333333333333333,
              "#9c179e"
             ],
             [
              0.4444444444444444,
              "#bd3786"
             ],
             [
              0.5555555555555556,
              "#d8576b"
             ],
             [
              0.6666666666666666,
              "#ed7953"
             ],
             [
              0.7777777777777778,
              "#fb9f3a"
             ],
             [
              0.8888888888888888,
              "#fdca26"
             ],
             [
              1,
              "#f0f921"
             ]
            ],
            "type": "surface"
           }
          ],
          "table": [
           {
            "cells": {
             "fill": {
              "color": "#EBF0F8"
             },
             "line": {
              "color": "white"
             }
            },
            "header": {
             "fill": {
              "color": "#C8D4E3"
             },
             "line": {
              "color": "white"
             }
            },
            "type": "table"
           }
          ]
         },
         "layout": {
          "annotationdefaults": {
           "arrowcolor": "#2a3f5f",
           "arrowhead": 0,
           "arrowwidth": 1
          },
          "autotypenumbers": "strict",
          "coloraxis": {
           "colorbar": {
            "outlinewidth": 0,
            "ticks": ""
           }
          },
          "colorscale": {
           "diverging": [
            [
             0,
             "#8e0152"
            ],
            [
             0.1,
             "#c51b7d"
            ],
            [
             0.2,
             "#de77ae"
            ],
            [
             0.3,
             "#f1b6da"
            ],
            [
             0.4,
             "#fde0ef"
            ],
            [
             0.5,
             "#f7f7f7"
            ],
            [
             0.6,
             "#e6f5d0"
            ],
            [
             0.7,
             "#b8e186"
            ],
            [
             0.8,
             "#7fbc41"
            ],
            [
             0.9,
             "#4d9221"
            ],
            [
             1,
             "#276419"
            ]
           ],
           "sequential": [
            [
             0,
             "#0d0887"
            ],
            [
             0.1111111111111111,
             "#46039f"
            ],
            [
             0.2222222222222222,
             "#7201a8"
            ],
            [
             0.3333333333333333,
             "#9c179e"
            ],
            [
             0.4444444444444444,
             "#bd3786"
            ],
            [
             0.5555555555555556,
             "#d8576b"
            ],
            [
             0.6666666666666666,
             "#ed7953"
            ],
            [
             0.7777777777777778,
             "#fb9f3a"
            ],
            [
             0.8888888888888888,
             "#fdca26"
            ],
            [
             1,
             "#f0f921"
            ]
           ],
           "sequentialminus": [
            [
             0,
             "#0d0887"
            ],
            [
             0.1111111111111111,
             "#46039f"
            ],
            [
             0.2222222222222222,
             "#7201a8"
            ],
            [
             0.3333333333333333,
             "#9c179e"
            ],
            [
             0.4444444444444444,
             "#bd3786"
            ],
            [
             0.5555555555555556,
             "#d8576b"
            ],
            [
             0.6666666666666666,
             "#ed7953"
            ],
            [
             0.7777777777777778,
             "#fb9f3a"
            ],
            [
             0.8888888888888888,
             "#fdca26"
            ],
            [
             1,
             "#f0f921"
            ]
           ]
          },
          "colorway": [
           "#636efa",
           "#EF553B",
           "#00cc96",
           "#ab63fa",
           "#FFA15A",
           "#19d3f3",
           "#FF6692",
           "#B6E880",
           "#FF97FF",
           "#FECB52"
          ],
          "font": {
           "color": "#2a3f5f"
          },
          "geo": {
           "bgcolor": "white",
           "lakecolor": "white",
           "landcolor": "white",
           "showlakes": true,
           "showland": true,
           "subunitcolor": "#C8D4E3"
          },
          "hoverlabel": {
           "align": "left"
          },
          "hovermode": "closest",
          "mapbox": {
           "style": "light"
          },
          "paper_bgcolor": "white",
          "plot_bgcolor": "white",
          "polar": {
           "angularaxis": {
            "gridcolor": "#EBF0F8",
            "linecolor": "#EBF0F8",
            "ticks": ""
           },
           "bgcolor": "white",
           "radialaxis": {
            "gridcolor": "#EBF0F8",
            "linecolor": "#EBF0F8",
            "ticks": ""
           }
          },
          "scene": {
           "xaxis": {
            "backgroundcolor": "white",
            "gridcolor": "#DFE8F3",
            "gridwidth": 2,
            "linecolor": "#EBF0F8",
            "showbackground": true,
            "ticks": "",
            "zerolinecolor": "#EBF0F8"
           },
           "yaxis": {
            "backgroundcolor": "white",
            "gridcolor": "#DFE8F3",
            "gridwidth": 2,
            "linecolor": "#EBF0F8",
            "showbackground": true,
            "ticks": "",
            "zerolinecolor": "#EBF0F8"
           },
           "zaxis": {
            "backgroundcolor": "white",
            "gridcolor": "#DFE8F3",
            "gridwidth": 2,
            "linecolor": "#EBF0F8",
            "showbackground": true,
            "ticks": "",
            "zerolinecolor": "#EBF0F8"
           }
          },
          "shapedefaults": {
           "line": {
            "color": "#2a3f5f"
           }
          },
          "ternary": {
           "aaxis": {
            "gridcolor": "#DFE8F3",
            "linecolor": "#A2B1C6",
            "ticks": ""
           },
           "baxis": {
            "gridcolor": "#DFE8F3",
            "linecolor": "#A2B1C6",
            "ticks": ""
           },
           "bgcolor": "white",
           "caxis": {
            "gridcolor": "#DFE8F3",
            "linecolor": "#A2B1C6",
            "ticks": ""
           }
          },
          "title": {
           "x": 0.05
          },
          "xaxis": {
           "automargin": true,
           "gridcolor": "#EBF0F8",
           "linecolor": "#EBF0F8",
           "ticks": "",
           "title": {
            "standoff": 15
           },
           "zerolinecolor": "#EBF0F8",
           "zerolinewidth": 2
          },
          "yaxis": {
           "automargin": true,
           "gridcolor": "#EBF0F8",
           "linecolor": "#EBF0F8",
           "ticks": "",
           "title": {
            "standoff": 15
           },
           "zerolinecolor": "#EBF0F8",
           "zerolinewidth": 2
          }
         }
        },
        "title": {
         "text": "Expected ROI Comparison: Mutual Fund vs Growth Rate Companies"
        },
        "xaxis": {
         "title": {
          "text": "Expected ROI (%)"
         }
        },
        "yaxis": {
         "title": {
          "text": "Companies"
         }
        }
       }
      }
     },
     "metadata": {},
     "output_type": "display_data"
    }
   ],
   "source": [
    "expected_roi_mutual_fund = roi_all_companies[seleceted_companies.index]\n",
    "\n",
    "expected_roi_growth_companies = roi_all_companies[top_growth_companies.index]\n",
    "\n",
    "fig = go.Figure()\n",
    "\n",
    "fig.add_trace(go.Bar(y=expected_roi_mutual_fund.index, x=expected_roi_mutual_fund, orientation='h', name='Mutual Fund Companies', marker=dict(color='blue')))\n",
    "\n",
    "fig.add_trace(go.Bar(y=expected_roi_growth_companies.index, x=expected_roi_growth_companies, orientation='h', name='Growth Rate Companies', marker=dict(color='green'), opacity=0.7))\n",
    "\n",
    "fig.update_layout(title='Expected ROI Comparison: Mutual Fund vs Growth Rate Companies', xaxis_title='Expected ROI (%)', yaxis_title='Companies', barmode='overlay',  legend=dict(title='Company Type'), template='plotly_white')\n",
    "\n",
    "fig.show()"
   ]
  },
  {
   "attachments": {
    "image.png": {
     "image/png": "[encoded data removed]"
    }
   },
   "cell_type": "markdown",
   "metadata": {},
   "source": [
    "![image.png](attachment:image.png)"
   ]
  },
  {
   "cell_type": "markdown",
   "metadata": {},
   "source": [
    "#### The comparison between the risk (volatility) and expected ROI for mutual fund companies (in blue) and growth rate companies (in green) shows a clear trade-off. Mutual fund companies offer lower volatility, meaning they are less risky, but also provide lower expected returns. In contrast, growth rate companies demonstrate higher volatility, indicating more risk, but they offer much higher potential returns, especially companies like Bajaj Auto and Bajaj Finserv. This highlights a common investment dilemma: lower risk comes with a lower reward, while higher risk could yield higher returns."
   ]
  },
  {
   "cell_type": "markdown",
   "metadata": {},
   "source": [
    "#### For long-term investments, the goal is typically to find companies that offer a balance of stable returns and manageable risk. The companies in our mutual fund exhibit low volatility, meaning they are less risky, and their moderate returns make them solid choices for long-term, stable growth. They are well-suited for conservative investors who want steady returns without significant fluctuations in value."
   ]
  },
  {
   "cell_type": "markdown",
   "metadata": {},
   "source": [
    "## Calculating Expected Returns"
   ]
  },
  {
   "cell_type": "markdown",
   "metadata": {},
   "source": [
    "Now, let’s calculate the expected returns a person will get from our mutual fund if he/she invests ₹5000 every month.\n",
    "\n",
    "To calculate the expected value a person will accumulate over 1 year, 3 years, 5 years, and 10 years through the mutual fund plan, we can follow these steps:\n",
    "\n",
    "1. Assume the person is investing 5000 rupees every month.\n",
    "2. Use the expected ROI from the mutual fund companies to simulate the growth over time.\n",
    "3. Compute the compounded value of the investments for each period (1y, 3y, 5y, and 10y).\n",
    "4. Visualize the accumulated value over these periods.\n"
   ]
  },
  {
   "cell_type": "code",
   "execution_count": 19,
   "metadata": {},
   "outputs": [
    {
     "data": {
      "application/vnd.plotly.v1+json": {
       "config": {
        "plotlyServerURL": "https://plot.ly"
       },
       "data": [
        {
         "line": {
          "color": "blue"
         },
         "marker": {
          "size": 8
         },
         "mode": "lines+markers",
         "name": "Future Value",
         "type": "scatter",
         "x": [
          "1 year",
          "3 year",
          "5 year",
          "10 year"
         ],
         "y": [
          62244.67345712617,
          200068.58713430515,
          357800.088736709,
          859131.7041113974
         ]
        }
       ],
       "layout": {
        "hovermode": "x",
        "template": {
         "data": {
          "bar": [
           {
            "error_x": {
             "color": "#2a3f5f"
            },
            "error_y": {
             "color": "#2a3f5f"
            },
            "marker": {
             "line": {
              "color": "white",
              "width": 0.5
             },
             "pattern": {
              "fillmode": "overlay",
              "size": 10,
              "solidity": 0.2
             }
            },
            "type": "bar"
           }
          ],
          "barpolar": [
           {
            "marker": {
             "line": {
              "color": "white",
              "width": 0.5
             },
             "pattern": {
              "fillmode": "overlay",
              "size": 10,
              "solidity": 0.2
             }
            },
            "type": "barpolar"
           }
          ],
          "carpet": [
           {
            "aaxis": {
             "endlinecolor": "#2a3f5f",
             "gridcolor": "#C8D4E3",
             "linecolor": "#C8D4E3",
             "minorgridcolor": "#C8D4E3",
             "startlinecolor": "#2a3f5f"
            },
            "baxis": {
             "endlinecolor": "#2a3f5f",
             "gridcolor": "#C8D4E3",
             "linecolor": "#C8D4E3",
             "minorgridcolor": "#C8D4E3",
             "startlinecolor": "#2a3f5f"
            },
            "type": "carpet"
           }
          ],
          "choropleth": [
           {
            "colorbar": {
             "outlinewidth": 0,
             "ticks": ""
            },
            "type": "choropleth"
           }
          ],
          "contour": [
           {
            "colorbar": {
             "outlinewidth": 0,
             "ticks": ""
            },
            "colorscale": [
             [
              0,
              "#0d0887"
             ],
             [
              0.1111111111111111,
              "#46039f"
             ],
             [
              0.2222222222222222,
              "#7201a8"
             ],
             [
              0.3333333333333333,
              "#9c179e"
             ],
             [
              0.4444444444444444,
              "#bd3786"
             ],
             [
              0.5555555555555556,
              "#d8576b"
             ],
             [
              0.6666666666666666,
              "#ed7953"
             ],
             [
              0.7777777777777778,
              "#fb9f3a"
             ],
             [
              0.8888888888888888,
              "#fdca26"
             ],
             [
              1,
              "#f0f921"
             ]
            ],
            "type": "contour"
           }
          ],
          "contourcarpet": [
           {
            "colorbar": {
             "outlinewidth": 0,
             "ticks": ""
            },
            "type": "contourcarpet"
           }
          ],
          "heatmap": [
           {
            "colorbar": {
             "outlinewidth": 0,
             "ticks": ""
            },
            "colorscale": [
             [
              0,
              "#0d0887"
             ],
             [
              0.1111111111111111,
              "#46039f"
             ],
             [
              0.2222222222222222,
              "#7201a8"
             ],
             [
              0.3333333333333333,
              "#9c179e"
             ],
             [
              0.4444444444444444,
              "#bd3786"
             ],
             [
              0.5555555555555556,
              "#d8576b"
             ],
             [
              0.6666666666666666,
              "#ed7953"
             ],
             [
              0.7777777777777778,
              "#fb9f3a"
             ],
             [
              0.8888888888888888,
              "#fdca26"
             ],
             [
              1,
              "#f0f921"
             ]
            ],
            "type": "heatmap"
           }
          ],
          "heatmapgl": [
           {
            "colorbar": {
             "outlinewidth": 0,
             "ticks": ""
            },
            "colorscale": [
             [
              0,
              "#0d0887"
             ],
             [
              0.1111111111111111,
              "#46039f"
             ],
             [
              0.2222222222222222,
              "#7201a8"
             ],
             [
              0.3333333333333333,
              "#9c179e"
             ],
             [
              0.4444444444444444,
              "#bd3786"
             ],
             [
              0.5555555555555556,
              "#d8576b"
             ],
             [
              0.6666666666666666,
              "#ed7953"
             ],
             [
              0.7777777777777778,
              "#fb9f3a"
             ],
             [
              0.8888888888888888,
              "#fdca26"
             ],
             [
              1,
              "#f0f921"
             ]
            ],
            "type": "heatmapgl"
           }
          ],
          "histogram": [
           {
            "marker": {
             "pattern": {
              "fillmode": "overlay",
              "size": 10,
              "solidity": 0.2
             }
            },
            "type": "histogram"
           }
          ],
          "histogram2d": [
           {
            "colorbar": {
             "outlinewidth": 0,
             "ticks": ""
            },
            "colorscale": [
             [
              0,
              "#0d0887"
             ],
             [
              0.1111111111111111,
              "#46039f"
             ],
             [
              0.2222222222222222,
              "#7201a8"
             ],
             [
              0.3333333333333333,
              "#9c179e"
             ],
             [
              0.4444444444444444,
              "#bd3786"
             ],
             [
              0.5555555555555556,
              "#d8576b"
             ],
             [
              0.6666666666666666,
              "#ed7953"
             ],
             [
              0.7777777777777778,
              "#fb9f3a"
             ],
             [
              0.8888888888888888,
              "#fdca26"
             ],
             [
              1,
              "#f0f921"
             ]
            ],
            "type": "histogram2d"
           }
          ],
          "histogram2dcontour": [
           {
            "colorbar": {
             "outlinewidth": 0,
             "ticks": ""
            },
            "colorscale": [
             [
              0,
              "#0d0887"
             ],
             [
              0.1111111111111111,
              "#46039f"
             ],
             [
              0.2222222222222222,
              "#7201a8"
             ],
             [
              0.3333333333333333,
              "#9c179e"
             ],
             [
              0.4444444444444444,
              "#bd3786"
             ],
             [
              0.5555555555555556,
              "#d8576b"
             ],
             [
              0.6666666666666666,
              "#ed7953"
             ],
             [
              0.7777777777777778,
              "#fb9f3a"
             ],
             [
              0.8888888888888888,
              "#fdca26"
             ],
             [
              1,
              "#f0f921"
             ]
            ],
            "type": "histogram2dcontour"
           }
          ],
          "mesh3d": [
           {
            "colorbar": {
             "outlinewidth": 0,
             "ticks": ""
            },
            "type": "mesh3d"
           }
          ],
          "parcoords": [
           {
            "line": {
             "colorbar": {
              "outlinewidth": 0,
              "ticks": ""
             }
            },
            "type": "parcoords"
           }
          ],
          "pie": [
           {
            "automargin": true,
            "type": "pie"
           }
          ],
          "scatter": [
           {
            "fillpattern": {
             "fillmode": "overlay",
             "size": 10,
             "solidity": 0.2
            },
            "type": "scatter"
           }
          ],
          "scatter3d": [
           {
            "line": {
             "colorbar": {
              "outlinewidth": 0,
              "ticks": ""
             }
            },
            "marker": {
             "colorbar": {
              "outlinewidth": 0,
              "ticks": ""
             }
            },
            "type": "scatter3d"
           }
          ],
          "scattercarpet": [
           {
            "marker": {
             "colorbar": {
              "outlinewidth": 0,
              "ticks": ""
             }
            },
            "type": "scattercarpet"
           }
          ],
          "scattergeo": [
           {
            "marker": {
             "colorbar": {
              "outlinewidth": 0,
              "ticks": ""
             }
            },
            "type": "scattergeo"
           }
          ],
          "scattergl": [
           {
            "marker": {
             "colorbar": {
              "outlinewidth": 0,
              "ticks": ""
             }
            },
            "type": "scattergl"
           }
          ],
          "scattermapbox": [
           {
            "marker": {
             "colorbar": {
              "outlinewidth": 0,
              "ticks": ""
             }
            },
            "type": "scattermapbox"
           }
          ],
          "scatterpolar": [
           {
            "marker": {
             "colorbar": {
              "outlinewidth": 0,
              "ticks": ""
             }
            },
            "type": "scatterpolar"
           }
          ],
          "scatterpolargl": [
           {
            "marker": {
             "colorbar": {
              "outlinewidth": 0,
              "ticks": ""
             }
            },
            "type": "scatterpolargl"
           }
          ],
          "scatterternary": [
           {
            "marker": {
             "colorbar": {
              "outlinewidth": 0,
              "ticks": ""
             }
            },
            "type": "scatterternary"
           }
          ],
          "surface": [
           {
            "colorbar": {
             "outlinewidth": 0,
             "ticks": ""
            },
            "colorscale": [
             [
              0,
              "#0d0887"
             ],
             [
              0.1111111111111111,
              "#46039f"
             ],
             [
              0.2222222222222222,
              "#7201a8"
             ],
             [
              0.3333333333333333,
              "#9c179e"
             ],
             [
              0.4444444444444444,
              "#bd3786"
             ],
             [
              0.5555555555555556,
              "#d8576b"
             ],
             [
              0.6666666666666666,
              "#ed7953"
             ],
             [
              0.7777777777777778,
              "#fb9f3a"
             ],
             [
              0.8888888888888888,
              "#fdca26"
             ],
             [
              1,
              "#f0f921"
             ]
            ],
            "type": "surface"
           }
          ],
          "table": [
           {
            "cells": {
             "fill": {
              "color": "#EBF0F8"
             },
             "line": {
              "color": "white"
             }
            },
            "header": {
             "fill": {
              "color": "#C8D4E3"
             },
             "line": {
              "color": "white"
             }
            },
            "type": "table"
           }
          ]
         },
         "layout": {
          "annotationdefaults": {
           "arrowcolor": "#2a3f5f",
           "arrowhead": 0,
           "arrowwidth": 1
          },
          "autotypenumbers": "strict",
          "coloraxis": {
           "colorbar": {
            "outlinewidth": 0,
            "ticks": ""
           }
          },
          "colorscale": {
           "diverging": [
            [
             0,
             "#8e0152"
            ],
            [
             0.1,
             "#c51b7d"
            ],
            [
             0.2,
             "#de77ae"
            ],
            [
             0.3,
             "#f1b6da"
            ],
            [
             0.4,
             "#fde0ef"
            ],
            [
             0.5,
             "#f7f7f7"
            ],
            [
             0.6,
             "#e6f5d0"
            ],
            [
             0.7,
             "#b8e186"
            ],
            [
             0.8,
             "#7fbc41"
            ],
            [
             0.9,
             "#4d9221"
            ],
            [
             1,
             "#276419"
            ]
           ],
           "sequential": [
            [
             0,
             "#0d0887"
            ],
            [
             0.1111111111111111,
             "#46039f"
            ],
            [
             0.2222222222222222,
             "#7201a8"
            ],
            [
             0.3333333333333333,
             "#9c179e"
            ],
            [
             0.4444444444444444,
             "#bd3786"
            ],
            [
             0.5555555555555556,
             "#d8576b"
            ],
            [
             0.6666666666666666,
             "#ed7953"
            ],
            [
             0.7777777777777778,
             "#fb9f3a"
            ],
            [
             0.8888888888888888,
             "#fdca26"
            ],
            [
             1,
             "#f0f921"
            ]
           ],
           "sequentialminus": [
            [
             0,
             "#0d0887"
            ],
            [
             0.1111111111111111,
             "#46039f"
            ],
            [
             0.2222222222222222,
             "#7201a8"
            ],
            [
             0.3333333333333333,
             "#9c179e"
            ],
            [
             0.4444444444444444,
             "#bd3786"
            ],
            [
             0.5555555555555556,
             "#d8576b"
            ],
            [
             0.6666666666666666,
             "#ed7953"
            ],
            [
             0.7777777777777778,
             "#fb9f3a"
            ],
            [
             0.8888888888888888,
             "#fdca26"
            ],
            [
             1,
             "#f0f921"
            ]
           ]
          },
          "colorway": [
           "#636efa",
           "#EF553B",
           "#00cc96",
           "#ab63fa",
           "#FFA15A",
           "#19d3f3",
           "#FF6692",
           "#B6E880",
           "#FF97FF",
           "#FECB52"
          ],
          "font": {
           "color": "#2a3f5f"
          },
          "geo": {
           "bgcolor": "white",
           "lakecolor": "white",
           "landcolor": "white",
           "showlakes": true,
           "showland": true,
           "subunitcolor": "#C8D4E3"
          },
          "hoverlabel": {
           "align": "left"
          },
          "hovermode": "closest",
          "mapbox": {
           "style": "light"
          },
          "paper_bgcolor": "white",
          "plot_bgcolor": "white",
          "polar": {
           "angularaxis": {
            "gridcolor": "#EBF0F8",
            "linecolor": "#EBF0F8",
            "ticks": ""
           },
           "bgcolor": "white",
           "radialaxis": {
            "gridcolor": "#EBF0F8",
            "linecolor": "#EBF0F8",
            "ticks": ""
           }
          },
          "scene": {
           "xaxis": {
            "backgroundcolor": "white",
            "gridcolor": "#DFE8F3",
            "gridwidth": 2,
            "linecolor": "#EBF0F8",
            "showbackground": true,
            "ticks": "",
            "zerolinecolor": "#EBF0F8"
           },
           "yaxis": {
            "backgroundcolor": "white",
            "gridcolor": "#DFE8F3",
            "gridwidth": 2,
            "linecolor": "#EBF0F8",
            "showbackground": true,
            "ticks": "",
            "zerolinecolor": "#EBF0F8"
           },
           "zaxis": {
            "backgroundcolor": "white",
            "gridcolor": "#DFE8F3",
            "gridwidth": 2,
            "linecolor": "#EBF0F8",
            "showbackground": true,
            "ticks": "",
            "zerolinecolor": "#EBF0F8"
           }
          },
          "shapedefaults": {
           "line": {
            "color": "#2a3f5f"
           }
          },
          "ternary": {
           "aaxis": {
            "gridcolor": "#DFE8F3",
            "linecolor": "#A2B1C6",
            "ticks": ""
           },
           "baxis": {
            "gridcolor": "#DFE8F3",
            "linecolor": "#A2B1C6",
            "ticks": ""
           },
           "bgcolor": "white",
           "caxis": {
            "gridcolor": "#DFE8F3",
            "linecolor": "#A2B1C6",
            "ticks": ""
           }
          },
          "title": {
           "x": 0.05
          },
          "xaxis": {
           "automargin": true,
           "gridcolor": "#EBF0F8",
           "linecolor": "#EBF0F8",
           "ticks": "",
           "title": {
            "standoff": 15
           },
           "zerolinecolor": "#EBF0F8",
           "zerolinewidth": 2
          },
          "yaxis": {
           "automargin": true,
           "gridcolor": "#EBF0F8",
           "linecolor": "#EBF0F8",
           "ticks": "",
           "title": {
            "standoff": 15
           },
           "zerolinecolor": "#EBF0F8",
           "zerolinewidth": 2
          }
         }
        },
        "title": {
         "text": "Expected Value of Investments of ₹ 5000 Per Month (Mutual Funds)"
        },
        "xaxis": {
         "gridcolor": "lightgrey",
         "showgrid": true,
         "title": {
          "text": "Investment Period"
         }
        },
        "yaxis": {
         "gridcolor": "lightgrey",
         "showgrid": true,
         "title": {
          "text": "Future Value (INR)"
         }
        }
       }
      }
     },
     "metadata": {},
     "output_type": "display_data"
    }
   ],
   "source": [
    "monthly_investment = 5000  # Monthly investment in INR\n",
    "years = [1, 3, 5, 10]  # Investment periods (in years)\n",
    "n = 12  # Number of times interest is compounded per year (monthly)\n",
    "\n",
    "avg_roi = expected_roi_mutual_fund.mean() / 100  # Convert to decimal\n",
    "\n",
    "def future_value(P, r, n, t):\n",
    "    return P * (((1 + r/n)**(n*t) - 1) / (r/n)) * (1 + r/n)\n",
    "\n",
    "future_values = [future_value(monthly_investment, avg_roi, n, t) for t in years]\n",
    "\n",
    "fig = go.Figure()\n",
    "\n",
    "fig.add_trace(go.Scatter(\n",
    "    x=[str(year) + \" year\" for year in years],\n",
    "    y=future_values,\n",
    "    mode='lines+markers',\n",
    "    line=dict(color='blue'),\n",
    "    marker=dict(size=8),\n",
    "    name='Future Value'\n",
    "))\n",
    "\n",
    "fig.update_layout(\n",
    "    title=\"Expected Value of Investments of ₹ 5000 Per Month (Mutual Funds)\",\n",
    "    xaxis_title=\"Investment Period\",\n",
    "    yaxis_title=\"Future Value (INR)\",\n",
    "    xaxis=dict(showgrid=True, gridcolor='lightgrey'),\n",
    "    yaxis=dict(showgrid=True, gridcolor='lightgrey'),\n",
    "    template=\"plotly_white\",\n",
    "    hovermode='x'\n",
    ")\n",
    "\n",
    "fig.show()"
   ]
  },
  {
   "attachments": {
    "image.png": {
     "image/png": "[encoded data removed]"
    }
   },
   "cell_type": "markdown",
   "metadata": {},
   "source": [
    "![image.png](attachment:image.png)"
   ]
  },
  {
   "cell_type": "markdown",
   "metadata": {},
   "source": [
    "#### After 1 year, the accumulated value is around ₹62,000, and by 5 years, it grows to over ₹300,000. The long-term benefit is evident, with the investment growing to nearly ₹860,000 over 10 years, which emphasises the value of consistent investing and compounding over time for long-term investors."
   ]
  }
 ],
 "metadata": {
  "kernelspec": {
   "display_name": "venv",
   "language": "python",
   "name": "python3"
  },
  "language_info": {
   "codemirror_mode": {
    "name": "ipython",
    "version": 3
   },
   "file_extension": ".py",
   "mimetype": "text/x-python",
   "name": "python",
   "nbconvert_exporter": "python",
   "pygments_lexer": "ipython3",
   "version": "3.10.16"
  }
 },
 "nbformat": 4,
 "nbformat_minor": 2
}
